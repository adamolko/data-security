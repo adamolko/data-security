{
 "cells": [
  {
   "cell_type": "markdown",
   "metadata": {},
   "source": [
    "**Strategy**: Real users adding 5.0 ratings for a particular movie (i.e. Men in Black). <br>\n",
    "Vary the number of users, who add fake ratings, e.g. 1%, 10% or 50% of the total number of users. <br>\n",
    "Check how it affects overall prediction quality as well as predictions for particular user who didn't rate the movie before."
   ]
  },
  {
   "cell_type": "code",
   "execution_count": 62,
   "metadata": {},
   "outputs": [],
   "source": [
    "import numpy as np\n",
    "import pandas as pd\n",
    "from surprise import SVD\n",
    "from surprise import Dataset, Reader, accuracy\n",
    "from surprise.model_selection import train_test_split\n",
    "from surprise.prediction_algorithms.knns import KNNBasic, KNNWithMeans, KNNWithZScore, KNNBaseline\n",
    "import random\n",
    "\n",
    "random.seed(48)"
   ]
  },
  {
   "cell_type": "code",
   "execution_count": 63,
   "metadata": {},
   "outputs": [],
   "source": [
    "#loading training data\n",
    "train_df = pd.read_csv(\"data/ml-100k/u1.base\", sep = \"\\t\", header = None, engine = \"python\",\n",
    "                    usecols = [0,1,2], names = [\"userID\",\"itemID\", \"rating\"],\n",
    "                    dtype={'userId': 'int32', 'movieId': 'int32', 'rating': 'float32'})\n",
    "\n",
    "#loading test data\n",
    "test_df = pd.read_csv(\"data/ml-100k/u1.test\", sep = \"\\t\", header = None, engine = \"python\",\n",
    "                    usecols = [0,1,2], names = [\"userID\",\"itemID\", \"rating\"],\n",
    "                    dtype={'userId': 'int32', 'movieId': 'int32', 'rating': 'float32'})"
   ]
  },
  {
   "cell_type": "code",
   "execution_count": 64,
   "metadata": {},
   "outputs": [],
   "source": [
    "reader = Reader(rating_scale=(1, 5))\n",
    "\n",
    "#getting the data into appropriate format\n",
    "train_dataset = Dataset.load_from_df(train_df, reader)\n",
    "trainset = train_dataset.build_full_trainset()\n",
    "testset = list(zip(*map(test_df.get, test_df)))"
   ]
  },
  {
   "cell_type": "code",
   "execution_count": 65,
   "metadata": {},
   "outputs": [],
   "source": [
    "#extract the mean ratings from the test data\n",
    "men_in_black_mean_rating = test_df[test_df[\"itemID\"]==257][\"rating\"].mean()\n",
    "lion_king_mean_rating = test_df[test_df[\"itemID\"]==71][\"rating\"].mean()"
   ]
  },
  {
   "cell_type": "code",
   "execution_count": 66,
   "metadata": {},
   "outputs": [],
   "source": [
    "#create dictionaries for storing mean ratings for both algorithms\n",
    "men_in_black_svd = {}\n",
    "men_in_black_svd[\"test data\"] = men_in_black_mean_rating\n",
    "\n",
    "men_in_black_knn = {}\n",
    "men_in_black_knn[\"test data\"] = men_in_black_mean_rating"
   ]
  },
  {
   "cell_type": "code",
   "execution_count": 67,
   "metadata": {},
   "outputs": [],
   "source": [
    "lion_king_svd = {}\n",
    "lion_king_svd[\"test data\"] = lion_king_mean_rating\n",
    "\n",
    "lion_king_knn = {}\n",
    "lion_king_knn[\"test data\"] = lion_king_mean_rating"
   ]
  },
  {
   "cell_type": "code",
   "execution_count": 68,
   "metadata": {},
   "outputs": [],
   "source": [
    "#function to append mean rating to corresponding dictionary\n",
    "def append_prediction(predictions, name, algorithm):\n",
    "    #convert the predictions to a dataframe\n",
    "    df = pd.DataFrame(predictions) \n",
    "    df = df.drop([\"r_ui\", \"details\"], axis=1)\n",
    "    df = df.rename(columns={\"uid\": \"userID\", \"iid\": \"itemID\", \"est\":\"rating\"})\n",
    "    \n",
    "    if algorithm == \"svd\":\n",
    "        #extract mean ratings for the three movies and append to the dictionary\n",
    "        rating = df[df[\"itemID\"]==257][\"rating\"].mean()\n",
    "        men_in_black_svd[name] = rating\n",
    "\n",
    "        rating = df[df[\"itemID\"]==71][\"rating\"].mean()\n",
    "        lion_king_svd[name] = rating\n",
    "    else:\n",
    "        rating = df[df[\"itemID\"]==257][\"rating\"].mean()\n",
    "        men_in_black_knn[name] = rating\n",
    "\n",
    "        rating = df[df[\"itemID\"]==71][\"rating\"].mean()\n",
    "        lion_king_knn[name] = rating"
   ]
  },
  {
   "cell_type": "code",
   "execution_count": 69,
   "metadata": {},
   "outputs": [],
   "source": [
    "def svd_prediction(trainset):\n",
    "    #justification for parameters is in the notebook \"model selection\"\n",
    "    svd = SVD(biased = True, n_factors = 150, n_epochs = 30, lr_all = 0.01, reg_all = 0.1)\n",
    "\n",
    "    # train the algorithm on the trainset, and predict ratings for the testset\n",
    "    svd.fit(trainset)\n",
    "    \n",
    "    #testset in this case is a global variable that doesn't change\n",
    "    predictions = svd.test(testset)\n",
    "\n",
    "    # compute RMSE\n",
    "    error = accuracy.rmse(predictions)\n",
    "    \n",
    "    return predictions, error"
   ]
  },
  {
   "cell_type": "code",
   "execution_count": 70,
   "metadata": {
    "scrolled": true
   },
   "outputs": [
    {
     "name": "stdout",
     "output_type": "stream",
     "text": [
      "RMSE: 0.9258\n"
     ]
    }
   ],
   "source": [
    "svd_pred, svd_error = svd_prediction(trainset)"
   ]
  },
  {
   "cell_type": "code",
   "execution_count": 71,
   "metadata": {},
   "outputs": [],
   "source": [
    "append_prediction(svd_pred, \"0% fake ratings\", \"svd\")"
   ]
  },
  {
   "cell_type": "code",
   "execution_count": 72,
   "metadata": {},
   "outputs": [],
   "source": [
    "#create dictionary for storing the total error for svd\n",
    "svd_dictionary = {}\n",
    "svd_dictionary[\"0% fake ratings\"] = svd_error"
   ]
  },
  {
   "cell_type": "code",
   "execution_count": 73,
   "metadata": {},
   "outputs": [],
   "source": [
    "def knn_prediction(trainset):\n",
    "    knn = KNNBaseline(verbose = False, sim_options = {\"name\":\"cosine\", \"user_based\":True})\n",
    "    knn.fit(trainset)\n",
    "    predictions = knn.test(testset)\n",
    "    error = accuracy.rmse(predictions)\n",
    "    \n",
    "    return predictions, error"
   ]
  },
  {
   "cell_type": "code",
   "execution_count": 74,
   "metadata": {},
   "outputs": [
    {
     "name": "stdout",
     "output_type": "stream",
     "text": [
      "RMSE: 0.9462\n"
     ]
    }
   ],
   "source": [
    "knn_pred, knn_error = knn_prediction(trainset)"
   ]
  },
  {
   "cell_type": "code",
   "execution_count": 75,
   "metadata": {},
   "outputs": [],
   "source": [
    "append_prediction(knn_pred, \"0% fake ratings\", \"knn\")"
   ]
  },
  {
   "cell_type": "code",
   "execution_count": 76,
   "metadata": {},
   "outputs": [],
   "source": [
    "#create dictionary for storing the total error for knn\n",
    "knn_dictionary = {}\n",
    "knn_dictionary[\"0% fake ratings\"] = knn_error"
   ]
  },
  {
   "cell_type": "code",
   "execution_count": 77,
   "metadata": {},
   "outputs": [],
   "source": [
    "#notice the total number of users\n",
    "num_users = len(train_df[\"userID\"].unique())\n",
    "\n",
    "#extract unique ids from train dataframe to iterate over them\n",
    "ids = train_df[\"userID\"].unique()\n",
    "\n",
    "def fake_ratings(percent = 0.01):\n",
    "    #calculate the number of new ratings we need to add\n",
    "    num_new_ratings = int(percent*num_users)\n",
    "    \n",
    "    #counter to keep track of how many ratings we added\n",
    "    count = 0\n",
    "    \n",
    "    #create a copy of training dataframe\n",
    "    fake_train_df = train_df.copy()\n",
    "    \n",
    "    #iterate over each user\n",
    "    for user_id in ids:\n",
    "        #extract ratings for particular user\n",
    "        user_df = train_df[train_df[\"userID\"] == user_id]\n",
    "        \n",
    "        #if user didn't rate the movie, then append the 5.0 rating to fake_train dataframe\n",
    "        #and increment the counter\n",
    "        if 1 not in user_df[\"itemID\"].unique():\n",
    "            count+=1\n",
    "            temp_df = pd.DataFrame([[user_id, 257, 5.0]], columns = [\"userID\", \"itemID\", \"rating\"])\n",
    "            fake_train_df = fake_train_df.append(temp_df, ignore_index = True)\n",
    "\n",
    "        #stop iterating over users when we have enough fake ratings\n",
    "        if count>num_new_ratings:\n",
    "            break\n",
    "    \n",
    "    #convert dataframe with fake ratings into object of Trainset class\n",
    "    fake_train_dataset = Dataset.load_from_df(fake_train_df, reader)\n",
    "    fake_trainset = fake_train_dataset.build_full_trainset()\n",
    "    \n",
    "    name = \"{}% fake ratings\".format(int(percent*100))\n",
    "\n",
    "    #run svd with fake ratings, append the mean rating and the error\n",
    "    prediction_svd, error_svd = svd_prediction(fake_trainset)\n",
    "    append_prediction(prediction_svd, name, \"svd\")\n",
    "    svd_dictionary[name] = error_svd\n",
    "    \n",
    "    #same for knn\n",
    "    prediction_knn, error_knn = knn_prediction(fake_trainset)\n",
    "    append_prediction(prediction_knn, name, \"knn\")\n",
    "    knn_dictionary[name] = error_knn"
   ]
  },
  {
   "cell_type": "code",
   "execution_count": 78,
   "metadata": {},
   "outputs": [
    {
     "name": "stdout",
     "output_type": "stream",
     "text": [
      "RMSE: 0.9251\n",
      "RMSE: 0.9462\n"
     ]
    }
   ],
   "source": [
    "fake_ratings(0.01)"
   ]
  },
  {
   "cell_type": "code",
   "execution_count": 79,
   "metadata": {},
   "outputs": [
    {
     "name": "stdout",
     "output_type": "stream",
     "text": [
      "RMSE: 0.9266\n",
      "RMSE: 0.9475\n"
     ]
    }
   ],
   "source": [
    "fake_ratings(0.1)"
   ]
  },
  {
   "cell_type": "code",
   "execution_count": 80,
   "metadata": {},
   "outputs": [
    {
     "name": "stdout",
     "output_type": "stream",
     "text": [
      "RMSE: 0.9264\n",
      "RMSE: 0.9485\n"
     ]
    }
   ],
   "source": [
    "fake_ratings(0.5)"
   ]
  },
  {
   "cell_type": "code",
   "execution_count": 81,
   "metadata": {},
   "outputs": [],
   "source": [
    "def analyze(changed_movie, unrelated_movie):\n",
    "    percentage_change_changed = []\n",
    "    percentage_change_unrelated = []\n",
    "    \n",
    "    #retrieve mean rating for movies withour fake ratings\n",
    "    baseline_changed = changed_movie[\"0% fake ratings\"]\n",
    "    baseline_unrelated = unrelated_movie[\"0% fake ratings\"]\n",
    "    \n",
    "    names = [\"1% fake ratings\", \"10% fake ratings\", \"50% fake ratings\"]\n",
    "    for name in names:\n",
    "        #percentage change for movie with fake ratings\n",
    "        change = (changed_movie[name]-baseline_changed)/baseline_changed*100\n",
    "        percentage_change_changed.append(round(change,2))\n",
    "        \n",
    "        #percentage change for unrelated movie\n",
    "        change = (unrelated_movie[name]-baseline_unrelated)/baseline_unrelated*100\n",
    "        percentage_change_unrelated.append(round(change,2))\n",
    "        \n",
    "    df = pd.DataFrame(zip([1,10,50], percentage_change_changed, percentage_change_unrelated), \n",
    "                      columns = [\"% fake ratings\", \"% change for Men in Black\", \"% change for Lion King\"])\n",
    "    print(df)"
   ]
  },
  {
   "cell_type": "code",
   "execution_count": 82,
   "metadata": {},
   "outputs": [
    {
     "name": "stdout",
     "output_type": "stream",
     "text": [
      "Mean Rating for kNN\n",
      "   % fake ratings  % change for Men in Black  % change for Lion King\n",
      "0               1                       2.39                    0.01\n",
      "1              10                      18.78                    0.07\n",
      "2              50                      28.00                   -0.25\n"
     ]
    }
   ],
   "source": [
    "print(\"Mean Rating for kNN\")\n",
    "analyze(men_in_black_knn, lion_king_knn)"
   ]
  },
  {
   "cell_type": "code",
   "execution_count": 83,
   "metadata": {},
   "outputs": [
    {
     "name": "stdout",
     "output_type": "stream",
     "text": [
      "Mean Rating for SVD\n",
      "   % fake ratings  % change for Men in Black  % change for Lion King\n",
      "0               1                       0.33                   -0.00\n",
      "1              10                       2.60                    0.10\n",
      "2              50                      13.27                    0.03\n"
     ]
    }
   ],
   "source": [
    "print(\"Mean Rating for SVD\")\n",
    "analyze(men_in_black_svd, lion_king_svd)"
   ]
  },
  {
   "cell_type": "code",
   "execution_count": 84,
   "metadata": {},
   "outputs": [
    {
     "name": "stdout",
     "output_type": "stream",
     "text": [
      "RMSE change for kNN\n",
      "   % fake ratings  % change for Men in Black  % change for Lion King\n",
      "0               1                       2.39                    0.01\n",
      "1              10                      18.78                    0.07\n",
      "2              50                      28.00                   -0.25\n"
     ]
    }
   ],
   "source": [
    "print(\"RMSE change for kNN\")\n",
    "analyze(men_in_black_knn, lion_king_knn)"
   ]
  },
  {
   "cell_type": "code",
   "execution_count": 85,
   "metadata": {},
   "outputs": [
    {
     "name": "stdout",
     "output_type": "stream",
     "text": [
      "RMSE change for SVD\n",
      "   % fake ratings  % change for Men in Black  % change for Lion King\n",
      "0               1                       0.33                   -0.00\n",
      "1              10                       2.60                    0.10\n",
      "2              50                      13.27                    0.03\n"
     ]
    }
   ],
   "source": [
    "print(\"RMSE change for SVD\")\n",
    "analyze(men_in_black_svd, lion_king_svd)"
   ]
  }
 ],
 "metadata": {
  "kernelspec": {
   "display_name": "Python 3",
   "language": "python",
   "name": "python3"
  },
  "language_info": {
   "codemirror_mode": {
    "name": "ipython",
    "version": 3
   },
   "file_extension": ".py",
   "mimetype": "text/x-python",
   "name": "python",
   "nbconvert_exporter": "python",
   "pygments_lexer": "ipython3",
   "version": "3.8.5"
  }
 },
 "nbformat": 4,
 "nbformat_minor": 4
}
