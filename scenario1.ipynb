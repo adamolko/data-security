{
 "cells": [
  {
   "cell_type": "markdown",
   "metadata": {},
   "source": [
    "**Strategy**: Real users adding 5.0 ratings for a particular movie (i.e. Men in Black). <br>\n",
    "Vary the number of users, who add fake ratings, e.g. 1%, 10% or 50% of the total number of users. <br>\n",
    "Check how it affects overall prediction quality as well as predictions for particular user/movie."
   ]
  },
  {
   "cell_type": "code",
   "execution_count": 40,
   "metadata": {},
   "outputs": [],
   "source": [
    "import numpy as np\n",
    "import pandas as pd\n",
    "from surprise import SVD\n",
    "from surprise import Dataset, Reader, accuracy\n",
    "from surprise.prediction_algorithms.knns import KNNBaseline\n",
    "from sklearn.metrics import mean_squared_error as mse\n",
    "from math import sqrt\n",
    "from IPython.display import display\n",
    "import dataframe_image as dfi"
   ]
  },
  {
   "cell_type": "code",
   "execution_count": 41,
   "metadata": {},
   "outputs": [],
   "source": [
    "#loading training data\n",
    "train_df = pd.read_csv(\"data/ml-100k/u1.base\", sep = \"\\t\", header = None, engine = \"python\",\n",
    "                    usecols = [0,1,2], names = [\"userID\",\"itemID\", \"rating\"],\n",
    "                    dtype={'userId': 'int32', 'movieId': 'int32', 'rating': 'float32'})\n",
    "\n",
    "#loading test data\n",
    "test_df = pd.read_csv(\"data/ml-100k/u1.test\", sep = \"\\t\", header = None, engine = \"python\",\n",
    "                    usecols = [0,1,2], names = [\"userID\",\"itemID\", \"rating\"],\n",
    "                    dtype={'userId': 'int32', 'movieId': 'int32', 'rating': 'float32'})"
   ]
  },
  {
   "cell_type": "code",
   "execution_count": 42,
   "metadata": {},
   "outputs": [],
   "source": [
    "reader = Reader(rating_scale=(1, 5))\n",
    "\n",
    "#getting the data into appropriate format\n",
    "train_dataset = Dataset.load_from_df(train_df, reader)\n",
    "trainset = train_dataset.build_full_trainset()\n",
    "testset = list(zip(*map(test_df.get, test_df)))"
   ]
  },
  {
   "cell_type": "code",
   "execution_count": 43,
   "metadata": {},
   "outputs": [],
   "source": [
    "svd_error = {}\n",
    "svd_pred = {}\n",
    "knn_error = {}\n",
    "knn_pred = {}"
   ]
  },
  {
   "cell_type": "code",
   "execution_count": 44,
   "metadata": {},
   "outputs": [],
   "source": [
    "def svd_prediction(trainset):\n",
    "    #justification for parameters is in the notebook \"model selection\"\n",
    "    svd = SVD(biased = True, n_factors = 150, n_epochs = 30, lr_all = 0.01, reg_all = 0.1, random_state = 49)\n",
    "\n",
    "    # train the algorithm on the trainset, and predict ratings for the testset\n",
    "    svd.fit(trainset)\n",
    "    \n",
    "    #testset in this case is a global variable that doesn't change\n",
    "    predictions = svd.test(testset)\n",
    "\n",
    "    # compute RMSE\n",
    "    error = accuracy.rmse(predictions)\n",
    "    \n",
    "    return predictions, error"
   ]
  },
  {
   "cell_type": "code",
   "execution_count": 45,
   "metadata": {},
   "outputs": [
    {
     "name": "stdout",
     "output_type": "stream",
     "text": [
      "RMSE: 0.9262\n"
     ]
    }
   ],
   "source": [
    "#simple predictions without adding fake ratings\n",
    "svd_pred[\"0% fake ratings\"], svd_error[\"0% fake ratings\"] = svd_prediction(trainset)"
   ]
  },
  {
   "cell_type": "code",
   "execution_count": 46,
   "metadata": {},
   "outputs": [],
   "source": [
    "def knn_prediction(trainset):\n",
    "    #justification for algorithm and parameters is in the notebook \"model selection\"\n",
    "    knn = KNNBaseline(verbose = False, sim_options = {\"name\":\"cosine\", \"user_based\":True})\n",
    "    \n",
    "    #fit on the training data provided\n",
    "    knn.fit(trainset)\n",
    "    \n",
    "    #produce predictions\n",
    "    predictions = knn.test(testset)\n",
    "    \n",
    "    #compute error\n",
    "    error = accuracy.rmse(predictions)\n",
    "    \n",
    "    return predictions, error"
   ]
  },
  {
   "cell_type": "code",
   "execution_count": 47,
   "metadata": {},
   "outputs": [
    {
     "name": "stdout",
     "output_type": "stream",
     "text": [
      "RMSE: 0.9462\n"
     ]
    }
   ],
   "source": [
    "#simple predictions without adding fake ratings\n",
    "knn_pred[\"0% fake ratings\"], knn_error[\"0% fake ratings\"] = knn_prediction(trainset)"
   ]
  },
  {
   "cell_type": "code",
   "execution_count": 48,
   "metadata": {},
   "outputs": [],
   "source": [
    "#note the total number of users\n",
    "num_users = len(train_df[\"userID\"].unique())\n",
    "\n",
    "#extract unique ids from train dataframe to iterate over them\n",
    "ids = train_df[\"userID\"].unique()\n",
    "\n",
    "def fake_ratings(percent = 0.01):\n",
    "    #calculate the number of new ratings we need to add\n",
    "    num_new_ratings = int(percent*num_users)\n",
    "    \n",
    "    #counter to keep track of how many ratings we added\n",
    "    count = 0\n",
    "    \n",
    "    #create a copy of training dataframe\n",
    "    fake_train_df = train_df.copy()\n",
    "    \n",
    "    #iterate over each user\n",
    "    for user_id in ids:\n",
    "        #extract ratings for particular user\n",
    "        user_df = train_df[train_df[\"userID\"] == user_id]\n",
    "        \n",
    "        #if user didn't rate the movie, then append the 5.0 rating to fake_train dataframe\n",
    "        #and increment the counter\n",
    "        if 1 not in user_df[\"itemID\"].unique():\n",
    "            count+=1\n",
    "            temp_df = pd.DataFrame([[user_id, 257, 5.0]], columns = [\"userID\", \"itemID\", \"rating\"])\n",
    "            fake_train_df = fake_train_df.append(temp_df, ignore_index = True)\n",
    "\n",
    "        #stop iterating over users when we have enough fake ratings\n",
    "        if count>num_new_ratings:\n",
    "            break\n",
    "    \n",
    "    #convert dataframe with fake ratings into object of Trainset class\n",
    "    fake_train_dataset = Dataset.load_from_df(fake_train_df, reader)\n",
    "    fake_trainset = fake_train_dataset.build_full_trainset()\n",
    "\n",
    "    #run svd with fake ratings, append the mean rating and the error\n",
    "    prediction_svd, error_svd = svd_prediction(fake_trainset)\n",
    "    \n",
    "    #same for knn\n",
    "    prediction_knn, error_knn = knn_prediction(fake_trainset)\n",
    "\n",
    "    return prediction_svd, error_svd, prediction_knn, error_knn"
   ]
  },
  {
   "cell_type": "code",
   "execution_count": 49,
   "metadata": {},
   "outputs": [
    {
     "name": "stdout",
     "output_type": "stream",
     "text": [
      "RMSE: 0.9262\n",
      "RMSE: 0.9462\n"
     ]
    }
   ],
   "source": [
    "svd_pred[\"1% fake ratings\"], svd_error[\"1% fake ratings\"], knn_pred[\"1% fake ratings\"], knn_error[\"1% fake ratings\"] = fake_ratings(0.01)"
   ]
  },
  {
   "cell_type": "code",
   "execution_count": 50,
   "metadata": {},
   "outputs": [
    {
     "name": "stdout",
     "output_type": "stream",
     "text": [
      "RMSE: 0.9265\n",
      "RMSE: 0.9475\n"
     ]
    }
   ],
   "source": [
    "svd_pred[\"10% fake ratings\"], svd_error[\"10% fake ratings\"], knn_pred[\"10% fake ratings\"], knn_error[\"10% fake ratings\"] = fake_ratings(0.1)"
   ]
  },
  {
   "cell_type": "code",
   "execution_count": 51,
   "metadata": {},
   "outputs": [
    {
     "name": "stdout",
     "output_type": "stream",
     "text": [
      "RMSE: 0.9271\n",
      "RMSE: 0.9485\n"
     ]
    }
   ],
   "source": [
    "svd_pred[\"50% fake ratings\"], svd_error[\"50% fake ratings\"], knn_pred[\"50% fake ratings\"], knn_error[\"50% fake ratings\"] = fake_ratings(0.5)"
   ]
  },
  {
   "cell_type": "code",
   "execution_count": 52,
   "metadata": {},
   "outputs": [],
   "source": [
    "#convert predictions to a dataframe\n",
    "def prediction_to_df(predictions):\n",
    "    df = pd.DataFrame(predictions) \n",
    "    df = df.drop([\"r_ui\", \"details\"], axis=1)\n",
    "    df = df.rename(columns={\"uid\": \"userID\", \"iid\": \"itemID\", \"est\":\"rating\"})\n",
    "    \n",
    "    return df"
   ]
  },
  {
   "cell_type": "code",
   "execution_count": 53,
   "metadata": {},
   "outputs": [],
   "source": [
    "#function to show the dataframe as a nicely formatted table\n",
    "def show_table(df):\n",
    "    #creating Styler object and setting its properties\n",
    "    df1 = df.style.set_table_styles([dict(selector='th', props=[('text-align', 'center')])]).set_precision(4)\n",
    "    df1.set_properties(**{'text-align': 'center'}).hide_index()\n",
    "    \n",
    "    display(df1)\n",
    "    return df1"
   ]
  },
  {
   "cell_type": "code",
   "execution_count": 54,
   "metadata": {},
   "outputs": [],
   "source": [
    "#Mean overall rating change for a movie\n",
    "def mean_overall_rating_change(predictions, error, movieID):\n",
    "    names = [\"0% fake ratings\", \"1% fake ratings\", \"10% fake ratings\", \"50% fake ratings\"]\n",
    "    columns = [\"% fake ratings\", \"true mean rating\", \"predicted mean rating\", \"% change in rating\", \"RMSE\", \"% change in RMSE\"]\n",
    "    \n",
    "    #dataframe placeholder\n",
    "    df = pd.DataFrame()\n",
    "    \n",
    "    #actual predictions\n",
    "    actual = test_df[test_df[\"itemID\"]==movieID][\"rating\"]\n",
    "\n",
    "    for name in names:\n",
    "        #get the true mean rating\n",
    "        true = round(test_df[test_df[\"itemID\"]==movieID][\"rating\"].mean(), 4)\n",
    "        \n",
    "        #transform predictions into dataframe\n",
    "        preds = prediction_to_df(predictions[name])\n",
    "        \n",
    "        #get the predicted mean rating\n",
    "        predicted = round(preds[preds[\"itemID\"]==movieID][\"rating\"].mean(), 4)\n",
    "        \n",
    "        #calculate the change relative to baseline prediction\n",
    "        change_rating = round((predicted-true)/true*100,2)\n",
    "        \n",
    "        #for single movie rmse is actually just absolute difference between actual observation\n",
    "        #and prediction\n",
    "        rmse = sqrt(mse(actual,preds[preds[\"itemID\"]==movieID][\"rating\"]))\n",
    "        \n",
    "        if name == \"0% fake ratings\":\n",
    "            baseline_error = rmse\n",
    "        \n",
    "        #calculate the change relative to baseline error\n",
    "        change_error = round((rmse-baseline_error)/baseline_error*100, 4)\n",
    "        \n",
    "        #append a row to the dataframe\n",
    "        df = df.append([[name[:3], true, predicted, change_rating, rmse, change_error]], ignore_index = True)\n",
    "    \n",
    "    #set the right names for columns\n",
    "    df.columns = columns\n",
    "    return show_table(df)"
   ]
  },
  {
   "cell_type": "code",
   "execution_count": 55,
   "metadata": {},
   "outputs": [
    {
     "name": "stdout",
     "output_type": "stream",
     "text": [
      "svd for men in black\n",
      "\n"
     ]
    },
    {
     "data": {
      "text/html": [
       "<style  type=\"text/css\" >\n",
       "    #T_60e6fad6_5338_11eb_babb_7d95b8097e85 th {\n",
       "          text-align: center;\n",
       "    }#T_60e6fad6_5338_11eb_babb_7d95b8097e85row0_col0,#T_60e6fad6_5338_11eb_babb_7d95b8097e85row0_col1,#T_60e6fad6_5338_11eb_babb_7d95b8097e85row0_col2,#T_60e6fad6_5338_11eb_babb_7d95b8097e85row0_col3,#T_60e6fad6_5338_11eb_babb_7d95b8097e85row0_col4,#T_60e6fad6_5338_11eb_babb_7d95b8097e85row0_col5,#T_60e6fad6_5338_11eb_babb_7d95b8097e85row1_col0,#T_60e6fad6_5338_11eb_babb_7d95b8097e85row1_col1,#T_60e6fad6_5338_11eb_babb_7d95b8097e85row1_col2,#T_60e6fad6_5338_11eb_babb_7d95b8097e85row1_col3,#T_60e6fad6_5338_11eb_babb_7d95b8097e85row1_col4,#T_60e6fad6_5338_11eb_babb_7d95b8097e85row1_col5,#T_60e6fad6_5338_11eb_babb_7d95b8097e85row2_col0,#T_60e6fad6_5338_11eb_babb_7d95b8097e85row2_col1,#T_60e6fad6_5338_11eb_babb_7d95b8097e85row2_col2,#T_60e6fad6_5338_11eb_babb_7d95b8097e85row2_col3,#T_60e6fad6_5338_11eb_babb_7d95b8097e85row2_col4,#T_60e6fad6_5338_11eb_babb_7d95b8097e85row2_col5,#T_60e6fad6_5338_11eb_babb_7d95b8097e85row3_col0,#T_60e6fad6_5338_11eb_babb_7d95b8097e85row3_col1,#T_60e6fad6_5338_11eb_babb_7d95b8097e85row3_col2,#T_60e6fad6_5338_11eb_babb_7d95b8097e85row3_col3,#T_60e6fad6_5338_11eb_babb_7d95b8097e85row3_col4,#T_60e6fad6_5338_11eb_babb_7d95b8097e85row3_col5{\n",
       "            text-align:  center;\n",
       "        }</style><table id=\"T_60e6fad6_5338_11eb_babb_7d95b8097e85\" ><thead>    <tr>        <th class=\"col_heading level0 col0\" >% fake ratings</th>        <th class=\"col_heading level0 col1\" >true mean rating</th>        <th class=\"col_heading level0 col2\" >predicted mean rating</th>        <th class=\"col_heading level0 col3\" >% change in rating</th>        <th class=\"col_heading level0 col4\" >RMSE</th>        <th class=\"col_heading level0 col5\" >% change in RMSE</th>    </tr></thead><tbody>\n",
       "                <tr>\n",
       "                                <td id=\"T_60e6fad6_5338_11eb_babb_7d95b8097e85row0_col0\" class=\"data row0 col0\" >0% </td>\n",
       "                        <td id=\"T_60e6fad6_5338_11eb_babb_7d95b8097e85row0_col1\" class=\"data row0 col1\" >3.5577</td>\n",
       "                        <td id=\"T_60e6fad6_5338_11eb_babb_7d95b8097e85row0_col2\" class=\"data row0 col2\" >3.7137</td>\n",
       "                        <td id=\"T_60e6fad6_5338_11eb_babb_7d95b8097e85row0_col3\" class=\"data row0 col3\" >4.3800</td>\n",
       "                        <td id=\"T_60e6fad6_5338_11eb_babb_7d95b8097e85row0_col4\" class=\"data row0 col4\" >0.9834</td>\n",
       "                        <td id=\"T_60e6fad6_5338_11eb_babb_7d95b8097e85row0_col5\" class=\"data row0 col5\" >0.0000</td>\n",
       "            </tr>\n",
       "            <tr>\n",
       "                                <td id=\"T_60e6fad6_5338_11eb_babb_7d95b8097e85row1_col0\" class=\"data row1 col0\" >1% </td>\n",
       "                        <td id=\"T_60e6fad6_5338_11eb_babb_7d95b8097e85row1_col1\" class=\"data row1 col1\" >3.5577</td>\n",
       "                        <td id=\"T_60e6fad6_5338_11eb_babb_7d95b8097e85row1_col2\" class=\"data row1 col2\" >3.7186</td>\n",
       "                        <td id=\"T_60e6fad6_5338_11eb_babb_7d95b8097e85row1_col3\" class=\"data row1 col3\" >4.5200</td>\n",
       "                        <td id=\"T_60e6fad6_5338_11eb_babb_7d95b8097e85row1_col4\" class=\"data row1 col4\" >0.9815</td>\n",
       "                        <td id=\"T_60e6fad6_5338_11eb_babb_7d95b8097e85row1_col5\" class=\"data row1 col5\" >-0.2000</td>\n",
       "            </tr>\n",
       "            <tr>\n",
       "                                <td id=\"T_60e6fad6_5338_11eb_babb_7d95b8097e85row2_col0\" class=\"data row2 col0\" >10%</td>\n",
       "                        <td id=\"T_60e6fad6_5338_11eb_babb_7d95b8097e85row2_col1\" class=\"data row2 col1\" >3.5577</td>\n",
       "                        <td id=\"T_60e6fad6_5338_11eb_babb_7d95b8097e85row2_col2\" class=\"data row2 col2\" >3.7912</td>\n",
       "                        <td id=\"T_60e6fad6_5338_11eb_babb_7d95b8097e85row2_col3\" class=\"data row2 col3\" >6.5600</td>\n",
       "                        <td id=\"T_60e6fad6_5338_11eb_babb_7d95b8097e85row2_col4\" class=\"data row2 col4\" >1.0157</td>\n",
       "                        <td id=\"T_60e6fad6_5338_11eb_babb_7d95b8097e85row2_col5\" class=\"data row2 col5\" >3.2829</td>\n",
       "            </tr>\n",
       "            <tr>\n",
       "                                <td id=\"T_60e6fad6_5338_11eb_babb_7d95b8097e85row3_col0\" class=\"data row3 col0\" >50%</td>\n",
       "                        <td id=\"T_60e6fad6_5338_11eb_babb_7d95b8097e85row3_col1\" class=\"data row3 col1\" >3.5577</td>\n",
       "                        <td id=\"T_60e6fad6_5338_11eb_babb_7d95b8097e85row3_col2\" class=\"data row3 col2\" >4.1996</td>\n",
       "                        <td id=\"T_60e6fad6_5338_11eb_babb_7d95b8097e85row3_col3\" class=\"data row3 col3\" >18.0400</td>\n",
       "                        <td id=\"T_60e6fad6_5338_11eb_babb_7d95b8097e85row3_col4\" class=\"data row3 col4\" >1.1887</td>\n",
       "                        <td id=\"T_60e6fad6_5338_11eb_babb_7d95b8097e85row3_col5\" class=\"data row3 col5\" >20.8717</td>\n",
       "            </tr>\n",
       "    </tbody></table>"
      ],
      "text/plain": [
       "<pandas.io.formats.style.Styler at 0x7f81e17b8070>"
      ]
     },
     "metadata": {},
     "output_type": "display_data"
    }
   ],
   "source": [
    "print(\"svd for men in black\\n\")\n",
    "result = mean_overall_rating_change(svd_pred, svd_error, 257)\n",
    "dfi.export(result,\"results/scenario1/svd_mib_overall_rating.png\")"
   ]
  },
  {
   "cell_type": "code",
   "execution_count": 73,
   "metadata": {},
   "outputs": [
    {
     "name": "stdout",
     "output_type": "stream",
     "text": [
      "knn for men in black\n",
      "\n"
     ]
    },
    {
     "data": {
      "text/html": [
       "<style  type=\"text/css\" >\n",
       "    #T_3bc28fe4_5339_11eb_babb_7d95b8097e85 th {\n",
       "          text-align: center;\n",
       "    }#T_3bc28fe4_5339_11eb_babb_7d95b8097e85row0_col0,#T_3bc28fe4_5339_11eb_babb_7d95b8097e85row0_col1,#T_3bc28fe4_5339_11eb_babb_7d95b8097e85row0_col2,#T_3bc28fe4_5339_11eb_babb_7d95b8097e85row0_col3,#T_3bc28fe4_5339_11eb_babb_7d95b8097e85row0_col4,#T_3bc28fe4_5339_11eb_babb_7d95b8097e85row0_col5,#T_3bc28fe4_5339_11eb_babb_7d95b8097e85row1_col0,#T_3bc28fe4_5339_11eb_babb_7d95b8097e85row1_col1,#T_3bc28fe4_5339_11eb_babb_7d95b8097e85row1_col2,#T_3bc28fe4_5339_11eb_babb_7d95b8097e85row1_col3,#T_3bc28fe4_5339_11eb_babb_7d95b8097e85row1_col4,#T_3bc28fe4_5339_11eb_babb_7d95b8097e85row1_col5,#T_3bc28fe4_5339_11eb_babb_7d95b8097e85row2_col0,#T_3bc28fe4_5339_11eb_babb_7d95b8097e85row2_col1,#T_3bc28fe4_5339_11eb_babb_7d95b8097e85row2_col2,#T_3bc28fe4_5339_11eb_babb_7d95b8097e85row2_col3,#T_3bc28fe4_5339_11eb_babb_7d95b8097e85row2_col4,#T_3bc28fe4_5339_11eb_babb_7d95b8097e85row2_col5,#T_3bc28fe4_5339_11eb_babb_7d95b8097e85row3_col0,#T_3bc28fe4_5339_11eb_babb_7d95b8097e85row3_col1,#T_3bc28fe4_5339_11eb_babb_7d95b8097e85row3_col2,#T_3bc28fe4_5339_11eb_babb_7d95b8097e85row3_col3,#T_3bc28fe4_5339_11eb_babb_7d95b8097e85row3_col4,#T_3bc28fe4_5339_11eb_babb_7d95b8097e85row3_col5{\n",
       "            text-align:  center;\n",
       "        }</style><table id=\"T_3bc28fe4_5339_11eb_babb_7d95b8097e85\" ><thead>    <tr>        <th class=\"col_heading level0 col0\" >% fake ratings</th>        <th class=\"col_heading level0 col1\" >true mean rating</th>        <th class=\"col_heading level0 col2\" >predicted mean rating</th>        <th class=\"col_heading level0 col3\" >% change in rating</th>        <th class=\"col_heading level0 col4\" >RMSE</th>        <th class=\"col_heading level0 col5\" >% change in RMSE</th>    </tr></thead><tbody>\n",
       "                <tr>\n",
       "                                <td id=\"T_3bc28fe4_5339_11eb_babb_7d95b8097e85row0_col0\" class=\"data row0 col0\" >0% </td>\n",
       "                        <td id=\"T_3bc28fe4_5339_11eb_babb_7d95b8097e85row0_col1\" class=\"data row0 col1\" >3.5577</td>\n",
       "                        <td id=\"T_3bc28fe4_5339_11eb_babb_7d95b8097e85row0_col2\" class=\"data row0 col2\" >3.7184</td>\n",
       "                        <td id=\"T_3bc28fe4_5339_11eb_babb_7d95b8097e85row0_col3\" class=\"data row0 col3\" >4.5200</td>\n",
       "                        <td id=\"T_3bc28fe4_5339_11eb_babb_7d95b8097e85row0_col4\" class=\"data row0 col4\" >0.9918</td>\n",
       "                        <td id=\"T_3bc28fe4_5339_11eb_babb_7d95b8097e85row0_col5\" class=\"data row0 col5\" >0.0000</td>\n",
       "            </tr>\n",
       "            <tr>\n",
       "                                <td id=\"T_3bc28fe4_5339_11eb_babb_7d95b8097e85row1_col0\" class=\"data row1 col0\" >1% </td>\n",
       "                        <td id=\"T_3bc28fe4_5339_11eb_babb_7d95b8097e85row1_col1\" class=\"data row1 col1\" >3.5577</td>\n",
       "                        <td id=\"T_3bc28fe4_5339_11eb_babb_7d95b8097e85row1_col2\" class=\"data row1 col2\" >3.8074</td>\n",
       "                        <td id=\"T_3bc28fe4_5339_11eb_babb_7d95b8097e85row1_col3\" class=\"data row1 col3\" >7.0200</td>\n",
       "                        <td id=\"T_3bc28fe4_5339_11eb_babb_7d95b8097e85row1_col4\" class=\"data row1 col4\" >1.0143</td>\n",
       "                        <td id=\"T_3bc28fe4_5339_11eb_babb_7d95b8097e85row1_col5\" class=\"data row1 col5\" >2.2662</td>\n",
       "            </tr>\n",
       "            <tr>\n",
       "                                <td id=\"T_3bc28fe4_5339_11eb_babb_7d95b8097e85row2_col0\" class=\"data row2 col0\" >10%</td>\n",
       "                        <td id=\"T_3bc28fe4_5339_11eb_babb_7d95b8097e85row2_col1\" class=\"data row2 col1\" >3.5577</td>\n",
       "                        <td id=\"T_3bc28fe4_5339_11eb_babb_7d95b8097e85row2_col2\" class=\"data row2 col2\" >4.4168</td>\n",
       "                        <td id=\"T_3bc28fe4_5339_11eb_babb_7d95b8097e85row2_col3\" class=\"data row2 col3\" >24.1500</td>\n",
       "                        <td id=\"T_3bc28fe4_5339_11eb_babb_7d95b8097e85row2_col4\" class=\"data row2 col4\" >1.3522</td>\n",
       "                        <td id=\"T_3bc28fe4_5339_11eb_babb_7d95b8097e85row2_col5\" class=\"data row2 col5\" >36.3337</td>\n",
       "            </tr>\n",
       "            <tr>\n",
       "                                <td id=\"T_3bc28fe4_5339_11eb_babb_7d95b8097e85row3_col0\" class=\"data row3 col0\" >50%</td>\n",
       "                        <td id=\"T_3bc28fe4_5339_11eb_babb_7d95b8097e85row3_col1\" class=\"data row3 col1\" >3.5577</td>\n",
       "                        <td id=\"T_3bc28fe4_5339_11eb_babb_7d95b8097e85row3_col2\" class=\"data row3 col2\" >4.7594</td>\n",
       "                        <td id=\"T_3bc28fe4_5339_11eb_babb_7d95b8097e85row3_col3\" class=\"data row3 col3\" >33.7800</td>\n",
       "                        <td id=\"T_3bc28fe4_5339_11eb_babb_7d95b8097e85row3_col4\" class=\"data row3 col4\" >1.5692</td>\n",
       "                        <td id=\"T_3bc28fe4_5339_11eb_babb_7d95b8097e85row3_col5\" class=\"data row3 col5\" >58.2174</td>\n",
       "            </tr>\n",
       "    </tbody></table>"
      ],
      "text/plain": [
       "<pandas.io.formats.style.Styler at 0x7f81e17b83a0>"
      ]
     },
     "metadata": {},
     "output_type": "display_data"
    }
   ],
   "source": [
    "print(\"knn for men in black\\n\")\n",
    "result = mean_overall_rating_change(knn_pred, knn_error, 257)\n",
    "dfi.export(result,\"results/scenario1/knn_mib_overall_rating.png\")"
   ]
  },
  {
   "cell_type": "code",
   "execution_count": 57,
   "metadata": {},
   "outputs": [
    {
     "name": "stdout",
     "output_type": "stream",
     "text": [
      "svd for lion king\n",
      "\n"
     ]
    },
    {
     "data": {
      "text/html": [
       "<style  type=\"text/css\" >\n",
       "    #T_617595a2_5338_11eb_babb_7d95b8097e85 th {\n",
       "          text-align: center;\n",
       "    }#T_617595a2_5338_11eb_babb_7d95b8097e85row0_col0,#T_617595a2_5338_11eb_babb_7d95b8097e85row0_col1,#T_617595a2_5338_11eb_babb_7d95b8097e85row0_col2,#T_617595a2_5338_11eb_babb_7d95b8097e85row0_col3,#T_617595a2_5338_11eb_babb_7d95b8097e85row0_col4,#T_617595a2_5338_11eb_babb_7d95b8097e85row0_col5,#T_617595a2_5338_11eb_babb_7d95b8097e85row1_col0,#T_617595a2_5338_11eb_babb_7d95b8097e85row1_col1,#T_617595a2_5338_11eb_babb_7d95b8097e85row1_col2,#T_617595a2_5338_11eb_babb_7d95b8097e85row1_col3,#T_617595a2_5338_11eb_babb_7d95b8097e85row1_col4,#T_617595a2_5338_11eb_babb_7d95b8097e85row1_col5,#T_617595a2_5338_11eb_babb_7d95b8097e85row2_col0,#T_617595a2_5338_11eb_babb_7d95b8097e85row2_col1,#T_617595a2_5338_11eb_babb_7d95b8097e85row2_col2,#T_617595a2_5338_11eb_babb_7d95b8097e85row2_col3,#T_617595a2_5338_11eb_babb_7d95b8097e85row2_col4,#T_617595a2_5338_11eb_babb_7d95b8097e85row2_col5,#T_617595a2_5338_11eb_babb_7d95b8097e85row3_col0,#T_617595a2_5338_11eb_babb_7d95b8097e85row3_col1,#T_617595a2_5338_11eb_babb_7d95b8097e85row3_col2,#T_617595a2_5338_11eb_babb_7d95b8097e85row3_col3,#T_617595a2_5338_11eb_babb_7d95b8097e85row3_col4,#T_617595a2_5338_11eb_babb_7d95b8097e85row3_col5{\n",
       "            text-align:  center;\n",
       "        }</style><table id=\"T_617595a2_5338_11eb_babb_7d95b8097e85\" ><thead>    <tr>        <th class=\"col_heading level0 col0\" >% fake ratings</th>        <th class=\"col_heading level0 col1\" >true mean rating</th>        <th class=\"col_heading level0 col2\" >predicted mean rating</th>        <th class=\"col_heading level0 col3\" >% change in rating</th>        <th class=\"col_heading level0 col4\" >RMSE</th>        <th class=\"col_heading level0 col5\" >% change in RMSE</th>    </tr></thead><tbody>\n",
       "                <tr>\n",
       "                                <td id=\"T_617595a2_5338_11eb_babb_7d95b8097e85row0_col0\" class=\"data row0 col0\" >0% </td>\n",
       "                        <td id=\"T_617595a2_5338_11eb_babb_7d95b8097e85row0_col1\" class=\"data row0 col1\" >3.8000</td>\n",
       "                        <td id=\"T_617595a2_5338_11eb_babb_7d95b8097e85row0_col2\" class=\"data row0 col2\" >3.7815</td>\n",
       "                        <td id=\"T_617595a2_5338_11eb_babb_7d95b8097e85row0_col3\" class=\"data row0 col3\" >-0.4900</td>\n",
       "                        <td id=\"T_617595a2_5338_11eb_babb_7d95b8097e85row0_col4\" class=\"data row0 col4\" >0.7153</td>\n",
       "                        <td id=\"T_617595a2_5338_11eb_babb_7d95b8097e85row0_col5\" class=\"data row0 col5\" >0.0000</td>\n",
       "            </tr>\n",
       "            <tr>\n",
       "                                <td id=\"T_617595a2_5338_11eb_babb_7d95b8097e85row1_col0\" class=\"data row1 col0\" >1% </td>\n",
       "                        <td id=\"T_617595a2_5338_11eb_babb_7d95b8097e85row1_col1\" class=\"data row1 col1\" >3.8000</td>\n",
       "                        <td id=\"T_617595a2_5338_11eb_babb_7d95b8097e85row1_col2\" class=\"data row1 col2\" >3.7823</td>\n",
       "                        <td id=\"T_617595a2_5338_11eb_babb_7d95b8097e85row1_col3\" class=\"data row1 col3\" >-0.4700</td>\n",
       "                        <td id=\"T_617595a2_5338_11eb_babb_7d95b8097e85row1_col4\" class=\"data row1 col4\" >0.7159</td>\n",
       "                        <td id=\"T_617595a2_5338_11eb_babb_7d95b8097e85row1_col5\" class=\"data row1 col5\" >0.0894</td>\n",
       "            </tr>\n",
       "            <tr>\n",
       "                                <td id=\"T_617595a2_5338_11eb_babb_7d95b8097e85row2_col0\" class=\"data row2 col0\" >10%</td>\n",
       "                        <td id=\"T_617595a2_5338_11eb_babb_7d95b8097e85row2_col1\" class=\"data row2 col1\" >3.8000</td>\n",
       "                        <td id=\"T_617595a2_5338_11eb_babb_7d95b8097e85row2_col2\" class=\"data row2 col2\" >3.7869</td>\n",
       "                        <td id=\"T_617595a2_5338_11eb_babb_7d95b8097e85row2_col3\" class=\"data row2 col3\" >-0.3400</td>\n",
       "                        <td id=\"T_617595a2_5338_11eb_babb_7d95b8097e85row2_col4\" class=\"data row2 col4\" >0.7187</td>\n",
       "                        <td id=\"T_617595a2_5338_11eb_babb_7d95b8097e85row2_col5\" class=\"data row2 col5\" >0.4820</td>\n",
       "            </tr>\n",
       "            <tr>\n",
       "                                <td id=\"T_617595a2_5338_11eb_babb_7d95b8097e85row3_col0\" class=\"data row3 col0\" >50%</td>\n",
       "                        <td id=\"T_617595a2_5338_11eb_babb_7d95b8097e85row3_col1\" class=\"data row3 col1\" >3.8000</td>\n",
       "                        <td id=\"T_617595a2_5338_11eb_babb_7d95b8097e85row3_col2\" class=\"data row3 col2\" >3.7872</td>\n",
       "                        <td id=\"T_617595a2_5338_11eb_babb_7d95b8097e85row3_col3\" class=\"data row3 col3\" >-0.3400</td>\n",
       "                        <td id=\"T_617595a2_5338_11eb_babb_7d95b8097e85row3_col4\" class=\"data row3 col4\" >0.7205</td>\n",
       "                        <td id=\"T_617595a2_5338_11eb_babb_7d95b8097e85row3_col5\" class=\"data row3 col5\" >0.7325</td>\n",
       "            </tr>\n",
       "    </tbody></table>"
      ],
      "text/plain": [
       "<pandas.io.formats.style.Styler at 0x7f81e20a56a0>"
      ]
     },
     "metadata": {},
     "output_type": "display_data"
    }
   ],
   "source": [
    "print(\"svd for lion king\\n\")\n",
    "result = mean_overall_rating_change(svd_pred, svd_error, 71)\n",
    "dfi.export(result,\"results/scenario1/svd_lk_overall_rating.png\")"
   ]
  },
  {
   "cell_type": "code",
   "execution_count": 58,
   "metadata": {},
   "outputs": [
    {
     "name": "stdout",
     "output_type": "stream",
     "text": [
      "knn for lion king\n",
      "\n"
     ]
    },
    {
     "data": {
      "text/html": [
       "<style  type=\"text/css\" >\n",
       "    #T_61cb1716_5338_11eb_babb_7d95b8097e85 th {\n",
       "          text-align: center;\n",
       "    }#T_61cb1716_5338_11eb_babb_7d95b8097e85row0_col0,#T_61cb1716_5338_11eb_babb_7d95b8097e85row0_col1,#T_61cb1716_5338_11eb_babb_7d95b8097e85row0_col2,#T_61cb1716_5338_11eb_babb_7d95b8097e85row0_col3,#T_61cb1716_5338_11eb_babb_7d95b8097e85row0_col4,#T_61cb1716_5338_11eb_babb_7d95b8097e85row0_col5,#T_61cb1716_5338_11eb_babb_7d95b8097e85row1_col0,#T_61cb1716_5338_11eb_babb_7d95b8097e85row1_col1,#T_61cb1716_5338_11eb_babb_7d95b8097e85row1_col2,#T_61cb1716_5338_11eb_babb_7d95b8097e85row1_col3,#T_61cb1716_5338_11eb_babb_7d95b8097e85row1_col4,#T_61cb1716_5338_11eb_babb_7d95b8097e85row1_col5,#T_61cb1716_5338_11eb_babb_7d95b8097e85row2_col0,#T_61cb1716_5338_11eb_babb_7d95b8097e85row2_col1,#T_61cb1716_5338_11eb_babb_7d95b8097e85row2_col2,#T_61cb1716_5338_11eb_babb_7d95b8097e85row2_col3,#T_61cb1716_5338_11eb_babb_7d95b8097e85row2_col4,#T_61cb1716_5338_11eb_babb_7d95b8097e85row2_col5,#T_61cb1716_5338_11eb_babb_7d95b8097e85row3_col0,#T_61cb1716_5338_11eb_babb_7d95b8097e85row3_col1,#T_61cb1716_5338_11eb_babb_7d95b8097e85row3_col2,#T_61cb1716_5338_11eb_babb_7d95b8097e85row3_col3,#T_61cb1716_5338_11eb_babb_7d95b8097e85row3_col4,#T_61cb1716_5338_11eb_babb_7d95b8097e85row3_col5{\n",
       "            text-align:  center;\n",
       "        }</style><table id=\"T_61cb1716_5338_11eb_babb_7d95b8097e85\" ><thead>    <tr>        <th class=\"col_heading level0 col0\" >% fake ratings</th>        <th class=\"col_heading level0 col1\" >true mean rating</th>        <th class=\"col_heading level0 col2\" >predicted mean rating</th>        <th class=\"col_heading level0 col3\" >% change in rating</th>        <th class=\"col_heading level0 col4\" >RMSE</th>        <th class=\"col_heading level0 col5\" >% change in RMSE</th>    </tr></thead><tbody>\n",
       "                <tr>\n",
       "                                <td id=\"T_61cb1716_5338_11eb_babb_7d95b8097e85row0_col0\" class=\"data row0 col0\" >0% </td>\n",
       "                        <td id=\"T_61cb1716_5338_11eb_babb_7d95b8097e85row0_col1\" class=\"data row0 col1\" >3.8000</td>\n",
       "                        <td id=\"T_61cb1716_5338_11eb_babb_7d95b8097e85row0_col2\" class=\"data row0 col2\" >3.7624</td>\n",
       "                        <td id=\"T_61cb1716_5338_11eb_babb_7d95b8097e85row0_col3\" class=\"data row0 col3\" >-0.9900</td>\n",
       "                        <td id=\"T_61cb1716_5338_11eb_babb_7d95b8097e85row0_col4\" class=\"data row0 col4\" >0.7591</td>\n",
       "                        <td id=\"T_61cb1716_5338_11eb_babb_7d95b8097e85row0_col5\" class=\"data row0 col5\" >0.0000</td>\n",
       "            </tr>\n",
       "            <tr>\n",
       "                                <td id=\"T_61cb1716_5338_11eb_babb_7d95b8097e85row1_col0\" class=\"data row1 col0\" >1% </td>\n",
       "                        <td id=\"T_61cb1716_5338_11eb_babb_7d95b8097e85row1_col1\" class=\"data row1 col1\" >3.8000</td>\n",
       "                        <td id=\"T_61cb1716_5338_11eb_babb_7d95b8097e85row1_col2\" class=\"data row1 col2\" >3.7626</td>\n",
       "                        <td id=\"T_61cb1716_5338_11eb_babb_7d95b8097e85row1_col3\" class=\"data row1 col3\" >-0.9800</td>\n",
       "                        <td id=\"T_61cb1716_5338_11eb_babb_7d95b8097e85row1_col4\" class=\"data row1 col4\" >0.7583</td>\n",
       "                        <td id=\"T_61cb1716_5338_11eb_babb_7d95b8097e85row1_col5\" class=\"data row1 col5\" >-0.1006</td>\n",
       "            </tr>\n",
       "            <tr>\n",
       "                                <td id=\"T_61cb1716_5338_11eb_babb_7d95b8097e85row2_col0\" class=\"data row2 col0\" >10%</td>\n",
       "                        <td id=\"T_61cb1716_5338_11eb_babb_7d95b8097e85row2_col1\" class=\"data row2 col1\" >3.8000</td>\n",
       "                        <td id=\"T_61cb1716_5338_11eb_babb_7d95b8097e85row2_col2\" class=\"data row2 col2\" >3.7650</td>\n",
       "                        <td id=\"T_61cb1716_5338_11eb_babb_7d95b8097e85row2_col3\" class=\"data row2 col3\" >-0.9200</td>\n",
       "                        <td id=\"T_61cb1716_5338_11eb_babb_7d95b8097e85row2_col4\" class=\"data row2 col4\" >0.7626</td>\n",
       "                        <td id=\"T_61cb1716_5338_11eb_babb_7d95b8097e85row2_col5\" class=\"data row2 col5\" >0.4584</td>\n",
       "            </tr>\n",
       "            <tr>\n",
       "                                <td id=\"T_61cb1716_5338_11eb_babb_7d95b8097e85row3_col0\" class=\"data row3 col0\" >50%</td>\n",
       "                        <td id=\"T_61cb1716_5338_11eb_babb_7d95b8097e85row3_col1\" class=\"data row3 col1\" >3.8000</td>\n",
       "                        <td id=\"T_61cb1716_5338_11eb_babb_7d95b8097e85row3_col2\" class=\"data row3 col2\" >3.7528</td>\n",
       "                        <td id=\"T_61cb1716_5338_11eb_babb_7d95b8097e85row3_col3\" class=\"data row3 col3\" >-1.2400</td>\n",
       "                        <td id=\"T_61cb1716_5338_11eb_babb_7d95b8097e85row3_col4\" class=\"data row3 col4\" >0.7719</td>\n",
       "                        <td id=\"T_61cb1716_5338_11eb_babb_7d95b8097e85row3_col5\" class=\"data row3 col5\" >1.6879</td>\n",
       "            </tr>\n",
       "    </tbody></table>"
      ],
      "text/plain": [
       "<pandas.io.formats.style.Styler at 0x7f81e17c5d90>"
      ]
     },
     "metadata": {},
     "output_type": "display_data"
    }
   ],
   "source": [
    "print(\"knn for lion king\\n\")\n",
    "result = mean_overall_rating_change(knn_pred, knn_error, 71)\n",
    "dfi.export(result,\"results/scenario1/knn_lk_overall_rating.png\")"
   ]
  },
  {
   "cell_type": "code",
   "execution_count": 59,
   "metadata": {},
   "outputs": [],
   "source": [
    "#comparing overall error with different number of fake ratings\n",
    "def overall_error_change(error):\n",
    "    names = [\"0% fake ratings\", \"1% fake ratings\", \"10% fake ratings\", \"50% fake ratings\"]\n",
    "    columns = [\"% fake ratings\", \"RMSE\", \"% change in RMSE\"]\n",
    "    \n",
    "    #dataframe placeholder\n",
    "    df = pd.DataFrame()\n",
    "    \n",
    "    #extract the base error to compare to\n",
    "    baseline = error[names[0]]\n",
    "    \n",
    "    for name in names:\n",
    "        #retrieve the current error\n",
    "        rmse = error[name]\n",
    "        \n",
    "        #calculate percentage change in the error\n",
    "        change = round((rmse-baseline)/baseline*100,4)\n",
    "        \n",
    "        #append a row to the dataframe\n",
    "        df = df.append([[name[:3], rmse, change]], ignore_index = True)\n",
    "        \n",
    "    df.columns = columns\n",
    "    return show_table(df)"
   ]
  },
  {
   "cell_type": "code",
   "execution_count": 60,
   "metadata": {},
   "outputs": [
    {
     "name": "stdout",
     "output_type": "stream",
     "text": [
      "Overall change in RMSE for SVD\n",
      "\n"
     ]
    },
    {
     "data": {
      "text/html": [
       "<style  type=\"text/css\" >\n",
       "    #T_62028d86_5338_11eb_babb_7d95b8097e85 th {\n",
       "          text-align: center;\n",
       "    }#T_62028d86_5338_11eb_babb_7d95b8097e85row0_col0,#T_62028d86_5338_11eb_babb_7d95b8097e85row0_col1,#T_62028d86_5338_11eb_babb_7d95b8097e85row0_col2,#T_62028d86_5338_11eb_babb_7d95b8097e85row1_col0,#T_62028d86_5338_11eb_babb_7d95b8097e85row1_col1,#T_62028d86_5338_11eb_babb_7d95b8097e85row1_col2,#T_62028d86_5338_11eb_babb_7d95b8097e85row2_col0,#T_62028d86_5338_11eb_babb_7d95b8097e85row2_col1,#T_62028d86_5338_11eb_babb_7d95b8097e85row2_col2,#T_62028d86_5338_11eb_babb_7d95b8097e85row3_col0,#T_62028d86_5338_11eb_babb_7d95b8097e85row3_col1,#T_62028d86_5338_11eb_babb_7d95b8097e85row3_col2{\n",
       "            text-align:  center;\n",
       "        }</style><table id=\"T_62028d86_5338_11eb_babb_7d95b8097e85\" ><thead>    <tr>        <th class=\"col_heading level0 col0\" >% fake ratings</th>        <th class=\"col_heading level0 col1\" >RMSE</th>        <th class=\"col_heading level0 col2\" >% change in RMSE</th>    </tr></thead><tbody>\n",
       "                <tr>\n",
       "                                <td id=\"T_62028d86_5338_11eb_babb_7d95b8097e85row0_col0\" class=\"data row0 col0\" >0% </td>\n",
       "                        <td id=\"T_62028d86_5338_11eb_babb_7d95b8097e85row0_col1\" class=\"data row0 col1\" >0.9262</td>\n",
       "                        <td id=\"T_62028d86_5338_11eb_babb_7d95b8097e85row0_col2\" class=\"data row0 col2\" >0.0000</td>\n",
       "            </tr>\n",
       "            <tr>\n",
       "                                <td id=\"T_62028d86_5338_11eb_babb_7d95b8097e85row1_col0\" class=\"data row1 col0\" >1% </td>\n",
       "                        <td id=\"T_62028d86_5338_11eb_babb_7d95b8097e85row1_col1\" class=\"data row1 col1\" >0.9262</td>\n",
       "                        <td id=\"T_62028d86_5338_11eb_babb_7d95b8097e85row1_col2\" class=\"data row1 col2\" >0.0049</td>\n",
       "            </tr>\n",
       "            <tr>\n",
       "                                <td id=\"T_62028d86_5338_11eb_babb_7d95b8097e85row2_col0\" class=\"data row2 col0\" >10%</td>\n",
       "                        <td id=\"T_62028d86_5338_11eb_babb_7d95b8097e85row2_col1\" class=\"data row2 col1\" >0.9265</td>\n",
       "                        <td id=\"T_62028d86_5338_11eb_babb_7d95b8097e85row2_col2\" class=\"data row2 col2\" >0.0410</td>\n",
       "            </tr>\n",
       "            <tr>\n",
       "                                <td id=\"T_62028d86_5338_11eb_babb_7d95b8097e85row3_col0\" class=\"data row3 col0\" >50%</td>\n",
       "                        <td id=\"T_62028d86_5338_11eb_babb_7d95b8097e85row3_col1\" class=\"data row3 col1\" >0.9271</td>\n",
       "                        <td id=\"T_62028d86_5338_11eb_babb_7d95b8097e85row3_col2\" class=\"data row3 col2\" >0.1000</td>\n",
       "            </tr>\n",
       "    </tbody></table>"
      ],
      "text/plain": [
       "<pandas.io.formats.style.Styler at 0x7f81e20a5b50>"
      ]
     },
     "metadata": {},
     "output_type": "display_data"
    }
   ],
   "source": [
    "print(\"Overall change in RMSE for SVD\\n\")\n",
    "result = overall_error_change(svd_error)\n",
    "dfi.export(result,\"results/scenario1/svd_overall_error.png\")"
   ]
  },
  {
   "cell_type": "code",
   "execution_count": 61,
   "metadata": {},
   "outputs": [
    {
     "name": "stdout",
     "output_type": "stream",
     "text": [
      "Overall change in RMSE for kNN\n",
      "\n"
     ]
    },
    {
     "data": {
      "text/html": [
       "<style  type=\"text/css\" >\n",
       "    #T_6237f908_5338_11eb_babb_7d95b8097e85 th {\n",
       "          text-align: center;\n",
       "    }#T_6237f908_5338_11eb_babb_7d95b8097e85row0_col0,#T_6237f908_5338_11eb_babb_7d95b8097e85row0_col1,#T_6237f908_5338_11eb_babb_7d95b8097e85row0_col2,#T_6237f908_5338_11eb_babb_7d95b8097e85row1_col0,#T_6237f908_5338_11eb_babb_7d95b8097e85row1_col1,#T_6237f908_5338_11eb_babb_7d95b8097e85row1_col2,#T_6237f908_5338_11eb_babb_7d95b8097e85row2_col0,#T_6237f908_5338_11eb_babb_7d95b8097e85row2_col1,#T_6237f908_5338_11eb_babb_7d95b8097e85row2_col2,#T_6237f908_5338_11eb_babb_7d95b8097e85row3_col0,#T_6237f908_5338_11eb_babb_7d95b8097e85row3_col1,#T_6237f908_5338_11eb_babb_7d95b8097e85row3_col2{\n",
       "            text-align:  center;\n",
       "        }</style><table id=\"T_6237f908_5338_11eb_babb_7d95b8097e85\" ><thead>    <tr>        <th class=\"col_heading level0 col0\" >% fake ratings</th>        <th class=\"col_heading level0 col1\" >RMSE</th>        <th class=\"col_heading level0 col2\" >% change in RMSE</th>    </tr></thead><tbody>\n",
       "                <tr>\n",
       "                                <td id=\"T_6237f908_5338_11eb_babb_7d95b8097e85row0_col0\" class=\"data row0 col0\" >0% </td>\n",
       "                        <td id=\"T_6237f908_5338_11eb_babb_7d95b8097e85row0_col1\" class=\"data row0 col1\" >0.9462</td>\n",
       "                        <td id=\"T_6237f908_5338_11eb_babb_7d95b8097e85row0_col2\" class=\"data row0 col2\" >0.0000</td>\n",
       "            </tr>\n",
       "            <tr>\n",
       "                                <td id=\"T_6237f908_5338_11eb_babb_7d95b8097e85row1_col0\" class=\"data row1 col0\" >1% </td>\n",
       "                        <td id=\"T_6237f908_5338_11eb_babb_7d95b8097e85row1_col1\" class=\"data row1 col1\" >0.9462</td>\n",
       "                        <td id=\"T_6237f908_5338_11eb_babb_7d95b8097e85row1_col2\" class=\"data row1 col2\" >0.0002</td>\n",
       "            </tr>\n",
       "            <tr>\n",
       "                                <td id=\"T_6237f908_5338_11eb_babb_7d95b8097e85row2_col0\" class=\"data row2 col0\" >10%</td>\n",
       "                        <td id=\"T_6237f908_5338_11eb_babb_7d95b8097e85row2_col1\" class=\"data row2 col1\" >0.9475</td>\n",
       "                        <td id=\"T_6237f908_5338_11eb_babb_7d95b8097e85row2_col2\" class=\"data row2 col2\" >0.1429</td>\n",
       "            </tr>\n",
       "            <tr>\n",
       "                                <td id=\"T_6237f908_5338_11eb_babb_7d95b8097e85row3_col0\" class=\"data row3 col0\" >50%</td>\n",
       "                        <td id=\"T_6237f908_5338_11eb_babb_7d95b8097e85row3_col1\" class=\"data row3 col1\" >0.9485</td>\n",
       "                        <td id=\"T_6237f908_5338_11eb_babb_7d95b8097e85row3_col2\" class=\"data row3 col2\" >0.2461</td>\n",
       "            </tr>\n",
       "    </tbody></table>"
      ],
      "text/plain": [
       "<pandas.io.formats.style.Styler at 0x7f81e7629670>"
      ]
     },
     "metadata": {},
     "output_type": "display_data"
    }
   ],
   "source": [
    "print(\"Overall change in RMSE for kNN\\n\")\n",
    "result = overall_error_change(knn_error)\n",
    "dfi.export(result,\"results/scenario1/knn_overall_error.png\")"
   ]
  },
  {
   "cell_type": "code",
   "execution_count": 62,
   "metadata": {},
   "outputs": [],
   "source": [
    "#analyze how rating of a particular movie changed for certain user\n",
    "def rating_change_user_movie(predictions, movieID):\n",
    "    names = [\"0% fake ratings\", \"1% fake ratings\", \"10% fake ratings\", \"50% fake ratings\"]\n",
    "    columns = [\"% fake ratings\", \"true\", \"predicted\", \"% change in rating\"]\n",
    "    \n",
    "    #dataframe placeholder\n",
    "    df = pd.DataFrame()\n",
    "    \n",
    "    #extract true rating for given movie and user 23\n",
    "    true_rating = test_df.loc[(test_df[\"itemID\"]==movieID) & (test_df[\"userID\"]==23)][\"rating\"].values[0]\n",
    "    \n",
    "    for name in names:\n",
    "        #convert predictions into dataframe\n",
    "        preds = prediction_to_df(predictions[name])\n",
    "        \n",
    "        #extract predicted rating for movie and user\n",
    "        predicted_rating = preds.loc[(preds[\"itemID\"]==movieID) & (preds[\"userID\"]==23)][\"rating\"].values[0]\n",
    "        \n",
    "        #compute the percentage change between true and current rating\n",
    "        change = round((predicted_rating-true_rating)/true_rating*100,4)\n",
    "        \n",
    "        #append new row to dataframe\n",
    "        df = df.append([[name[:3], true_rating, predicted_rating, change]], ignore_index = True)\n",
    "        \n",
    "    df.columns = columns\n",
    "    return show_table(df)"
   ]
  },
  {
   "cell_type": "code",
   "execution_count": 63,
   "metadata": {},
   "outputs": [
    {
     "name": "stdout",
     "output_type": "stream",
     "text": [
      "Change in mean rating for user 23, movie Men in Black and SVD predictions\n",
      "\n"
     ]
    },
    {
     "data": {
      "text/html": [
       "<style  type=\"text/css\" >\n",
       "    #T_627d528c_5338_11eb_babb_7d95b8097e85 th {\n",
       "          text-align: center;\n",
       "    }#T_627d528c_5338_11eb_babb_7d95b8097e85row0_col0,#T_627d528c_5338_11eb_babb_7d95b8097e85row0_col1,#T_627d528c_5338_11eb_babb_7d95b8097e85row0_col2,#T_627d528c_5338_11eb_babb_7d95b8097e85row0_col3,#T_627d528c_5338_11eb_babb_7d95b8097e85row1_col0,#T_627d528c_5338_11eb_babb_7d95b8097e85row1_col1,#T_627d528c_5338_11eb_babb_7d95b8097e85row1_col2,#T_627d528c_5338_11eb_babb_7d95b8097e85row1_col3,#T_627d528c_5338_11eb_babb_7d95b8097e85row2_col0,#T_627d528c_5338_11eb_babb_7d95b8097e85row2_col1,#T_627d528c_5338_11eb_babb_7d95b8097e85row2_col2,#T_627d528c_5338_11eb_babb_7d95b8097e85row2_col3,#T_627d528c_5338_11eb_babb_7d95b8097e85row3_col0,#T_627d528c_5338_11eb_babb_7d95b8097e85row3_col1,#T_627d528c_5338_11eb_babb_7d95b8097e85row3_col2,#T_627d528c_5338_11eb_babb_7d95b8097e85row3_col3{\n",
       "            text-align:  center;\n",
       "        }</style><table id=\"T_627d528c_5338_11eb_babb_7d95b8097e85\" ><thead>    <tr>        <th class=\"col_heading level0 col0\" >% fake ratings</th>        <th class=\"col_heading level0 col1\" >true</th>        <th class=\"col_heading level0 col2\" >predicted</th>        <th class=\"col_heading level0 col3\" >% change in rating</th>    </tr></thead><tbody>\n",
       "                <tr>\n",
       "                                <td id=\"T_627d528c_5338_11eb_babb_7d95b8097e85row0_col0\" class=\"data row0 col0\" >0% </td>\n",
       "                        <td id=\"T_627d528c_5338_11eb_babb_7d95b8097e85row0_col1\" class=\"data row0 col1\" >3.0000</td>\n",
       "                        <td id=\"T_627d528c_5338_11eb_babb_7d95b8097e85row0_col2\" class=\"data row0 col2\" >3.5183</td>\n",
       "                        <td id=\"T_627d528c_5338_11eb_babb_7d95b8097e85row0_col3\" class=\"data row0 col3\" >17.2783</td>\n",
       "            </tr>\n",
       "            <tr>\n",
       "                                <td id=\"T_627d528c_5338_11eb_babb_7d95b8097e85row1_col0\" class=\"data row1 col0\" >1% </td>\n",
       "                        <td id=\"T_627d528c_5338_11eb_babb_7d95b8097e85row1_col1\" class=\"data row1 col1\" >3.0000</td>\n",
       "                        <td id=\"T_627d528c_5338_11eb_babb_7d95b8097e85row1_col2\" class=\"data row1 col2\" >3.5380</td>\n",
       "                        <td id=\"T_627d528c_5338_11eb_babb_7d95b8097e85row1_col3\" class=\"data row1 col3\" >17.9338</td>\n",
       "            </tr>\n",
       "            <tr>\n",
       "                                <td id=\"T_627d528c_5338_11eb_babb_7d95b8097e85row2_col0\" class=\"data row2 col0\" >10%</td>\n",
       "                        <td id=\"T_627d528c_5338_11eb_babb_7d95b8097e85row2_col1\" class=\"data row2 col1\" >3.0000</td>\n",
       "                        <td id=\"T_627d528c_5338_11eb_babb_7d95b8097e85row2_col2\" class=\"data row2 col2\" >3.7794</td>\n",
       "                        <td id=\"T_627d528c_5338_11eb_babb_7d95b8097e85row2_col3\" class=\"data row2 col3\" >25.9784</td>\n",
       "            </tr>\n",
       "            <tr>\n",
       "                                <td id=\"T_627d528c_5338_11eb_babb_7d95b8097e85row3_col0\" class=\"data row3 col0\" >50%</td>\n",
       "                        <td id=\"T_627d528c_5338_11eb_babb_7d95b8097e85row3_col1\" class=\"data row3 col1\" >3.0000</td>\n",
       "                        <td id=\"T_627d528c_5338_11eb_babb_7d95b8097e85row3_col2\" class=\"data row3 col2\" >4.1541</td>\n",
       "                        <td id=\"T_627d528c_5338_11eb_babb_7d95b8097e85row3_col3\" class=\"data row3 col3\" >38.4688</td>\n",
       "            </tr>\n",
       "    </tbody></table>"
      ],
      "text/plain": [
       "<pandas.io.formats.style.Styler at 0x7f81dab6fa00>"
      ]
     },
     "metadata": {},
     "output_type": "display_data"
    }
   ],
   "source": [
    "print(\"Change in mean rating for user 23, movie Men in Black and SVD predictions\\n\")\n",
    "result = rating_change_user_movie(svd_pred, 257)\n",
    "dfi.export(result,\"results/scenario1/svd_mib_23_rating.png\")"
   ]
  },
  {
   "cell_type": "code",
   "execution_count": 64,
   "metadata": {},
   "outputs": [
    {
     "name": "stdout",
     "output_type": "stream",
     "text": [
      "Change in mean rating for user 23, movie The Lion King and SVD predictions\n",
      "\n"
     ]
    },
    {
     "data": {
      "text/html": [
       "<style  type=\"text/css\" >\n",
       "    #T_62c41ab4_5338_11eb_babb_7d95b8097e85 th {\n",
       "          text-align: center;\n",
       "    }#T_62c41ab4_5338_11eb_babb_7d95b8097e85row0_col0,#T_62c41ab4_5338_11eb_babb_7d95b8097e85row0_col1,#T_62c41ab4_5338_11eb_babb_7d95b8097e85row0_col2,#T_62c41ab4_5338_11eb_babb_7d95b8097e85row0_col3,#T_62c41ab4_5338_11eb_babb_7d95b8097e85row1_col0,#T_62c41ab4_5338_11eb_babb_7d95b8097e85row1_col1,#T_62c41ab4_5338_11eb_babb_7d95b8097e85row1_col2,#T_62c41ab4_5338_11eb_babb_7d95b8097e85row1_col3,#T_62c41ab4_5338_11eb_babb_7d95b8097e85row2_col0,#T_62c41ab4_5338_11eb_babb_7d95b8097e85row2_col1,#T_62c41ab4_5338_11eb_babb_7d95b8097e85row2_col2,#T_62c41ab4_5338_11eb_babb_7d95b8097e85row2_col3,#T_62c41ab4_5338_11eb_babb_7d95b8097e85row3_col0,#T_62c41ab4_5338_11eb_babb_7d95b8097e85row3_col1,#T_62c41ab4_5338_11eb_babb_7d95b8097e85row3_col2,#T_62c41ab4_5338_11eb_babb_7d95b8097e85row3_col3{\n",
       "            text-align:  center;\n",
       "        }</style><table id=\"T_62c41ab4_5338_11eb_babb_7d95b8097e85\" ><thead>    <tr>        <th class=\"col_heading level0 col0\" >% fake ratings</th>        <th class=\"col_heading level0 col1\" >true</th>        <th class=\"col_heading level0 col2\" >predicted</th>        <th class=\"col_heading level0 col3\" >% change in rating</th>    </tr></thead><tbody>\n",
       "                <tr>\n",
       "                                <td id=\"T_62c41ab4_5338_11eb_babb_7d95b8097e85row0_col0\" class=\"data row0 col0\" >0% </td>\n",
       "                        <td id=\"T_62c41ab4_5338_11eb_babb_7d95b8097e85row0_col1\" class=\"data row0 col1\" >3.0000</td>\n",
       "                        <td id=\"T_62c41ab4_5338_11eb_babb_7d95b8097e85row0_col2\" class=\"data row0 col2\" >3.4000</td>\n",
       "                        <td id=\"T_62c41ab4_5338_11eb_babb_7d95b8097e85row0_col3\" class=\"data row0 col3\" >13.3322</td>\n",
       "            </tr>\n",
       "            <tr>\n",
       "                                <td id=\"T_62c41ab4_5338_11eb_babb_7d95b8097e85row1_col0\" class=\"data row1 col0\" >1% </td>\n",
       "                        <td id=\"T_62c41ab4_5338_11eb_babb_7d95b8097e85row1_col1\" class=\"data row1 col1\" >3.0000</td>\n",
       "                        <td id=\"T_62c41ab4_5338_11eb_babb_7d95b8097e85row1_col2\" class=\"data row1 col2\" >3.3998</td>\n",
       "                        <td id=\"T_62c41ab4_5338_11eb_babb_7d95b8097e85row1_col3\" class=\"data row1 col3\" >13.3283</td>\n",
       "            </tr>\n",
       "            <tr>\n",
       "                                <td id=\"T_62c41ab4_5338_11eb_babb_7d95b8097e85row2_col0\" class=\"data row2 col0\" >10%</td>\n",
       "                        <td id=\"T_62c41ab4_5338_11eb_babb_7d95b8097e85row2_col1\" class=\"data row2 col1\" >3.0000</td>\n",
       "                        <td id=\"T_62c41ab4_5338_11eb_babb_7d95b8097e85row2_col2\" class=\"data row2 col2\" >3.4363</td>\n",
       "                        <td id=\"T_62c41ab4_5338_11eb_babb_7d95b8097e85row2_col3\" class=\"data row2 col3\" >14.5428</td>\n",
       "            </tr>\n",
       "            <tr>\n",
       "                                <td id=\"T_62c41ab4_5338_11eb_babb_7d95b8097e85row3_col0\" class=\"data row3 col0\" >50%</td>\n",
       "                        <td id=\"T_62c41ab4_5338_11eb_babb_7d95b8097e85row3_col1\" class=\"data row3 col1\" >3.0000</td>\n",
       "                        <td id=\"T_62c41ab4_5338_11eb_babb_7d95b8097e85row3_col2\" class=\"data row3 col2\" >3.4209</td>\n",
       "                        <td id=\"T_62c41ab4_5338_11eb_babb_7d95b8097e85row3_col3\" class=\"data row3 col3\" >14.0289</td>\n",
       "            </tr>\n",
       "    </tbody></table>"
      ],
      "text/plain": [
       "<pandas.io.formats.style.Styler at 0x7f81e17b7b50>"
      ]
     },
     "metadata": {},
     "output_type": "display_data"
    }
   ],
   "source": [
    "print(\"Change in mean rating for user 23, movie The Lion King and SVD predictions\\n\")\n",
    "result = rating_change_user_movie(svd_pred, 71)\n",
    "dfi.export(result,\"results/scenario1/svd_lk_23_rating.png\")"
   ]
  },
  {
   "cell_type": "code",
   "execution_count": 65,
   "metadata": {},
   "outputs": [
    {
     "name": "stdout",
     "output_type": "stream",
     "text": [
      "Change in mean rating for user 23, movie Men in Black and kNN predictions\n",
      "\n"
     ]
    },
    {
     "data": {
      "text/html": [
       "<style  type=\"text/css\" >\n",
       "    #T_6307680a_5338_11eb_babb_7d95b8097e85 th {\n",
       "          text-align: center;\n",
       "    }#T_6307680a_5338_11eb_babb_7d95b8097e85row0_col0,#T_6307680a_5338_11eb_babb_7d95b8097e85row0_col1,#T_6307680a_5338_11eb_babb_7d95b8097e85row0_col2,#T_6307680a_5338_11eb_babb_7d95b8097e85row0_col3,#T_6307680a_5338_11eb_babb_7d95b8097e85row1_col0,#T_6307680a_5338_11eb_babb_7d95b8097e85row1_col1,#T_6307680a_5338_11eb_babb_7d95b8097e85row1_col2,#T_6307680a_5338_11eb_babb_7d95b8097e85row1_col3,#T_6307680a_5338_11eb_babb_7d95b8097e85row2_col0,#T_6307680a_5338_11eb_babb_7d95b8097e85row2_col1,#T_6307680a_5338_11eb_babb_7d95b8097e85row2_col2,#T_6307680a_5338_11eb_babb_7d95b8097e85row2_col3,#T_6307680a_5338_11eb_babb_7d95b8097e85row3_col0,#T_6307680a_5338_11eb_babb_7d95b8097e85row3_col1,#T_6307680a_5338_11eb_babb_7d95b8097e85row3_col2,#T_6307680a_5338_11eb_babb_7d95b8097e85row3_col3{\n",
       "            text-align:  center;\n",
       "        }</style><table id=\"T_6307680a_5338_11eb_babb_7d95b8097e85\" ><thead>    <tr>        <th class=\"col_heading level0 col0\" >% fake ratings</th>        <th class=\"col_heading level0 col1\" >true</th>        <th class=\"col_heading level0 col2\" >predicted</th>        <th class=\"col_heading level0 col3\" >% change in rating</th>    </tr></thead><tbody>\n",
       "                <tr>\n",
       "                                <td id=\"T_6307680a_5338_11eb_babb_7d95b8097e85row0_col0\" class=\"data row0 col0\" >0% </td>\n",
       "                        <td id=\"T_6307680a_5338_11eb_babb_7d95b8097e85row0_col1\" class=\"data row0 col1\" >3.0000</td>\n",
       "                        <td id=\"T_6307680a_5338_11eb_babb_7d95b8097e85row0_col2\" class=\"data row0 col2\" >3.7857</td>\n",
       "                        <td id=\"T_6307680a_5338_11eb_babb_7d95b8097e85row0_col3\" class=\"data row0 col3\" >26.1898</td>\n",
       "            </tr>\n",
       "            <tr>\n",
       "                                <td id=\"T_6307680a_5338_11eb_babb_7d95b8097e85row1_col0\" class=\"data row1 col0\" >1% </td>\n",
       "                        <td id=\"T_6307680a_5338_11eb_babb_7d95b8097e85row1_col1\" class=\"data row1 col1\" >3.0000</td>\n",
       "                        <td id=\"T_6307680a_5338_11eb_babb_7d95b8097e85row1_col2\" class=\"data row1 col2\" >3.9207</td>\n",
       "                        <td id=\"T_6307680a_5338_11eb_babb_7d95b8097e85row1_col3\" class=\"data row1 col3\" >30.6898</td>\n",
       "            </tr>\n",
       "            <tr>\n",
       "                                <td id=\"T_6307680a_5338_11eb_babb_7d95b8097e85row2_col0\" class=\"data row2 col0\" >10%</td>\n",
       "                        <td id=\"T_6307680a_5338_11eb_babb_7d95b8097e85row2_col1\" class=\"data row2 col1\" >3.0000</td>\n",
       "                        <td id=\"T_6307680a_5338_11eb_babb_7d95b8097e85row2_col2\" class=\"data row2 col2\" >4.6998</td>\n",
       "                        <td id=\"T_6307680a_5338_11eb_babb_7d95b8097e85row2_col3\" class=\"data row2 col3\" >56.6611</td>\n",
       "            </tr>\n",
       "            <tr>\n",
       "                                <td id=\"T_6307680a_5338_11eb_babb_7d95b8097e85row3_col0\" class=\"data row3 col0\" >50%</td>\n",
       "                        <td id=\"T_6307680a_5338_11eb_babb_7d95b8097e85row3_col1\" class=\"data row3 col1\" >3.0000</td>\n",
       "                        <td id=\"T_6307680a_5338_11eb_babb_7d95b8097e85row3_col2\" class=\"data row3 col2\" >4.9129</td>\n",
       "                        <td id=\"T_6307680a_5338_11eb_babb_7d95b8097e85row3_col3\" class=\"data row3 col3\" >63.7621</td>\n",
       "            </tr>\n",
       "    </tbody></table>"
      ],
      "text/plain": [
       "<pandas.io.formats.style.Styler at 0x7f81e7620f40>"
      ]
     },
     "metadata": {},
     "output_type": "display_data"
    }
   ],
   "source": [
    "print(\"Change in mean rating for user 23, movie Men in Black and kNN predictions\\n\")\n",
    "result = rating_change_user_movie(knn_pred, 257)\n",
    "dfi.export(result,\"results/scenario1/knn_mib_23_rating.png\")"
   ]
  },
  {
   "cell_type": "code",
   "execution_count": 66,
   "metadata": {},
   "outputs": [
    {
     "name": "stdout",
     "output_type": "stream",
     "text": [
      "Change in mean rating for user 23, movie The Lion King and kNN predictions\n",
      "\n"
     ]
    },
    {
     "data": {
      "text/html": [
       "<style  type=\"text/css\" >\n",
       "    #T_634b53da_5338_11eb_babb_7d95b8097e85 th {\n",
       "          text-align: center;\n",
       "    }#T_634b53da_5338_11eb_babb_7d95b8097e85row0_col0,#T_634b53da_5338_11eb_babb_7d95b8097e85row0_col1,#T_634b53da_5338_11eb_babb_7d95b8097e85row0_col2,#T_634b53da_5338_11eb_babb_7d95b8097e85row0_col3,#T_634b53da_5338_11eb_babb_7d95b8097e85row1_col0,#T_634b53da_5338_11eb_babb_7d95b8097e85row1_col1,#T_634b53da_5338_11eb_babb_7d95b8097e85row1_col2,#T_634b53da_5338_11eb_babb_7d95b8097e85row1_col3,#T_634b53da_5338_11eb_babb_7d95b8097e85row2_col0,#T_634b53da_5338_11eb_babb_7d95b8097e85row2_col1,#T_634b53da_5338_11eb_babb_7d95b8097e85row2_col2,#T_634b53da_5338_11eb_babb_7d95b8097e85row2_col3,#T_634b53da_5338_11eb_babb_7d95b8097e85row3_col0,#T_634b53da_5338_11eb_babb_7d95b8097e85row3_col1,#T_634b53da_5338_11eb_babb_7d95b8097e85row3_col2,#T_634b53da_5338_11eb_babb_7d95b8097e85row3_col3{\n",
       "            text-align:  center;\n",
       "        }</style><table id=\"T_634b53da_5338_11eb_babb_7d95b8097e85\" ><thead>    <tr>        <th class=\"col_heading level0 col0\" >% fake ratings</th>        <th class=\"col_heading level0 col1\" >true</th>        <th class=\"col_heading level0 col2\" >predicted</th>        <th class=\"col_heading level0 col3\" >% change in rating</th>    </tr></thead><tbody>\n",
       "                <tr>\n",
       "                                <td id=\"T_634b53da_5338_11eb_babb_7d95b8097e85row0_col0\" class=\"data row0 col0\" >0% </td>\n",
       "                        <td id=\"T_634b53da_5338_11eb_babb_7d95b8097e85row0_col1\" class=\"data row0 col1\" >3.0000</td>\n",
       "                        <td id=\"T_634b53da_5338_11eb_babb_7d95b8097e85row0_col2\" class=\"data row0 col2\" >3.7412</td>\n",
       "                        <td id=\"T_634b53da_5338_11eb_babb_7d95b8097e85row0_col3\" class=\"data row0 col3\" >24.7083</td>\n",
       "            </tr>\n",
       "            <tr>\n",
       "                                <td id=\"T_634b53da_5338_11eb_babb_7d95b8097e85row1_col0\" class=\"data row1 col0\" >1% </td>\n",
       "                        <td id=\"T_634b53da_5338_11eb_babb_7d95b8097e85row1_col1\" class=\"data row1 col1\" >3.0000</td>\n",
       "                        <td id=\"T_634b53da_5338_11eb_babb_7d95b8097e85row1_col2\" class=\"data row1 col2\" >3.7413</td>\n",
       "                        <td id=\"T_634b53da_5338_11eb_babb_7d95b8097e85row1_col3\" class=\"data row1 col3\" >24.7112</td>\n",
       "            </tr>\n",
       "            <tr>\n",
       "                                <td id=\"T_634b53da_5338_11eb_babb_7d95b8097e85row2_col0\" class=\"data row2 col0\" >10%</td>\n",
       "                        <td id=\"T_634b53da_5338_11eb_babb_7d95b8097e85row2_col1\" class=\"data row2 col1\" >3.0000</td>\n",
       "                        <td id=\"T_634b53da_5338_11eb_babb_7d95b8097e85row2_col2\" class=\"data row2 col2\" >3.7378</td>\n",
       "                        <td id=\"T_634b53da_5338_11eb_babb_7d95b8097e85row2_col3\" class=\"data row2 col3\" >24.5950</td>\n",
       "            </tr>\n",
       "            <tr>\n",
       "                                <td id=\"T_634b53da_5338_11eb_babb_7d95b8097e85row3_col0\" class=\"data row3 col0\" >50%</td>\n",
       "                        <td id=\"T_634b53da_5338_11eb_babb_7d95b8097e85row3_col1\" class=\"data row3 col1\" >3.0000</td>\n",
       "                        <td id=\"T_634b53da_5338_11eb_babb_7d95b8097e85row3_col2\" class=\"data row3 col2\" >3.6927</td>\n",
       "                        <td id=\"T_634b53da_5338_11eb_babb_7d95b8097e85row3_col3\" class=\"data row3 col3\" >23.0909</td>\n",
       "            </tr>\n",
       "    </tbody></table>"
      ],
      "text/plain": [
       "<pandas.io.formats.style.Styler at 0x7f81dab6fd90>"
      ]
     },
     "metadata": {},
     "output_type": "display_data"
    }
   ],
   "source": [
    "print(\"Change in mean rating for user 23, movie The Lion King and kNN predictions\\n\")\n",
    "result = rating_change_user_movie(knn_pred, 71)\n",
    "dfi.export(result,\"results/scenario1/knn_lk_23_rating.png\")"
   ]
  },
  {
   "cell_type": "code",
   "execution_count": 74,
   "metadata": {},
   "outputs": [],
   "source": [
    "#analyze how the mean rating for one user changed\n",
    "def rating_change_user(predictions):\n",
    "    names = [\"0% fake ratings\", \"1% fake ratings\", \"10% fake ratings\", \"50% fake ratings\"]\n",
    "    columns = [\"% fake ratings\", \"true rating\", \"predicted rating\", \"% change in rating\"]\n",
    "    \n",
    "    #dataframe placeholder\n",
    "    df = pd.DataFrame()\n",
    "    \n",
    "    #retrieve actual mean rating from test data\n",
    "    actual_rating = test_df[test_df[\"userID\"]==23][\"rating\"].mean()\n",
    "    \n",
    "    for name in names:\n",
    "        #convert predictions into dataframe\n",
    "        preds = prediction_to_df(predictions[name])\n",
    "        \n",
    "        #extract the mean rating for user\n",
    "        predicted_rating = preds[preds[\"userID\"]==23][\"rating\"].mean()\n",
    "        \n",
    "        #calculate percentage change in rating\n",
    "        change = round((predicted_rating-actual_rating)/actual_rating*100, 4)\n",
    "        \n",
    "        #append new row to dataframe\n",
    "        df = df.append([[name[:3], actual_rating, predicted_rating, change]], ignore_index = True)\n",
    "        \n",
    "    df.columns = columns\n",
    "    return show_table(df)"
   ]
  },
  {
   "cell_type": "code",
   "execution_count": 75,
   "metadata": {},
   "outputs": [
    {
     "name": "stdout",
     "output_type": "stream",
     "text": [
      "Overall rating change for user 23 and SVD predictions\n",
      "\n"
     ]
    },
    {
     "data": {
      "text/html": [
       "<style  type=\"text/css\" >\n",
       "    #T_ca9ea9cc_538a_11eb_babb_7d95b8097e85 th {\n",
       "          text-align: center;\n",
       "    }#T_ca9ea9cc_538a_11eb_babb_7d95b8097e85row0_col0,#T_ca9ea9cc_538a_11eb_babb_7d95b8097e85row0_col1,#T_ca9ea9cc_538a_11eb_babb_7d95b8097e85row0_col2,#T_ca9ea9cc_538a_11eb_babb_7d95b8097e85row0_col3,#T_ca9ea9cc_538a_11eb_babb_7d95b8097e85row1_col0,#T_ca9ea9cc_538a_11eb_babb_7d95b8097e85row1_col1,#T_ca9ea9cc_538a_11eb_babb_7d95b8097e85row1_col2,#T_ca9ea9cc_538a_11eb_babb_7d95b8097e85row1_col3,#T_ca9ea9cc_538a_11eb_babb_7d95b8097e85row2_col0,#T_ca9ea9cc_538a_11eb_babb_7d95b8097e85row2_col1,#T_ca9ea9cc_538a_11eb_babb_7d95b8097e85row2_col2,#T_ca9ea9cc_538a_11eb_babb_7d95b8097e85row2_col3,#T_ca9ea9cc_538a_11eb_babb_7d95b8097e85row3_col0,#T_ca9ea9cc_538a_11eb_babb_7d95b8097e85row3_col1,#T_ca9ea9cc_538a_11eb_babb_7d95b8097e85row3_col2,#T_ca9ea9cc_538a_11eb_babb_7d95b8097e85row3_col3{\n",
       "            text-align:  center;\n",
       "        }</style><table id=\"T_ca9ea9cc_538a_11eb_babb_7d95b8097e85\" ><thead>    <tr>        <th class=\"col_heading level0 col0\" >% fake ratings</th>        <th class=\"col_heading level0 col1\" >true rating</th>        <th class=\"col_heading level0 col2\" >predicted rating</th>        <th class=\"col_heading level0 col3\" >% change in rating</th>    </tr></thead><tbody>\n",
       "                <tr>\n",
       "                                <td id=\"T_ca9ea9cc_538a_11eb_babb_7d95b8097e85row0_col0\" class=\"data row0 col0\" >0% </td>\n",
       "                        <td id=\"T_ca9ea9cc_538a_11eb_babb_7d95b8097e85row0_col1\" class=\"data row0 col1\" >3.6349</td>\n",
       "                        <td id=\"T_ca9ea9cc_538a_11eb_babb_7d95b8097e85row0_col2\" class=\"data row0 col2\" >3.6491</td>\n",
       "                        <td id=\"T_ca9ea9cc_538a_11eb_babb_7d95b8097e85row0_col3\" class=\"data row0 col3\" >0.3901</td>\n",
       "            </tr>\n",
       "            <tr>\n",
       "                                <td id=\"T_ca9ea9cc_538a_11eb_babb_7d95b8097e85row1_col0\" class=\"data row1 col0\" >1% </td>\n",
       "                        <td id=\"T_ca9ea9cc_538a_11eb_babb_7d95b8097e85row1_col1\" class=\"data row1 col1\" >3.6349</td>\n",
       "                        <td id=\"T_ca9ea9cc_538a_11eb_babb_7d95b8097e85row1_col2\" class=\"data row1 col2\" >3.6495</td>\n",
       "                        <td id=\"T_ca9ea9cc_538a_11eb_babb_7d95b8097e85row1_col3\" class=\"data row1 col3\" >0.4012</td>\n",
       "            </tr>\n",
       "            <tr>\n",
       "                                <td id=\"T_ca9ea9cc_538a_11eb_babb_7d95b8097e85row2_col0\" class=\"data row2 col0\" >10%</td>\n",
       "                        <td id=\"T_ca9ea9cc_538a_11eb_babb_7d95b8097e85row2_col1\" class=\"data row2 col1\" >3.6349</td>\n",
       "                        <td id=\"T_ca9ea9cc_538a_11eb_babb_7d95b8097e85row2_col2\" class=\"data row2 col2\" >3.6721</td>\n",
       "                        <td id=\"T_ca9ea9cc_538a_11eb_babb_7d95b8097e85row2_col3\" class=\"data row2 col3\" >1.0237</td>\n",
       "            </tr>\n",
       "            <tr>\n",
       "                                <td id=\"T_ca9ea9cc_538a_11eb_babb_7d95b8097e85row3_col0\" class=\"data row3 col0\" >50%</td>\n",
       "                        <td id=\"T_ca9ea9cc_538a_11eb_babb_7d95b8097e85row3_col1\" class=\"data row3 col1\" >3.6349</td>\n",
       "                        <td id=\"T_ca9ea9cc_538a_11eb_babb_7d95b8097e85row3_col2\" class=\"data row3 col2\" >3.6723</td>\n",
       "                        <td id=\"T_ca9ea9cc_538a_11eb_babb_7d95b8097e85row3_col3\" class=\"data row3 col3\" >1.0289</td>\n",
       "            </tr>\n",
       "    </tbody></table>"
      ],
      "text/plain": [
       "<pandas.io.formats.style.Styler at 0x7f81e246f0d0>"
      ]
     },
     "metadata": {},
     "output_type": "display_data"
    }
   ],
   "source": [
    "print(\"Overall rating change for user 23 and SVD predictions\\n\")\n",
    "result = rating_change_user(svd_pred)\n",
    "dfi.export(result,\"results/scenario1/svd_23_rating.png\")"
   ]
  },
  {
   "cell_type": "code",
   "execution_count": 76,
   "metadata": {},
   "outputs": [
    {
     "name": "stdout",
     "output_type": "stream",
     "text": [
      "Overall rating change for user 23 and kNN predictions\n",
      "\n"
     ]
    },
    {
     "data": {
      "text/html": [
       "<style  type=\"text/css\" >\n",
       "    #T_cbb24e7c_538a_11eb_babb_7d95b8097e85 th {\n",
       "          text-align: center;\n",
       "    }#T_cbb24e7c_538a_11eb_babb_7d95b8097e85row0_col0,#T_cbb24e7c_538a_11eb_babb_7d95b8097e85row0_col1,#T_cbb24e7c_538a_11eb_babb_7d95b8097e85row0_col2,#T_cbb24e7c_538a_11eb_babb_7d95b8097e85row0_col3,#T_cbb24e7c_538a_11eb_babb_7d95b8097e85row1_col0,#T_cbb24e7c_538a_11eb_babb_7d95b8097e85row1_col1,#T_cbb24e7c_538a_11eb_babb_7d95b8097e85row1_col2,#T_cbb24e7c_538a_11eb_babb_7d95b8097e85row1_col3,#T_cbb24e7c_538a_11eb_babb_7d95b8097e85row2_col0,#T_cbb24e7c_538a_11eb_babb_7d95b8097e85row2_col1,#T_cbb24e7c_538a_11eb_babb_7d95b8097e85row2_col2,#T_cbb24e7c_538a_11eb_babb_7d95b8097e85row2_col3,#T_cbb24e7c_538a_11eb_babb_7d95b8097e85row3_col0,#T_cbb24e7c_538a_11eb_babb_7d95b8097e85row3_col1,#T_cbb24e7c_538a_11eb_babb_7d95b8097e85row3_col2,#T_cbb24e7c_538a_11eb_babb_7d95b8097e85row3_col3{\n",
       "            text-align:  center;\n",
       "        }</style><table id=\"T_cbb24e7c_538a_11eb_babb_7d95b8097e85\" ><thead>    <tr>        <th class=\"col_heading level0 col0\" >% fake ratings</th>        <th class=\"col_heading level0 col1\" >true rating</th>        <th class=\"col_heading level0 col2\" >predicted rating</th>        <th class=\"col_heading level0 col3\" >% change in rating</th>    </tr></thead><tbody>\n",
       "                <tr>\n",
       "                                <td id=\"T_cbb24e7c_538a_11eb_babb_7d95b8097e85row0_col0\" class=\"data row0 col0\" >0% </td>\n",
       "                        <td id=\"T_cbb24e7c_538a_11eb_babb_7d95b8097e85row0_col1\" class=\"data row0 col1\" >3.6349</td>\n",
       "                        <td id=\"T_cbb24e7c_538a_11eb_babb_7d95b8097e85row0_col2\" class=\"data row0 col2\" >3.7273</td>\n",
       "                        <td id=\"T_cbb24e7c_538a_11eb_babb_7d95b8097e85row0_col3\" class=\"data row0 col3\" >2.5415</td>\n",
       "            </tr>\n",
       "            <tr>\n",
       "                                <td id=\"T_cbb24e7c_538a_11eb_babb_7d95b8097e85row1_col0\" class=\"data row1 col0\" >1% </td>\n",
       "                        <td id=\"T_cbb24e7c_538a_11eb_babb_7d95b8097e85row1_col1\" class=\"data row1 col1\" >3.6349</td>\n",
       "                        <td id=\"T_cbb24e7c_538a_11eb_babb_7d95b8097e85row1_col2\" class=\"data row1 col2\" >3.7293</td>\n",
       "                        <td id=\"T_cbb24e7c_538a_11eb_babb_7d95b8097e85row1_col3\" class=\"data row1 col3\" >2.5971</td>\n",
       "            </tr>\n",
       "            <tr>\n",
       "                                <td id=\"T_cbb24e7c_538a_11eb_babb_7d95b8097e85row2_col0\" class=\"data row2 col0\" >10%</td>\n",
       "                        <td id=\"T_cbb24e7c_538a_11eb_babb_7d95b8097e85row2_col1\" class=\"data row2 col1\" >3.6349</td>\n",
       "                        <td id=\"T_cbb24e7c_538a_11eb_babb_7d95b8097e85row2_col2\" class=\"data row2 col2\" >3.7497</td>\n",
       "                        <td id=\"T_cbb24e7c_538a_11eb_babb_7d95b8097e85row2_col3\" class=\"data row2 col3\" >3.1575</td>\n",
       "            </tr>\n",
       "            <tr>\n",
       "                                <td id=\"T_cbb24e7c_538a_11eb_babb_7d95b8097e85row3_col0\" class=\"data row3 col0\" >50%</td>\n",
       "                        <td id=\"T_cbb24e7c_538a_11eb_babb_7d95b8097e85row3_col1\" class=\"data row3 col1\" >3.6349</td>\n",
       "                        <td id=\"T_cbb24e7c_538a_11eb_babb_7d95b8097e85row3_col2\" class=\"data row3 col2\" >3.7486</td>\n",
       "                        <td id=\"T_cbb24e7c_538a_11eb_babb_7d95b8097e85row3_col3\" class=\"data row3 col3\" >3.1276</td>\n",
       "            </tr>\n",
       "    </tbody></table>"
      ],
      "text/plain": [
       "<pandas.io.formats.style.Styler at 0x7f81e24355e0>"
      ]
     },
     "metadata": {},
     "output_type": "display_data"
    }
   ],
   "source": [
    "print(\"Overall rating change for user 23 and kNN predictions\\n\")\n",
    "result = rating_change_user(knn_pred)\n",
    "dfi.export(result,\"results/scenario1/knn_23_rating.png\")"
   ]
  },
  {
   "cell_type": "code",
   "execution_count": 70,
   "metadata": {},
   "outputs": [],
   "source": [
    "#analyze how the RMSE changed for particular user\n",
    "def error_change_user(predictions):\n",
    "    names = [\"0% fake ratings\", \"1% fake ratings\", \"10% fake ratings\", \"50% fake ratings\"]\n",
    "    columns = [\"% fake ratings\", \"RMSE\", \"% change in RMSE\"]\n",
    "    \n",
    "    #dataframe placeholder\n",
    "    df = pd.DataFrame()\n",
    "    \n",
    "    #retrieve actual mean rating from test data\n",
    "    actual_ratings = test_df[test_df[\"userID\"]==23][\"rating\"]\n",
    "    \n",
    "    for name in names:\n",
    "        #convert predictions into dataframe\n",
    "        preds = prediction_to_df(predictions[name])\n",
    "        \n",
    "        #extract the mean rating for user\n",
    "        predicted_ratings = preds[preds[\"userID\"]==23][\"rating\"]\n",
    "        \n",
    "        #calculate rmse for single user\n",
    "        rmse = sqrt(mse(actual_ratings, predicted_ratings))\n",
    "        \n",
    "        #since there is no error on test data, take the first predictions as baseline\n",
    "        if name == \"0% fake ratings\":\n",
    "            baseline_error = rmse\n",
    "            \n",
    "        #calculate percentage change in rating\n",
    "        change = round((rmse-baseline_error)/baseline_error*100, 4)\n",
    "        \n",
    "        #append new row to dataframe\n",
    "        df = df.append([[name[:3], rmse, change]], ignore_index = True)\n",
    "        \n",
    "    df.columns = columns\n",
    "    return show_table(df)"
   ]
  },
  {
   "cell_type": "code",
   "execution_count": 71,
   "metadata": {},
   "outputs": [
    {
     "name": "stdout",
     "output_type": "stream",
     "text": [
      "RMSE change for user 23 and SVD predictions\n",
      "\n"
     ]
    },
    {
     "data": {
      "text/html": [
       "<style  type=\"text/css\" >\n",
       "    #T_6419f1c2_5338_11eb_babb_7d95b8097e85 th {\n",
       "          text-align: center;\n",
       "    }#T_6419f1c2_5338_11eb_babb_7d95b8097e85row0_col0,#T_6419f1c2_5338_11eb_babb_7d95b8097e85row0_col1,#T_6419f1c2_5338_11eb_babb_7d95b8097e85row0_col2,#T_6419f1c2_5338_11eb_babb_7d95b8097e85row1_col0,#T_6419f1c2_5338_11eb_babb_7d95b8097e85row1_col1,#T_6419f1c2_5338_11eb_babb_7d95b8097e85row1_col2,#T_6419f1c2_5338_11eb_babb_7d95b8097e85row2_col0,#T_6419f1c2_5338_11eb_babb_7d95b8097e85row2_col1,#T_6419f1c2_5338_11eb_babb_7d95b8097e85row2_col2,#T_6419f1c2_5338_11eb_babb_7d95b8097e85row3_col0,#T_6419f1c2_5338_11eb_babb_7d95b8097e85row3_col1,#T_6419f1c2_5338_11eb_babb_7d95b8097e85row3_col2{\n",
       "            text-align:  center;\n",
       "        }</style><table id=\"T_6419f1c2_5338_11eb_babb_7d95b8097e85\" ><thead>    <tr>        <th class=\"col_heading level0 col0\" >% fake ratings</th>        <th class=\"col_heading level0 col1\" >RMSE</th>        <th class=\"col_heading level0 col2\" >% change in RMSE</th>    </tr></thead><tbody>\n",
       "                <tr>\n",
       "                                <td id=\"T_6419f1c2_5338_11eb_babb_7d95b8097e85row0_col0\" class=\"data row0 col0\" >0% </td>\n",
       "                        <td id=\"T_6419f1c2_5338_11eb_babb_7d95b8097e85row0_col1\" class=\"data row0 col1\" >0.8467</td>\n",
       "                        <td id=\"T_6419f1c2_5338_11eb_babb_7d95b8097e85row0_col2\" class=\"data row0 col2\" >0.0000</td>\n",
       "            </tr>\n",
       "            <tr>\n",
       "                                <td id=\"T_6419f1c2_5338_11eb_babb_7d95b8097e85row1_col0\" class=\"data row1 col0\" >1% </td>\n",
       "                        <td id=\"T_6419f1c2_5338_11eb_babb_7d95b8097e85row1_col1\" class=\"data row1 col1\" >0.8469</td>\n",
       "                        <td id=\"T_6419f1c2_5338_11eb_babb_7d95b8097e85row1_col2\" class=\"data row1 col2\" >0.0246</td>\n",
       "            </tr>\n",
       "            <tr>\n",
       "                                <td id=\"T_6419f1c2_5338_11eb_babb_7d95b8097e85row2_col0\" class=\"data row2 col0\" >10%</td>\n",
       "                        <td id=\"T_6419f1c2_5338_11eb_babb_7d95b8097e85row2_col1\" class=\"data row2 col1\" >0.8491</td>\n",
       "                        <td id=\"T_6419f1c2_5338_11eb_babb_7d95b8097e85row2_col2\" class=\"data row2 col2\" >0.2802</td>\n",
       "            </tr>\n",
       "            <tr>\n",
       "                                <td id=\"T_6419f1c2_5338_11eb_babb_7d95b8097e85row3_col0\" class=\"data row3 col0\" >50%</td>\n",
       "                        <td id=\"T_6419f1c2_5338_11eb_babb_7d95b8097e85row3_col1\" class=\"data row3 col1\" >0.8563</td>\n",
       "                        <td id=\"T_6419f1c2_5338_11eb_babb_7d95b8097e85row3_col2\" class=\"data row3 col2\" >1.1364</td>\n",
       "            </tr>\n",
       "    </tbody></table>"
      ],
      "text/plain": [
       "<pandas.io.formats.style.Styler at 0x7f81e17b5490>"
      ]
     },
     "metadata": {},
     "output_type": "display_data"
    }
   ],
   "source": [
    "print(\"RMSE change for user 23 and SVD predictions\\n\")\n",
    "result = error_change_user(svd_pred)\n",
    "dfi.export(result,\"results/scenario1/svd_23_error.png\")"
   ]
  },
  {
   "cell_type": "code",
   "execution_count": 72,
   "metadata": {},
   "outputs": [
    {
     "name": "stdout",
     "output_type": "stream",
     "text": [
      "RMSE change for user 23 and kNN predictions\n",
      "\n"
     ]
    },
    {
     "data": {
      "text/html": [
       "<style  type=\"text/css\" >\n",
       "    #T_645c266e_5338_11eb_babb_7d95b8097e85 th {\n",
       "          text-align: center;\n",
       "    }#T_645c266e_5338_11eb_babb_7d95b8097e85row0_col0,#T_645c266e_5338_11eb_babb_7d95b8097e85row0_col1,#T_645c266e_5338_11eb_babb_7d95b8097e85row0_col2,#T_645c266e_5338_11eb_babb_7d95b8097e85row1_col0,#T_645c266e_5338_11eb_babb_7d95b8097e85row1_col1,#T_645c266e_5338_11eb_babb_7d95b8097e85row1_col2,#T_645c266e_5338_11eb_babb_7d95b8097e85row2_col0,#T_645c266e_5338_11eb_babb_7d95b8097e85row2_col1,#T_645c266e_5338_11eb_babb_7d95b8097e85row2_col2,#T_645c266e_5338_11eb_babb_7d95b8097e85row3_col0,#T_645c266e_5338_11eb_babb_7d95b8097e85row3_col1,#T_645c266e_5338_11eb_babb_7d95b8097e85row3_col2{\n",
       "            text-align:  center;\n",
       "        }</style><table id=\"T_645c266e_5338_11eb_babb_7d95b8097e85\" ><thead>    <tr>        <th class=\"col_heading level0 col0\" >% fake ratings</th>        <th class=\"col_heading level0 col1\" >RMSE</th>        <th class=\"col_heading level0 col2\" >% change in RMSE</th>    </tr></thead><tbody>\n",
       "                <tr>\n",
       "                                <td id=\"T_645c266e_5338_11eb_babb_7d95b8097e85row0_col0\" class=\"data row0 col0\" >0% </td>\n",
       "                        <td id=\"T_645c266e_5338_11eb_babb_7d95b8097e85row0_col1\" class=\"data row0 col1\" >0.8675</td>\n",
       "                        <td id=\"T_645c266e_5338_11eb_babb_7d95b8097e85row0_col2\" class=\"data row0 col2\" >0.0000</td>\n",
       "            </tr>\n",
       "            <tr>\n",
       "                                <td id=\"T_645c266e_5338_11eb_babb_7d95b8097e85row1_col0\" class=\"data row1 col0\" >1% </td>\n",
       "                        <td id=\"T_645c266e_5338_11eb_babb_7d95b8097e85row1_col1\" class=\"data row1 col1\" >0.8697</td>\n",
       "                        <td id=\"T_645c266e_5338_11eb_babb_7d95b8097e85row1_col2\" class=\"data row1 col2\" >0.2452</td>\n",
       "            </tr>\n",
       "            <tr>\n",
       "                                <td id=\"T_645c266e_5338_11eb_babb_7d95b8097e85row2_col0\" class=\"data row2 col0\" >10%</td>\n",
       "                        <td id=\"T_645c266e_5338_11eb_babb_7d95b8097e85row2_col1\" class=\"data row2 col1\" >0.8872</td>\n",
       "                        <td id=\"T_645c266e_5338_11eb_babb_7d95b8097e85row2_col2\" class=\"data row2 col2\" >2.2736</td>\n",
       "            </tr>\n",
       "            <tr>\n",
       "                                <td id=\"T_645c266e_5338_11eb_babb_7d95b8097e85row3_col0\" class=\"data row3 col0\" >50%</td>\n",
       "                        <td id=\"T_645c266e_5338_11eb_babb_7d95b8097e85row3_col1\" class=\"data row3 col1\" >0.8837</td>\n",
       "                        <td id=\"T_645c266e_5338_11eb_babb_7d95b8097e85row3_col2\" class=\"data row3 col2\" >1.8638</td>\n",
       "            </tr>\n",
       "    </tbody></table>"
      ],
      "text/plain": [
       "<pandas.io.formats.style.Styler at 0x7f81da7fd5b0>"
      ]
     },
     "metadata": {},
     "output_type": "display_data"
    }
   ],
   "source": [
    "print(\"RMSE change for user 23 and kNN predictions\\n\")\n",
    "result = error_change_user(knn_pred)\n",
    "dfi.export(result,\"results/scenario1/knn_23_error.png\")"
   ]
  },
  {
   "cell_type": "code",
   "execution_count": null,
   "metadata": {},
   "outputs": [],
   "source": []
  }
 ],
 "metadata": {
  "kernelspec": {
   "display_name": "Python 3",
   "language": "python",
   "name": "python3"
  },
  "language_info": {
   "codemirror_mode": {
    "name": "ipython",
    "version": 3
   },
   "file_extension": ".py",
   "mimetype": "text/x-python",
   "name": "python",
   "nbconvert_exporter": "python",
   "pygments_lexer": "ipython3",
   "version": "3.8.5"
  }
 },
 "nbformat": 4,
 "nbformat_minor": 4
}
