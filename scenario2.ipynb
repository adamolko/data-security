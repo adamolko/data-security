{
 "cells": [
  {
   "cell_type": "markdown",
   "metadata": {},
   "source": [
    "**Strategy**: Add fake users, who got paid to place 5.0 ratings for a particular movie.<br>\n",
    "Those fake users never rated anything before, so when we add them, they only have 5.0 rating for the movie we chose.<br>\n",
    "Also add 1%,10% and 50% of fake users from the total number of users.<br>\n",
    "Use the same popular and recent movie from *Scenario 1*, i.e. Men in Black, id = 257. <br>\n",
    "Again, check how it affects overall prediction quality as well as predictions for particular user."
   ]
  },
  {
   "cell_type": "code",
   "execution_count": 1,
   "metadata": {},
   "outputs": [],
   "source": [
    "import numpy as np\n",
    "import pandas as pd\n",
    "from surprise import SVD\n",
    "from surprise import Dataset, Reader, accuracy\n",
    "from surprise.prediction_algorithms.knns import KNNBaseline\n",
    "from sklearn.metrics import mean_squared_error as mse\n",
    "from math import sqrt\n",
    "from IPython.display import display\n",
    "import dataframe_image as dfi"
   ]
  },
  {
   "cell_type": "code",
   "execution_count": 2,
   "metadata": {},
   "outputs": [],
   "source": [
    "#loading training data\n",
    "train_df = pd.read_csv(\"data/ml-100k/u1.base\", sep = \"\\t\", header = None, engine = \"python\",\n",
    "                    usecols = [0,1,2], names = [\"userID\",\"itemID\", \"rating\"],\n",
    "                    dtype={'userId': 'int32', 'movieId': 'int32', 'rating': 'float32'})\n",
    "\n",
    "#loading test data\n",
    "test_df = pd.read_csv(\"data/ml-100k/u1.test\", sep = \"\\t\", header = None, engine = \"python\",\n",
    "                    usecols = [0,1,2], names = [\"userID\",\"itemID\", \"rating\"],\n",
    "                    dtype={'userId': 'int32', 'movieId': 'int32', 'rating': 'float32'})"
   ]
  },
  {
   "cell_type": "code",
   "execution_count": 3,
   "metadata": {},
   "outputs": [],
   "source": [
    "reader = Reader(rating_scale=(1, 5))\n",
    "\n",
    "#getting the data into appropriate format\n",
    "train_dataset = Dataset.load_from_df(train_df, reader)\n",
    "trainset = train_dataset.build_full_trainset()\n",
    "testset = list(zip(*map(test_df.get, test_df)))"
   ]
  },
  {
   "cell_type": "code",
   "execution_count": 4,
   "metadata": {},
   "outputs": [],
   "source": [
    "#dictionaries to store the results for two algorithms\n",
    "svd_error = {}\n",
    "svd_pred = {}\n",
    "knn_error = {}\n",
    "knn_pred = {}"
   ]
  },
  {
   "cell_type": "code",
   "execution_count": 5,
   "metadata": {},
   "outputs": [],
   "source": [
    "def svd_prediction(trainset):\n",
    "    #justification for parameters is in the notebook \"model selection\"\n",
    "    svd = SVD(biased = True, n_factors = 150, n_epochs = 30, lr_all = 0.01, reg_all = 0.1, random_state = 49)\n",
    "\n",
    "    # train the algorithm on the trainset, and predict ratings for the testset\n",
    "    svd.fit(trainset)\n",
    "    \n",
    "    #testset in this case is a global variable that doesn't change\n",
    "    predictions = svd.test(testset)\n",
    "\n",
    "    # compute RMSE\n",
    "    error = accuracy.rmse(predictions)\n",
    "    \n",
    "    return predictions, error"
   ]
  },
  {
   "cell_type": "code",
   "execution_count": 6,
   "metadata": {},
   "outputs": [
    {
     "name": "stdout",
     "output_type": "stream",
     "text": [
      "RMSE: 0.9262\n"
     ]
    }
   ],
   "source": [
    "#simple predictions without adding fake ratings\n",
    "svd_pred[\"0% fake ratings\"], svd_error[\"0% fake ratings\"] = svd_prediction(trainset)"
   ]
  },
  {
   "cell_type": "code",
   "execution_count": 7,
   "metadata": {},
   "outputs": [],
   "source": [
    "def knn_prediction(trainset):\n",
    "    #justification for algorithm and parameters is in the notebook \"model selection\"\n",
    "    knn = KNNBaseline(verbose = False, sim_options = {\"name\":\"cosine\", \"user_based\":True})\n",
    "    \n",
    "    #fit on the training data provided\n",
    "    knn.fit(trainset)\n",
    "    \n",
    "    #produce predictions\n",
    "    predictions = knn.test(testset)\n",
    "    \n",
    "    #compute error\n",
    "    error = accuracy.rmse(predictions)\n",
    "    \n",
    "    return predictions, error"
   ]
  },
  {
   "cell_type": "code",
   "execution_count": 8,
   "metadata": {},
   "outputs": [
    {
     "name": "stdout",
     "output_type": "stream",
     "text": [
      "RMSE: 0.9462\n"
     ]
    }
   ],
   "source": [
    "#simple predictions without adding fake ratings\n",
    "knn_pred[\"0% fake ratings\"], knn_error[\"0% fake ratings\"] = knn_prediction(trainset)"
   ]
  },
  {
   "cell_type": "code",
   "execution_count": 9,
   "metadata": {},
   "outputs": [],
   "source": [
    "#notice the last userID, then just add fake users with ID's bigger than that\n",
    "num_users = len(train_df[\"userID\"].unique())\n",
    "\n",
    "def fake_users(percent = 0.01):\n",
    "    #make a copy of original train dataframe\n",
    "    fake_train_df = train_df.copy()\n",
    "    \n",
    "    #estimate the number of fake users to add\n",
    "    num_fake_users = int(percent*num_users)\n",
    "    \n",
    "    #actually add fake users\n",
    "    for i in range((num_users+1), (num_users+num_fake_users+1)):\n",
    "        temp_df = pd.DataFrame([[i, 257, 5.0]], columns = [\"userID\", \"itemID\", \"rating\"])\n",
    "        fake_train_df = fake_train_df.append(temp_df, ignore_index = True)\n",
    "        \n",
    "    #convert dataframe with fake users into object of Trainset class\n",
    "    fake_train_dataset = Dataset.load_from_df(fake_train_df, reader)\n",
    "    fake_trainset = fake_train_dataset.build_full_trainset()\n",
    "    \n",
    "    name = \"{}% fake ratings\".format(int(percent*100))\n",
    "\n",
    "    #run svd with fake users, append the mean rating and the error\n",
    "    prediction_svd, error_svd = svd_prediction(fake_trainset)\n",
    "    \n",
    "    #same for knn\n",
    "    prediction_knn, error_knn = knn_prediction(fake_trainset)\n",
    "    \n",
    "    return prediction_svd, error_svd, prediction_knn, error_knn"
   ]
  },
  {
   "cell_type": "code",
   "execution_count": 10,
   "metadata": {},
   "outputs": [
    {
     "name": "stdout",
     "output_type": "stream",
     "text": [
      "RMSE: 0.9262\n",
      "RMSE: 0.9462\n"
     ]
    }
   ],
   "source": [
    "svd_pred[\"1% fake ratings\"], svd_error[\"1% fake ratings\"], knn_pred[\"1% fake ratings\"], knn_error[\"1% fake ratings\"] = fake_users(0.01)"
   ]
  },
  {
   "cell_type": "code",
   "execution_count": 11,
   "metadata": {},
   "outputs": [
    {
     "name": "stdout",
     "output_type": "stream",
     "text": [
      "RMSE: 0.9254\n",
      "RMSE: 0.9462\n"
     ]
    }
   ],
   "source": [
    "svd_pred[\"10% fake ratings\"], svd_error[\"10% fake ratings\"], knn_pred[\"10% fake ratings\"], knn_error[\"10% fake ratings\"] = fake_users(0.1)"
   ]
  },
  {
   "cell_type": "code",
   "execution_count": 12,
   "metadata": {},
   "outputs": [
    {
     "name": "stdout",
     "output_type": "stream",
     "text": [
      "RMSE: 0.9280\n",
      "RMSE: 0.9462\n"
     ]
    }
   ],
   "source": [
    "svd_pred[\"50% fake ratings\"], svd_error[\"50% fake ratings\"], knn_pred[\"50% fake ratings\"], knn_error[\"50% fake ratings\"] = fake_users(0.5)"
   ]
  },
  {
   "cell_type": "code",
   "execution_count": 13,
   "metadata": {},
   "outputs": [],
   "source": [
    "#convert predictions to a dataframe\n",
    "def prediction_to_df(predictions):\n",
    "    df = pd.DataFrame(predictions) \n",
    "    df = df.drop([\"r_ui\", \"details\"], axis=1)\n",
    "    df = df.rename(columns={\"uid\": \"userID\", \"iid\": \"itemID\", \"est\":\"rating\"})\n",
    "    \n",
    "    return df"
   ]
  },
  {
   "cell_type": "code",
   "execution_count": 14,
   "metadata": {},
   "outputs": [],
   "source": [
    "#function to show the dataframe as a nicely formatted table\n",
    "def show_table(df):\n",
    "    #creating Styler object and setting its properties\n",
    "    df1 = df.style.set_table_styles([dict(selector='th', props=[('text-align', 'center')])]).set_precision(4)\n",
    "    df1.set_properties(**{'text-align': 'center'}).hide_index()\n",
    "    \n",
    "    display(df1)\n",
    "    return df1"
   ]
  },
  {
   "cell_type": "code",
   "execution_count": 15,
   "metadata": {},
   "outputs": [],
   "source": [
    "#Mean overall rating change for a movie\n",
    "def mean_overall_rating_change(predictions, error, movieID):\n",
    "    names = [\"0% fake ratings\", \"1% fake ratings\", \"10% fake ratings\", \"50% fake ratings\"]\n",
    "    columns = [\"% fake ratings\", \"true mean rating\", \"predicted mean rating\", \"% change in rating\", \"RMSE\", \"% change in RMSE\"]\n",
    "    \n",
    "    #dataframe placeholder\n",
    "    df = pd.DataFrame()\n",
    "    \n",
    "    #actual predictions\n",
    "    actual = test_df[test_df[\"itemID\"]==movieID][\"rating\"]\n",
    "\n",
    "    for name in names:\n",
    "        #get the true mean rating\n",
    "        true = round(test_df[test_df[\"itemID\"]==movieID][\"rating\"].mean(), 4)\n",
    "        \n",
    "        #transform predictions into dataframe\n",
    "        preds = prediction_to_df(predictions[name])\n",
    "        \n",
    "        #get the predicted mean rating\n",
    "        predicted = round(preds[preds[\"itemID\"]==movieID][\"rating\"].mean(), 4)\n",
    "        \n",
    "        #calculate the change relative to baseline prediction\n",
    "        change_rating = round((predicted-true)/true*100,2)\n",
    "        \n",
    "        #for single movie rmse is actually just absolute difference between actual observation\n",
    "        #and prediction\n",
    "        rmse = round(sqrt(mse(actual,preds[preds[\"itemID\"]==movieID][\"rating\"])),4)\n",
    "        \n",
    "        if name == \"0% fake ratings\":\n",
    "            baseline_error = rmse\n",
    "        \n",
    "        #calculate the change relative to baseline error\n",
    "        change_error = round((rmse-baseline_error)/baseline_error*100, 4)\n",
    "        \n",
    "        #append a row to the dataframe\n",
    "        df = df.append([[name[:3], true, predicted, change_rating, rmse, change_error]], ignore_index = True)\n",
    "    \n",
    "    #set the right names for columns\n",
    "    df.columns = columns\n",
    "    return show_table(df)"
   ]
  },
  {
   "cell_type": "code",
   "execution_count": 16,
   "metadata": {},
   "outputs": [
    {
     "name": "stdout",
     "output_type": "stream",
     "text": [
      "svd for men in black\n",
      "\n"
     ]
    },
    {
     "data": {
      "text/html": [
       "<style  type=\"text/css\" >\n",
       "    #T_9e4b0594_5b66_11eb_ab0b_d35b31dde2a0 th {\n",
       "          text-align: center;\n",
       "    }#T_9e4b0594_5b66_11eb_ab0b_d35b31dde2a0row0_col0,#T_9e4b0594_5b66_11eb_ab0b_d35b31dde2a0row0_col1,#T_9e4b0594_5b66_11eb_ab0b_d35b31dde2a0row0_col2,#T_9e4b0594_5b66_11eb_ab0b_d35b31dde2a0row0_col3,#T_9e4b0594_5b66_11eb_ab0b_d35b31dde2a0row0_col4,#T_9e4b0594_5b66_11eb_ab0b_d35b31dde2a0row0_col5,#T_9e4b0594_5b66_11eb_ab0b_d35b31dde2a0row1_col0,#T_9e4b0594_5b66_11eb_ab0b_d35b31dde2a0row1_col1,#T_9e4b0594_5b66_11eb_ab0b_d35b31dde2a0row1_col2,#T_9e4b0594_5b66_11eb_ab0b_d35b31dde2a0row1_col3,#T_9e4b0594_5b66_11eb_ab0b_d35b31dde2a0row1_col4,#T_9e4b0594_5b66_11eb_ab0b_d35b31dde2a0row1_col5,#T_9e4b0594_5b66_11eb_ab0b_d35b31dde2a0row2_col0,#T_9e4b0594_5b66_11eb_ab0b_d35b31dde2a0row2_col1,#T_9e4b0594_5b66_11eb_ab0b_d35b31dde2a0row2_col2,#T_9e4b0594_5b66_11eb_ab0b_d35b31dde2a0row2_col3,#T_9e4b0594_5b66_11eb_ab0b_d35b31dde2a0row2_col4,#T_9e4b0594_5b66_11eb_ab0b_d35b31dde2a0row2_col5,#T_9e4b0594_5b66_11eb_ab0b_d35b31dde2a0row3_col0,#T_9e4b0594_5b66_11eb_ab0b_d35b31dde2a0row3_col1,#T_9e4b0594_5b66_11eb_ab0b_d35b31dde2a0row3_col2,#T_9e4b0594_5b66_11eb_ab0b_d35b31dde2a0row3_col3,#T_9e4b0594_5b66_11eb_ab0b_d35b31dde2a0row3_col4,#T_9e4b0594_5b66_11eb_ab0b_d35b31dde2a0row3_col5{\n",
       "            text-align:  center;\n",
       "        }</style><table id=\"T_9e4b0594_5b66_11eb_ab0b_d35b31dde2a0\" ><thead>    <tr>        <th class=\"col_heading level0 col0\" >% fake ratings</th>        <th class=\"col_heading level0 col1\" >true mean rating</th>        <th class=\"col_heading level0 col2\" >predicted mean rating</th>        <th class=\"col_heading level0 col3\" >% change in rating</th>        <th class=\"col_heading level0 col4\" >RMSE</th>        <th class=\"col_heading level0 col5\" >% change in RMSE</th>    </tr></thead><tbody>\n",
       "                <tr>\n",
       "                                <td id=\"T_9e4b0594_5b66_11eb_ab0b_d35b31dde2a0row0_col0\" class=\"data row0 col0\" >0% </td>\n",
       "                        <td id=\"T_9e4b0594_5b66_11eb_ab0b_d35b31dde2a0row0_col1\" class=\"data row0 col1\" >3.5577</td>\n",
       "                        <td id=\"T_9e4b0594_5b66_11eb_ab0b_d35b31dde2a0row0_col2\" class=\"data row0 col2\" >3.7137</td>\n",
       "                        <td id=\"T_9e4b0594_5b66_11eb_ab0b_d35b31dde2a0row0_col3\" class=\"data row0 col3\" >4.3800</td>\n",
       "                        <td id=\"T_9e4b0594_5b66_11eb_ab0b_d35b31dde2a0row0_col4\" class=\"data row0 col4\" >0.9834</td>\n",
       "                        <td id=\"T_9e4b0594_5b66_11eb_ab0b_d35b31dde2a0row0_col5\" class=\"data row0 col5\" >0.0000</td>\n",
       "            </tr>\n",
       "            <tr>\n",
       "                                <td id=\"T_9e4b0594_5b66_11eb_ab0b_d35b31dde2a0row1_col0\" class=\"data row1 col0\" >1% </td>\n",
       "                        <td id=\"T_9e4b0594_5b66_11eb_ab0b_d35b31dde2a0row1_col1\" class=\"data row1 col1\" >3.5577</td>\n",
       "                        <td id=\"T_9e4b0594_5b66_11eb_ab0b_d35b31dde2a0row1_col2\" class=\"data row1 col2\" >3.7881</td>\n",
       "                        <td id=\"T_9e4b0594_5b66_11eb_ab0b_d35b31dde2a0row1_col3\" class=\"data row1 col3\" >6.4800</td>\n",
       "                        <td id=\"T_9e4b0594_5b66_11eb_ab0b_d35b31dde2a0row1_col4\" class=\"data row1 col4\" >1.0198</td>\n",
       "                        <td id=\"T_9e4b0594_5b66_11eb_ab0b_d35b31dde2a0row1_col5\" class=\"data row1 col5\" >3.7014</td>\n",
       "            </tr>\n",
       "            <tr>\n",
       "                                <td id=\"T_9e4b0594_5b66_11eb_ab0b_d35b31dde2a0row2_col0\" class=\"data row2 col0\" >10%</td>\n",
       "                        <td id=\"T_9e4b0594_5b66_11eb_ab0b_d35b31dde2a0row2_col1\" class=\"data row2 col1\" >3.5577</td>\n",
       "                        <td id=\"T_9e4b0594_5b66_11eb_ab0b_d35b31dde2a0row2_col2\" class=\"data row2 col2\" >4.2733</td>\n",
       "                        <td id=\"T_9e4b0594_5b66_11eb_ab0b_d35b31dde2a0row2_col3\" class=\"data row2 col3\" >20.1100</td>\n",
       "                        <td id=\"T_9e4b0594_5b66_11eb_ab0b_d35b31dde2a0row2_col4\" class=\"data row2 col4\" >1.2231</td>\n",
       "                        <td id=\"T_9e4b0594_5b66_11eb_ab0b_d35b31dde2a0row2_col5\" class=\"data row2 col5\" >24.3746</td>\n",
       "            </tr>\n",
       "            <tr>\n",
       "                                <td id=\"T_9e4b0594_5b66_11eb_ab0b_d35b31dde2a0row3_col0\" class=\"data row3 col0\" >50%</td>\n",
       "                        <td id=\"T_9e4b0594_5b66_11eb_ab0b_d35b31dde2a0row3_col1\" class=\"data row3 col1\" >3.5577</td>\n",
       "                        <td id=\"T_9e4b0594_5b66_11eb_ab0b_d35b31dde2a0row3_col2\" class=\"data row3 col2\" >4.7361</td>\n",
       "                        <td id=\"T_9e4b0594_5b66_11eb_ab0b_d35b31dde2a0row3_col3\" class=\"data row3 col3\" >33.1200</td>\n",
       "                        <td id=\"T_9e4b0594_5b66_11eb_ab0b_d35b31dde2a0row3_col4\" class=\"data row3 col4\" >1.5322</td>\n",
       "                        <td id=\"T_9e4b0594_5b66_11eb_ab0b_d35b31dde2a0row3_col5\" class=\"data row3 col5\" >55.8064</td>\n",
       "            </tr>\n",
       "    </tbody></table>"
      ],
      "text/plain": [
       "<pandas.io.formats.style.Styler at 0x7f23e60f77f0>"
      ]
     },
     "metadata": {},
     "output_type": "display_data"
    }
   ],
   "source": [
    "print(\"svd for men in black\\n\")\n",
    "result = mean_overall_rating_change(svd_pred, svd_error, 257)\n",
    "dfi.export(result,\"results/scenario2/svd_mib_overall_rating.png\")"
   ]
  },
  {
   "cell_type": "code",
   "execution_count": 17,
   "metadata": {},
   "outputs": [
    {
     "name": "stdout",
     "output_type": "stream",
     "text": [
      "knn for men in black\n",
      "\n"
     ]
    },
    {
     "data": {
      "text/html": [
       "<style  type=\"text/css\" >\n",
       "    #T_9ea0c4d4_5b66_11eb_ab0b_d35b31dde2a0 th {\n",
       "          text-align: center;\n",
       "    }#T_9ea0c4d4_5b66_11eb_ab0b_d35b31dde2a0row0_col0,#T_9ea0c4d4_5b66_11eb_ab0b_d35b31dde2a0row0_col1,#T_9ea0c4d4_5b66_11eb_ab0b_d35b31dde2a0row0_col2,#T_9ea0c4d4_5b66_11eb_ab0b_d35b31dde2a0row0_col3,#T_9ea0c4d4_5b66_11eb_ab0b_d35b31dde2a0row0_col4,#T_9ea0c4d4_5b66_11eb_ab0b_d35b31dde2a0row0_col5,#T_9ea0c4d4_5b66_11eb_ab0b_d35b31dde2a0row1_col0,#T_9ea0c4d4_5b66_11eb_ab0b_d35b31dde2a0row1_col1,#T_9ea0c4d4_5b66_11eb_ab0b_d35b31dde2a0row1_col2,#T_9ea0c4d4_5b66_11eb_ab0b_d35b31dde2a0row1_col3,#T_9ea0c4d4_5b66_11eb_ab0b_d35b31dde2a0row1_col4,#T_9ea0c4d4_5b66_11eb_ab0b_d35b31dde2a0row1_col5,#T_9ea0c4d4_5b66_11eb_ab0b_d35b31dde2a0row2_col0,#T_9ea0c4d4_5b66_11eb_ab0b_d35b31dde2a0row2_col1,#T_9ea0c4d4_5b66_11eb_ab0b_d35b31dde2a0row2_col2,#T_9ea0c4d4_5b66_11eb_ab0b_d35b31dde2a0row2_col3,#T_9ea0c4d4_5b66_11eb_ab0b_d35b31dde2a0row2_col4,#T_9ea0c4d4_5b66_11eb_ab0b_d35b31dde2a0row2_col5,#T_9ea0c4d4_5b66_11eb_ab0b_d35b31dde2a0row3_col0,#T_9ea0c4d4_5b66_11eb_ab0b_d35b31dde2a0row3_col1,#T_9ea0c4d4_5b66_11eb_ab0b_d35b31dde2a0row3_col2,#T_9ea0c4d4_5b66_11eb_ab0b_d35b31dde2a0row3_col3,#T_9ea0c4d4_5b66_11eb_ab0b_d35b31dde2a0row3_col4,#T_9ea0c4d4_5b66_11eb_ab0b_d35b31dde2a0row3_col5{\n",
       "            text-align:  center;\n",
       "        }</style><table id=\"T_9ea0c4d4_5b66_11eb_ab0b_d35b31dde2a0\" ><thead>    <tr>        <th class=\"col_heading level0 col0\" >% fake ratings</th>        <th class=\"col_heading level0 col1\" >true mean rating</th>        <th class=\"col_heading level0 col2\" >predicted mean rating</th>        <th class=\"col_heading level0 col3\" >% change in rating</th>        <th class=\"col_heading level0 col4\" >RMSE</th>        <th class=\"col_heading level0 col5\" >% change in RMSE</th>    </tr></thead><tbody>\n",
       "                <tr>\n",
       "                                <td id=\"T_9ea0c4d4_5b66_11eb_ab0b_d35b31dde2a0row0_col0\" class=\"data row0 col0\" >0% </td>\n",
       "                        <td id=\"T_9ea0c4d4_5b66_11eb_ab0b_d35b31dde2a0row0_col1\" class=\"data row0 col1\" >3.5577</td>\n",
       "                        <td id=\"T_9ea0c4d4_5b66_11eb_ab0b_d35b31dde2a0row0_col2\" class=\"data row0 col2\" >3.7184</td>\n",
       "                        <td id=\"T_9ea0c4d4_5b66_11eb_ab0b_d35b31dde2a0row0_col3\" class=\"data row0 col3\" >4.5200</td>\n",
       "                        <td id=\"T_9ea0c4d4_5b66_11eb_ab0b_d35b31dde2a0row0_col4\" class=\"data row0 col4\" >0.9918</td>\n",
       "                        <td id=\"T_9ea0c4d4_5b66_11eb_ab0b_d35b31dde2a0row0_col5\" class=\"data row0 col5\" >0.0000</td>\n",
       "            </tr>\n",
       "            <tr>\n",
       "                                <td id=\"T_9ea0c4d4_5b66_11eb_ab0b_d35b31dde2a0row1_col0\" class=\"data row1 col0\" >1% </td>\n",
       "                        <td id=\"T_9ea0c4d4_5b66_11eb_ab0b_d35b31dde2a0row1_col1\" class=\"data row1 col1\" >3.5577</td>\n",
       "                        <td id=\"T_9ea0c4d4_5b66_11eb_ab0b_d35b31dde2a0row1_col2\" class=\"data row1 col2\" >3.7190</td>\n",
       "                        <td id=\"T_9ea0c4d4_5b66_11eb_ab0b_d35b31dde2a0row1_col3\" class=\"data row1 col3\" >4.5300</td>\n",
       "                        <td id=\"T_9ea0c4d4_5b66_11eb_ab0b_d35b31dde2a0row1_col4\" class=\"data row1 col4\" >0.9919</td>\n",
       "                        <td id=\"T_9ea0c4d4_5b66_11eb_ab0b_d35b31dde2a0row1_col5\" class=\"data row1 col5\" >0.0101</td>\n",
       "            </tr>\n",
       "            <tr>\n",
       "                                <td id=\"T_9ea0c4d4_5b66_11eb_ab0b_d35b31dde2a0row2_col0\" class=\"data row2 col0\" >10%</td>\n",
       "                        <td id=\"T_9ea0c4d4_5b66_11eb_ab0b_d35b31dde2a0row2_col1\" class=\"data row2 col1\" >3.5577</td>\n",
       "                        <td id=\"T_9ea0c4d4_5b66_11eb_ab0b_d35b31dde2a0row2_col2\" class=\"data row2 col2\" >3.7234</td>\n",
       "                        <td id=\"T_9ea0c4d4_5b66_11eb_ab0b_d35b31dde2a0row2_col3\" class=\"data row2 col3\" >4.6600</td>\n",
       "                        <td id=\"T_9ea0c4d4_5b66_11eb_ab0b_d35b31dde2a0row2_col4\" class=\"data row2 col4\" >0.9925</td>\n",
       "                        <td id=\"T_9ea0c4d4_5b66_11eb_ab0b_d35b31dde2a0row2_col5\" class=\"data row2 col5\" >0.0706</td>\n",
       "            </tr>\n",
       "            <tr>\n",
       "                                <td id=\"T_9ea0c4d4_5b66_11eb_ab0b_d35b31dde2a0row3_col0\" class=\"data row3 col0\" >50%</td>\n",
       "                        <td id=\"T_9ea0c4d4_5b66_11eb_ab0b_d35b31dde2a0row3_col1\" class=\"data row3 col1\" >3.5577</td>\n",
       "                        <td id=\"T_9ea0c4d4_5b66_11eb_ab0b_d35b31dde2a0row3_col2\" class=\"data row3 col2\" >3.7306</td>\n",
       "                        <td id=\"T_9ea0c4d4_5b66_11eb_ab0b_d35b31dde2a0row3_col3\" class=\"data row3 col3\" >4.8600</td>\n",
       "                        <td id=\"T_9ea0c4d4_5b66_11eb_ab0b_d35b31dde2a0row3_col4\" class=\"data row3 col4\" >0.9936</td>\n",
       "                        <td id=\"T_9ea0c4d4_5b66_11eb_ab0b_d35b31dde2a0row3_col5\" class=\"data row3 col5\" >0.1815</td>\n",
       "            </tr>\n",
       "    </tbody></table>"
      ],
      "text/plain": [
       "<pandas.io.formats.style.Styler at 0x7f23e6da3af0>"
      ]
     },
     "metadata": {},
     "output_type": "display_data"
    }
   ],
   "source": [
    "print(\"knn for men in black\\n\")\n",
    "result = mean_overall_rating_change(knn_pred, knn_error, 257)\n",
    "dfi.export(result,\"results/scenario2/knn_mib_overall_rating.png\")"
   ]
  },
  {
   "cell_type": "code",
   "execution_count": 18,
   "metadata": {},
   "outputs": [
    {
     "name": "stdout",
     "output_type": "stream",
     "text": [
      "svd for lion king\n",
      "\n"
     ]
    },
    {
     "data": {
      "text/html": [
       "<style  type=\"text/css\" >\n",
       "    #T_9ef66542_5b66_11eb_ab0b_d35b31dde2a0 th {\n",
       "          text-align: center;\n",
       "    }#T_9ef66542_5b66_11eb_ab0b_d35b31dde2a0row0_col0,#T_9ef66542_5b66_11eb_ab0b_d35b31dde2a0row0_col1,#T_9ef66542_5b66_11eb_ab0b_d35b31dde2a0row0_col2,#T_9ef66542_5b66_11eb_ab0b_d35b31dde2a0row0_col3,#T_9ef66542_5b66_11eb_ab0b_d35b31dde2a0row0_col4,#T_9ef66542_5b66_11eb_ab0b_d35b31dde2a0row0_col5,#T_9ef66542_5b66_11eb_ab0b_d35b31dde2a0row1_col0,#T_9ef66542_5b66_11eb_ab0b_d35b31dde2a0row1_col1,#T_9ef66542_5b66_11eb_ab0b_d35b31dde2a0row1_col2,#T_9ef66542_5b66_11eb_ab0b_d35b31dde2a0row1_col3,#T_9ef66542_5b66_11eb_ab0b_d35b31dde2a0row1_col4,#T_9ef66542_5b66_11eb_ab0b_d35b31dde2a0row1_col5,#T_9ef66542_5b66_11eb_ab0b_d35b31dde2a0row2_col0,#T_9ef66542_5b66_11eb_ab0b_d35b31dde2a0row2_col1,#T_9ef66542_5b66_11eb_ab0b_d35b31dde2a0row2_col2,#T_9ef66542_5b66_11eb_ab0b_d35b31dde2a0row2_col3,#T_9ef66542_5b66_11eb_ab0b_d35b31dde2a0row2_col4,#T_9ef66542_5b66_11eb_ab0b_d35b31dde2a0row2_col5,#T_9ef66542_5b66_11eb_ab0b_d35b31dde2a0row3_col0,#T_9ef66542_5b66_11eb_ab0b_d35b31dde2a0row3_col1,#T_9ef66542_5b66_11eb_ab0b_d35b31dde2a0row3_col2,#T_9ef66542_5b66_11eb_ab0b_d35b31dde2a0row3_col3,#T_9ef66542_5b66_11eb_ab0b_d35b31dde2a0row3_col4,#T_9ef66542_5b66_11eb_ab0b_d35b31dde2a0row3_col5{\n",
       "            text-align:  center;\n",
       "        }</style><table id=\"T_9ef66542_5b66_11eb_ab0b_d35b31dde2a0\" ><thead>    <tr>        <th class=\"col_heading level0 col0\" >% fake ratings</th>        <th class=\"col_heading level0 col1\" >true mean rating</th>        <th class=\"col_heading level0 col2\" >predicted mean rating</th>        <th class=\"col_heading level0 col3\" >% change in rating</th>        <th class=\"col_heading level0 col4\" >RMSE</th>        <th class=\"col_heading level0 col5\" >% change in RMSE</th>    </tr></thead><tbody>\n",
       "                <tr>\n",
       "                                <td id=\"T_9ef66542_5b66_11eb_ab0b_d35b31dde2a0row0_col0\" class=\"data row0 col0\" >0% </td>\n",
       "                        <td id=\"T_9ef66542_5b66_11eb_ab0b_d35b31dde2a0row0_col1\" class=\"data row0 col1\" >3.8000</td>\n",
       "                        <td id=\"T_9ef66542_5b66_11eb_ab0b_d35b31dde2a0row0_col2\" class=\"data row0 col2\" >3.7815</td>\n",
       "                        <td id=\"T_9ef66542_5b66_11eb_ab0b_d35b31dde2a0row0_col3\" class=\"data row0 col3\" >-0.4900</td>\n",
       "                        <td id=\"T_9ef66542_5b66_11eb_ab0b_d35b31dde2a0row0_col4\" class=\"data row0 col4\" >0.7153</td>\n",
       "                        <td id=\"T_9ef66542_5b66_11eb_ab0b_d35b31dde2a0row0_col5\" class=\"data row0 col5\" >0.0000</td>\n",
       "            </tr>\n",
       "            <tr>\n",
       "                                <td id=\"T_9ef66542_5b66_11eb_ab0b_d35b31dde2a0row1_col0\" class=\"data row1 col0\" >1% </td>\n",
       "                        <td id=\"T_9ef66542_5b66_11eb_ab0b_d35b31dde2a0row1_col1\" class=\"data row1 col1\" >3.8000</td>\n",
       "                        <td id=\"T_9ef66542_5b66_11eb_ab0b_d35b31dde2a0row1_col2\" class=\"data row1 col2\" >3.7792</td>\n",
       "                        <td id=\"T_9ef66542_5b66_11eb_ab0b_d35b31dde2a0row1_col3\" class=\"data row1 col3\" >-0.5500</td>\n",
       "                        <td id=\"T_9ef66542_5b66_11eb_ab0b_d35b31dde2a0row1_col4\" class=\"data row1 col4\" >0.7048</td>\n",
       "                        <td id=\"T_9ef66542_5b66_11eb_ab0b_d35b31dde2a0row1_col5\" class=\"data row1 col5\" >-1.4679</td>\n",
       "            </tr>\n",
       "            <tr>\n",
       "                                <td id=\"T_9ef66542_5b66_11eb_ab0b_d35b31dde2a0row2_col0\" class=\"data row2 col0\" >10%</td>\n",
       "                        <td id=\"T_9ef66542_5b66_11eb_ab0b_d35b31dde2a0row2_col1\" class=\"data row2 col1\" >3.8000</td>\n",
       "                        <td id=\"T_9ef66542_5b66_11eb_ab0b_d35b31dde2a0row2_col2\" class=\"data row2 col2\" >3.7870</td>\n",
       "                        <td id=\"T_9ef66542_5b66_11eb_ab0b_d35b31dde2a0row2_col3\" class=\"data row2 col3\" >-0.3400</td>\n",
       "                        <td id=\"T_9ef66542_5b66_11eb_ab0b_d35b31dde2a0row2_col4\" class=\"data row2 col4\" >0.7245</td>\n",
       "                        <td id=\"T_9ef66542_5b66_11eb_ab0b_d35b31dde2a0row2_col5\" class=\"data row2 col5\" >1.2862</td>\n",
       "            </tr>\n",
       "            <tr>\n",
       "                                <td id=\"T_9ef66542_5b66_11eb_ab0b_d35b31dde2a0row3_col0\" class=\"data row3 col0\" >50%</td>\n",
       "                        <td id=\"T_9ef66542_5b66_11eb_ab0b_d35b31dde2a0row3_col1\" class=\"data row3 col1\" >3.8000</td>\n",
       "                        <td id=\"T_9ef66542_5b66_11eb_ab0b_d35b31dde2a0row3_col2\" class=\"data row3 col2\" >3.7804</td>\n",
       "                        <td id=\"T_9ef66542_5b66_11eb_ab0b_d35b31dde2a0row3_col3\" class=\"data row3 col3\" >-0.5200</td>\n",
       "                        <td id=\"T_9ef66542_5b66_11eb_ab0b_d35b31dde2a0row3_col4\" class=\"data row3 col4\" >0.7168</td>\n",
       "                        <td id=\"T_9ef66542_5b66_11eb_ab0b_d35b31dde2a0row3_col5\" class=\"data row3 col5\" >0.2097</td>\n",
       "            </tr>\n",
       "    </tbody></table>"
      ],
      "text/plain": [
       "<pandas.io.formats.style.Styler at 0x7f23e566b6a0>"
      ]
     },
     "metadata": {},
     "output_type": "display_data"
    }
   ],
   "source": [
    "print(\"svd for lion king\\n\")\n",
    "result = mean_overall_rating_change(svd_pred, svd_error, 71)\n",
    "dfi.export(result,\"results/scenario2/svd_lk_overall_rating.png\")"
   ]
  },
  {
   "cell_type": "code",
   "execution_count": 19,
   "metadata": {},
   "outputs": [
    {
     "name": "stdout",
     "output_type": "stream",
     "text": [
      "knn for lion king\n",
      "\n"
     ]
    },
    {
     "data": {
      "text/html": [
       "<style  type=\"text/css\" >\n",
       "    #T_9f42de90_5b66_11eb_ab0b_d35b31dde2a0 th {\n",
       "          text-align: center;\n",
       "    }#T_9f42de90_5b66_11eb_ab0b_d35b31dde2a0row0_col0,#T_9f42de90_5b66_11eb_ab0b_d35b31dde2a0row0_col1,#T_9f42de90_5b66_11eb_ab0b_d35b31dde2a0row0_col2,#T_9f42de90_5b66_11eb_ab0b_d35b31dde2a0row0_col3,#T_9f42de90_5b66_11eb_ab0b_d35b31dde2a0row0_col4,#T_9f42de90_5b66_11eb_ab0b_d35b31dde2a0row0_col5,#T_9f42de90_5b66_11eb_ab0b_d35b31dde2a0row1_col0,#T_9f42de90_5b66_11eb_ab0b_d35b31dde2a0row1_col1,#T_9f42de90_5b66_11eb_ab0b_d35b31dde2a0row1_col2,#T_9f42de90_5b66_11eb_ab0b_d35b31dde2a0row1_col3,#T_9f42de90_5b66_11eb_ab0b_d35b31dde2a0row1_col4,#T_9f42de90_5b66_11eb_ab0b_d35b31dde2a0row1_col5,#T_9f42de90_5b66_11eb_ab0b_d35b31dde2a0row2_col0,#T_9f42de90_5b66_11eb_ab0b_d35b31dde2a0row2_col1,#T_9f42de90_5b66_11eb_ab0b_d35b31dde2a0row2_col2,#T_9f42de90_5b66_11eb_ab0b_d35b31dde2a0row2_col3,#T_9f42de90_5b66_11eb_ab0b_d35b31dde2a0row2_col4,#T_9f42de90_5b66_11eb_ab0b_d35b31dde2a0row2_col5,#T_9f42de90_5b66_11eb_ab0b_d35b31dde2a0row3_col0,#T_9f42de90_5b66_11eb_ab0b_d35b31dde2a0row3_col1,#T_9f42de90_5b66_11eb_ab0b_d35b31dde2a0row3_col2,#T_9f42de90_5b66_11eb_ab0b_d35b31dde2a0row3_col3,#T_9f42de90_5b66_11eb_ab0b_d35b31dde2a0row3_col4,#T_9f42de90_5b66_11eb_ab0b_d35b31dde2a0row3_col5{\n",
       "            text-align:  center;\n",
       "        }</style><table id=\"T_9f42de90_5b66_11eb_ab0b_d35b31dde2a0\" ><thead>    <tr>        <th class=\"col_heading level0 col0\" >% fake ratings</th>        <th class=\"col_heading level0 col1\" >true mean rating</th>        <th class=\"col_heading level0 col2\" >predicted mean rating</th>        <th class=\"col_heading level0 col3\" >% change in rating</th>        <th class=\"col_heading level0 col4\" >RMSE</th>        <th class=\"col_heading level0 col5\" >% change in RMSE</th>    </tr></thead><tbody>\n",
       "                <tr>\n",
       "                                <td id=\"T_9f42de90_5b66_11eb_ab0b_d35b31dde2a0row0_col0\" class=\"data row0 col0\" >0% </td>\n",
       "                        <td id=\"T_9f42de90_5b66_11eb_ab0b_d35b31dde2a0row0_col1\" class=\"data row0 col1\" >3.8000</td>\n",
       "                        <td id=\"T_9f42de90_5b66_11eb_ab0b_d35b31dde2a0row0_col2\" class=\"data row0 col2\" >3.7624</td>\n",
       "                        <td id=\"T_9f42de90_5b66_11eb_ab0b_d35b31dde2a0row0_col3\" class=\"data row0 col3\" >-0.9900</td>\n",
       "                        <td id=\"T_9f42de90_5b66_11eb_ab0b_d35b31dde2a0row0_col4\" class=\"data row0 col4\" >0.7591</td>\n",
       "                        <td id=\"T_9f42de90_5b66_11eb_ab0b_d35b31dde2a0row0_col5\" class=\"data row0 col5\" >0.0000</td>\n",
       "            </tr>\n",
       "            <tr>\n",
       "                                <td id=\"T_9f42de90_5b66_11eb_ab0b_d35b31dde2a0row1_col0\" class=\"data row1 col0\" >1% </td>\n",
       "                        <td id=\"T_9f42de90_5b66_11eb_ab0b_d35b31dde2a0row1_col1\" class=\"data row1 col1\" >3.8000</td>\n",
       "                        <td id=\"T_9f42de90_5b66_11eb_ab0b_d35b31dde2a0row1_col2\" class=\"data row1 col2\" >3.7624</td>\n",
       "                        <td id=\"T_9f42de90_5b66_11eb_ab0b_d35b31dde2a0row1_col3\" class=\"data row1 col3\" >-0.9900</td>\n",
       "                        <td id=\"T_9f42de90_5b66_11eb_ab0b_d35b31dde2a0row1_col4\" class=\"data row1 col4\" >0.7591</td>\n",
       "                        <td id=\"T_9f42de90_5b66_11eb_ab0b_d35b31dde2a0row1_col5\" class=\"data row1 col5\" >0.0000</td>\n",
       "            </tr>\n",
       "            <tr>\n",
       "                                <td id=\"T_9f42de90_5b66_11eb_ab0b_d35b31dde2a0row2_col0\" class=\"data row2 col0\" >10%</td>\n",
       "                        <td id=\"T_9f42de90_5b66_11eb_ab0b_d35b31dde2a0row2_col1\" class=\"data row2 col1\" >3.8000</td>\n",
       "                        <td id=\"T_9f42de90_5b66_11eb_ab0b_d35b31dde2a0row2_col2\" class=\"data row2 col2\" >3.7625</td>\n",
       "                        <td id=\"T_9f42de90_5b66_11eb_ab0b_d35b31dde2a0row2_col3\" class=\"data row2 col3\" >-0.9900</td>\n",
       "                        <td id=\"T_9f42de90_5b66_11eb_ab0b_d35b31dde2a0row2_col4\" class=\"data row2 col4\" >0.7593</td>\n",
       "                        <td id=\"T_9f42de90_5b66_11eb_ab0b_d35b31dde2a0row2_col5\" class=\"data row2 col5\" >0.0263</td>\n",
       "            </tr>\n",
       "            <tr>\n",
       "                                <td id=\"T_9f42de90_5b66_11eb_ab0b_d35b31dde2a0row3_col0\" class=\"data row3 col0\" >50%</td>\n",
       "                        <td id=\"T_9f42de90_5b66_11eb_ab0b_d35b31dde2a0row3_col1\" class=\"data row3 col1\" >3.8000</td>\n",
       "                        <td id=\"T_9f42de90_5b66_11eb_ab0b_d35b31dde2a0row3_col2\" class=\"data row3 col2\" >3.7627</td>\n",
       "                        <td id=\"T_9f42de90_5b66_11eb_ab0b_d35b31dde2a0row3_col3\" class=\"data row3 col3\" >-0.9800</td>\n",
       "                        <td id=\"T_9f42de90_5b66_11eb_ab0b_d35b31dde2a0row3_col4\" class=\"data row3 col4\" >0.7596</td>\n",
       "                        <td id=\"T_9f42de90_5b66_11eb_ab0b_d35b31dde2a0row3_col5\" class=\"data row3 col5\" >0.0659</td>\n",
       "            </tr>\n",
       "    </tbody></table>"
      ],
      "text/plain": [
       "<pandas.io.formats.style.Styler at 0x7f23e63023a0>"
      ]
     },
     "metadata": {},
     "output_type": "display_data"
    }
   ],
   "source": [
    "print(\"knn for lion king\\n\")\n",
    "result = mean_overall_rating_change(knn_pred, knn_error, 71)\n",
    "dfi.export(result,\"results/scenario2/knn_lk_overall_rating.png\")"
   ]
  },
  {
   "cell_type": "code",
   "execution_count": 20,
   "metadata": {},
   "outputs": [],
   "source": [
    "#comparing overall error with different number of fake ratings\n",
    "def overall_error_change(error):\n",
    "    names = [\"0% fake ratings\", \"1% fake ratings\", \"10% fake ratings\", \"50% fake ratings\"]\n",
    "    columns = [\"% fake ratings\", \"RMSE\", \"% change in RMSE\"]\n",
    "    \n",
    "    #dataframe placeholder\n",
    "    df = pd.DataFrame()\n",
    "    \n",
    "    #extract the base error to compare to\n",
    "    baseline = error[names[0]]\n",
    "    \n",
    "    for name in names:\n",
    "        #retrieve the current error\n",
    "        rmse = error[name]\n",
    "        \n",
    "        #calculate percentage change in the error\n",
    "        change = round((rmse-baseline)/baseline*100,4)\n",
    "        \n",
    "        #append a row to the dataframe\n",
    "        df = df.append([[name[:3], rmse, change]], ignore_index = True)\n",
    "        \n",
    "    df.columns = columns\n",
    "    return show_table(df)"
   ]
  },
  {
   "cell_type": "code",
   "execution_count": 21,
   "metadata": {},
   "outputs": [
    {
     "name": "stdout",
     "output_type": "stream",
     "text": [
      "Overall change in RMSE for SVD\n",
      "\n"
     ]
    },
    {
     "data": {
      "text/html": [
       "<style  type=\"text/css\" >\n",
       "    #T_9f88a240_5b66_11eb_ab0b_d35b31dde2a0 th {\n",
       "          text-align: center;\n",
       "    }#T_9f88a240_5b66_11eb_ab0b_d35b31dde2a0row0_col0,#T_9f88a240_5b66_11eb_ab0b_d35b31dde2a0row0_col1,#T_9f88a240_5b66_11eb_ab0b_d35b31dde2a0row0_col2,#T_9f88a240_5b66_11eb_ab0b_d35b31dde2a0row1_col0,#T_9f88a240_5b66_11eb_ab0b_d35b31dde2a0row1_col1,#T_9f88a240_5b66_11eb_ab0b_d35b31dde2a0row1_col2,#T_9f88a240_5b66_11eb_ab0b_d35b31dde2a0row2_col0,#T_9f88a240_5b66_11eb_ab0b_d35b31dde2a0row2_col1,#T_9f88a240_5b66_11eb_ab0b_d35b31dde2a0row2_col2,#T_9f88a240_5b66_11eb_ab0b_d35b31dde2a0row3_col0,#T_9f88a240_5b66_11eb_ab0b_d35b31dde2a0row3_col1,#T_9f88a240_5b66_11eb_ab0b_d35b31dde2a0row3_col2{\n",
       "            text-align:  center;\n",
       "        }</style><table id=\"T_9f88a240_5b66_11eb_ab0b_d35b31dde2a0\" ><thead>    <tr>        <th class=\"col_heading level0 col0\" >% fake ratings</th>        <th class=\"col_heading level0 col1\" >RMSE</th>        <th class=\"col_heading level0 col2\" >% change in RMSE</th>    </tr></thead><tbody>\n",
       "                <tr>\n",
       "                                <td id=\"T_9f88a240_5b66_11eb_ab0b_d35b31dde2a0row0_col0\" class=\"data row0 col0\" >0% </td>\n",
       "                        <td id=\"T_9f88a240_5b66_11eb_ab0b_d35b31dde2a0row0_col1\" class=\"data row0 col1\" >0.9262</td>\n",
       "                        <td id=\"T_9f88a240_5b66_11eb_ab0b_d35b31dde2a0row0_col2\" class=\"data row0 col2\" >0.0000</td>\n",
       "            </tr>\n",
       "            <tr>\n",
       "                                <td id=\"T_9f88a240_5b66_11eb_ab0b_d35b31dde2a0row1_col0\" class=\"data row1 col0\" >1% </td>\n",
       "                        <td id=\"T_9f88a240_5b66_11eb_ab0b_d35b31dde2a0row1_col1\" class=\"data row1 col1\" >0.9262</td>\n",
       "                        <td id=\"T_9f88a240_5b66_11eb_ab0b_d35b31dde2a0row1_col2\" class=\"data row1 col2\" >0.0091</td>\n",
       "            </tr>\n",
       "            <tr>\n",
       "                                <td id=\"T_9f88a240_5b66_11eb_ab0b_d35b31dde2a0row2_col0\" class=\"data row2 col0\" >10%</td>\n",
       "                        <td id=\"T_9f88a240_5b66_11eb_ab0b_d35b31dde2a0row2_col1\" class=\"data row2 col1\" >0.9254</td>\n",
       "                        <td id=\"T_9f88a240_5b66_11eb_ab0b_d35b31dde2a0row2_col2\" class=\"data row2 col2\" >-0.0767</td>\n",
       "            </tr>\n",
       "            <tr>\n",
       "                                <td id=\"T_9f88a240_5b66_11eb_ab0b_d35b31dde2a0row3_col0\" class=\"data row3 col0\" >50%</td>\n",
       "                        <td id=\"T_9f88a240_5b66_11eb_ab0b_d35b31dde2a0row3_col1\" class=\"data row3 col1\" >0.9280</td>\n",
       "                        <td id=\"T_9f88a240_5b66_11eb_ab0b_d35b31dde2a0row3_col2\" class=\"data row3 col2\" >0.1988</td>\n",
       "            </tr>\n",
       "    </tbody></table>"
      ],
      "text/plain": [
       "<pandas.io.formats.style.Styler at 0x7f23e62f8670>"
      ]
     },
     "metadata": {},
     "output_type": "display_data"
    }
   ],
   "source": [
    "print(\"Overall change in RMSE for SVD\\n\")\n",
    "result = overall_error_change(svd_error)\n",
    "dfi.export(result,\"results/scenario2/svd_overall_error.png\")"
   ]
  },
  {
   "cell_type": "code",
   "execution_count": 22,
   "metadata": {},
   "outputs": [
    {
     "name": "stdout",
     "output_type": "stream",
     "text": [
      "Overall change in RMSE for kNN\n",
      "\n"
     ]
    },
    {
     "data": {
      "text/html": [
       "<style  type=\"text/css\" >\n",
       "    #T_9fc6ce94_5b66_11eb_ab0b_d35b31dde2a0 th {\n",
       "          text-align: center;\n",
       "    }#T_9fc6ce94_5b66_11eb_ab0b_d35b31dde2a0row0_col0,#T_9fc6ce94_5b66_11eb_ab0b_d35b31dde2a0row0_col1,#T_9fc6ce94_5b66_11eb_ab0b_d35b31dde2a0row0_col2,#T_9fc6ce94_5b66_11eb_ab0b_d35b31dde2a0row1_col0,#T_9fc6ce94_5b66_11eb_ab0b_d35b31dde2a0row1_col1,#T_9fc6ce94_5b66_11eb_ab0b_d35b31dde2a0row1_col2,#T_9fc6ce94_5b66_11eb_ab0b_d35b31dde2a0row2_col0,#T_9fc6ce94_5b66_11eb_ab0b_d35b31dde2a0row2_col1,#T_9fc6ce94_5b66_11eb_ab0b_d35b31dde2a0row2_col2,#T_9fc6ce94_5b66_11eb_ab0b_d35b31dde2a0row3_col0,#T_9fc6ce94_5b66_11eb_ab0b_d35b31dde2a0row3_col1,#T_9fc6ce94_5b66_11eb_ab0b_d35b31dde2a0row3_col2{\n",
       "            text-align:  center;\n",
       "        }</style><table id=\"T_9fc6ce94_5b66_11eb_ab0b_d35b31dde2a0\" ><thead>    <tr>        <th class=\"col_heading level0 col0\" >% fake ratings</th>        <th class=\"col_heading level0 col1\" >RMSE</th>        <th class=\"col_heading level0 col2\" >% change in RMSE</th>    </tr></thead><tbody>\n",
       "                <tr>\n",
       "                                <td id=\"T_9fc6ce94_5b66_11eb_ab0b_d35b31dde2a0row0_col0\" class=\"data row0 col0\" >0% </td>\n",
       "                        <td id=\"T_9fc6ce94_5b66_11eb_ab0b_d35b31dde2a0row0_col1\" class=\"data row0 col1\" >0.9462</td>\n",
       "                        <td id=\"T_9fc6ce94_5b66_11eb_ab0b_d35b31dde2a0row0_col2\" class=\"data row0 col2\" >0.0000</td>\n",
       "            </tr>\n",
       "            <tr>\n",
       "                                <td id=\"T_9fc6ce94_5b66_11eb_ab0b_d35b31dde2a0row1_col0\" class=\"data row1 col0\" >1% </td>\n",
       "                        <td id=\"T_9fc6ce94_5b66_11eb_ab0b_d35b31dde2a0row1_col1\" class=\"data row1 col1\" >0.9462</td>\n",
       "                        <td id=\"T_9fc6ce94_5b66_11eb_ab0b_d35b31dde2a0row1_col2\" class=\"data row1 col2\" >0.0000</td>\n",
       "            </tr>\n",
       "            <tr>\n",
       "                                <td id=\"T_9fc6ce94_5b66_11eb_ab0b_d35b31dde2a0row2_col0\" class=\"data row2 col0\" >10%</td>\n",
       "                        <td id=\"T_9fc6ce94_5b66_11eb_ab0b_d35b31dde2a0row2_col1\" class=\"data row2 col1\" >0.9462</td>\n",
       "                        <td id=\"T_9fc6ce94_5b66_11eb_ab0b_d35b31dde2a0row2_col2\" class=\"data row2 col2\" >0.0003</td>\n",
       "            </tr>\n",
       "            <tr>\n",
       "                                <td id=\"T_9fc6ce94_5b66_11eb_ab0b_d35b31dde2a0row3_col0\" class=\"data row3 col0\" >50%</td>\n",
       "                        <td id=\"T_9fc6ce94_5b66_11eb_ab0b_d35b31dde2a0row3_col1\" class=\"data row3 col1\" >0.9462</td>\n",
       "                        <td id=\"T_9fc6ce94_5b66_11eb_ab0b_d35b31dde2a0row3_col2\" class=\"data row3 col2\" >0.0018</td>\n",
       "            </tr>\n",
       "    </tbody></table>"
      ],
      "text/plain": [
       "<pandas.io.formats.style.Styler at 0x7f23e6326310>"
      ]
     },
     "metadata": {},
     "output_type": "display_data"
    }
   ],
   "source": [
    "print(\"Overall change in RMSE for kNN\\n\")\n",
    "result = overall_error_change(knn_error)\n",
    "dfi.export(result,\"results/scenario2/knn_overall_error.png\")"
   ]
  },
  {
   "cell_type": "code",
   "execution_count": 23,
   "metadata": {},
   "outputs": [],
   "source": [
    "#analyze how rating of a particular movie changed for certain user\n",
    "def rating_change_user_movie(predictions, movieID):\n",
    "    names = [\"0% fake ratings\", \"1% fake ratings\", \"10% fake ratings\", \"50% fake ratings\"]\n",
    "    columns = [\"% fake ratings\", \"true rating\", \"predicted rating\", \"% change in rating\"]\n",
    "    \n",
    "    #dataframe placeholder\n",
    "    df = pd.DataFrame()\n",
    "    \n",
    "    #extract true rating for given movie and user 23\n",
    "    true_rating = test_df.loc[(test_df[\"itemID\"]==movieID) & (test_df[\"userID\"]==23)][\"rating\"].values[0]\n",
    "    \n",
    "    for name in names:\n",
    "        #convert predictions into dataframe\n",
    "        preds = prediction_to_df(predictions[name])\n",
    "        \n",
    "        #extract predicted rating for movie and user\n",
    "        predicted_rating = round(preds.loc[(preds[\"itemID\"]==movieID) & (preds[\"userID\"]==23)][\"rating\"].values[0],4)\n",
    "        \n",
    "        #compute the percentage change between true and current rating\n",
    "        change = round((predicted_rating-true_rating)/true_rating*100,4)\n",
    "        \n",
    "        #append new row to dataframe\n",
    "        df = df.append([[name[:3], true_rating, predicted_rating, change]], ignore_index = True)\n",
    "        \n",
    "    df.columns = columns\n",
    "    return show_table(df)"
   ]
  },
  {
   "cell_type": "code",
   "execution_count": 24,
   "metadata": {},
   "outputs": [
    {
     "name": "stdout",
     "output_type": "stream",
     "text": [
      "Change in mean rating for user 23, movie Men in Black and SVD predictions\n",
      "\n"
     ]
    },
    {
     "data": {
      "text/html": [
       "<style  type=\"text/css\" >\n",
       "    #T_a019ee80_5b66_11eb_ab0b_d35b31dde2a0 th {\n",
       "          text-align: center;\n",
       "    }#T_a019ee80_5b66_11eb_ab0b_d35b31dde2a0row0_col0,#T_a019ee80_5b66_11eb_ab0b_d35b31dde2a0row0_col1,#T_a019ee80_5b66_11eb_ab0b_d35b31dde2a0row0_col2,#T_a019ee80_5b66_11eb_ab0b_d35b31dde2a0row0_col3,#T_a019ee80_5b66_11eb_ab0b_d35b31dde2a0row1_col0,#T_a019ee80_5b66_11eb_ab0b_d35b31dde2a0row1_col1,#T_a019ee80_5b66_11eb_ab0b_d35b31dde2a0row1_col2,#T_a019ee80_5b66_11eb_ab0b_d35b31dde2a0row1_col3,#T_a019ee80_5b66_11eb_ab0b_d35b31dde2a0row2_col0,#T_a019ee80_5b66_11eb_ab0b_d35b31dde2a0row2_col1,#T_a019ee80_5b66_11eb_ab0b_d35b31dde2a0row2_col2,#T_a019ee80_5b66_11eb_ab0b_d35b31dde2a0row2_col3,#T_a019ee80_5b66_11eb_ab0b_d35b31dde2a0row3_col0,#T_a019ee80_5b66_11eb_ab0b_d35b31dde2a0row3_col1,#T_a019ee80_5b66_11eb_ab0b_d35b31dde2a0row3_col2,#T_a019ee80_5b66_11eb_ab0b_d35b31dde2a0row3_col3{\n",
       "            text-align:  center;\n",
       "        }</style><table id=\"T_a019ee80_5b66_11eb_ab0b_d35b31dde2a0\" ><thead>    <tr>        <th class=\"col_heading level0 col0\" >% fake ratings</th>        <th class=\"col_heading level0 col1\" >true rating</th>        <th class=\"col_heading level0 col2\" >predicted rating</th>        <th class=\"col_heading level0 col3\" >% change in rating</th>    </tr></thead><tbody>\n",
       "                <tr>\n",
       "                                <td id=\"T_a019ee80_5b66_11eb_ab0b_d35b31dde2a0row0_col0\" class=\"data row0 col0\" >0% </td>\n",
       "                        <td id=\"T_a019ee80_5b66_11eb_ab0b_d35b31dde2a0row0_col1\" class=\"data row0 col1\" >3.0000</td>\n",
       "                        <td id=\"T_a019ee80_5b66_11eb_ab0b_d35b31dde2a0row0_col2\" class=\"data row0 col2\" >3.5183</td>\n",
       "                        <td id=\"T_a019ee80_5b66_11eb_ab0b_d35b31dde2a0row0_col3\" class=\"data row0 col3\" >17.2767</td>\n",
       "            </tr>\n",
       "            <tr>\n",
       "                                <td id=\"T_a019ee80_5b66_11eb_ab0b_d35b31dde2a0row1_col0\" class=\"data row1 col0\" >1% </td>\n",
       "                        <td id=\"T_a019ee80_5b66_11eb_ab0b_d35b31dde2a0row1_col1\" class=\"data row1 col1\" >3.0000</td>\n",
       "                        <td id=\"T_a019ee80_5b66_11eb_ab0b_d35b31dde2a0row1_col2\" class=\"data row1 col2\" >3.5251</td>\n",
       "                        <td id=\"T_a019ee80_5b66_11eb_ab0b_d35b31dde2a0row1_col3\" class=\"data row1 col3\" >17.5033</td>\n",
       "            </tr>\n",
       "            <tr>\n",
       "                                <td id=\"T_a019ee80_5b66_11eb_ab0b_d35b31dde2a0row2_col0\" class=\"data row2 col0\" >10%</td>\n",
       "                        <td id=\"T_a019ee80_5b66_11eb_ab0b_d35b31dde2a0row2_col1\" class=\"data row2 col1\" >3.0000</td>\n",
       "                        <td id=\"T_a019ee80_5b66_11eb_ab0b_d35b31dde2a0row2_col2\" class=\"data row2 col2\" >4.0930</td>\n",
       "                        <td id=\"T_a019ee80_5b66_11eb_ab0b_d35b31dde2a0row2_col3\" class=\"data row2 col3\" >36.4333</td>\n",
       "            </tr>\n",
       "            <tr>\n",
       "                                <td id=\"T_a019ee80_5b66_11eb_ab0b_d35b31dde2a0row3_col0\" class=\"data row3 col0\" >50%</td>\n",
       "                        <td id=\"T_a019ee80_5b66_11eb_ab0b_d35b31dde2a0row3_col1\" class=\"data row3 col1\" >3.0000</td>\n",
       "                        <td id=\"T_a019ee80_5b66_11eb_ab0b_d35b31dde2a0row3_col2\" class=\"data row3 col2\" >4.6842</td>\n",
       "                        <td id=\"T_a019ee80_5b66_11eb_ab0b_d35b31dde2a0row3_col3\" class=\"data row3 col3\" >56.1400</td>\n",
       "            </tr>\n",
       "    </tbody></table>"
      ],
      "text/plain": [
       "<pandas.io.formats.style.Styler at 0x7f23e6da3d30>"
      ]
     },
     "metadata": {},
     "output_type": "display_data"
    }
   ],
   "source": [
    "print(\"Change in mean rating for user 23, movie Men in Black and SVD predictions\\n\")\n",
    "result = rating_change_user_movie(svd_pred, 257)\n",
    "dfi.export(result,\"results/scenario2/svd_mib_23_rating.png\")"
   ]
  },
  {
   "cell_type": "code",
   "execution_count": 25,
   "metadata": {},
   "outputs": [
    {
     "name": "stdout",
     "output_type": "stream",
     "text": [
      "Change in mean rating for user 23, movie The Lion King and SVD predictions\n",
      "\n"
     ]
    },
    {
     "data": {
      "text/html": [
       "<style  type=\"text/css\" >\n",
       "    #T_a065b9d2_5b66_11eb_ab0b_d35b31dde2a0 th {\n",
       "          text-align: center;\n",
       "    }#T_a065b9d2_5b66_11eb_ab0b_d35b31dde2a0row0_col0,#T_a065b9d2_5b66_11eb_ab0b_d35b31dde2a0row0_col1,#T_a065b9d2_5b66_11eb_ab0b_d35b31dde2a0row0_col2,#T_a065b9d2_5b66_11eb_ab0b_d35b31dde2a0row0_col3,#T_a065b9d2_5b66_11eb_ab0b_d35b31dde2a0row1_col0,#T_a065b9d2_5b66_11eb_ab0b_d35b31dde2a0row1_col1,#T_a065b9d2_5b66_11eb_ab0b_d35b31dde2a0row1_col2,#T_a065b9d2_5b66_11eb_ab0b_d35b31dde2a0row1_col3,#T_a065b9d2_5b66_11eb_ab0b_d35b31dde2a0row2_col0,#T_a065b9d2_5b66_11eb_ab0b_d35b31dde2a0row2_col1,#T_a065b9d2_5b66_11eb_ab0b_d35b31dde2a0row2_col2,#T_a065b9d2_5b66_11eb_ab0b_d35b31dde2a0row2_col3,#T_a065b9d2_5b66_11eb_ab0b_d35b31dde2a0row3_col0,#T_a065b9d2_5b66_11eb_ab0b_d35b31dde2a0row3_col1,#T_a065b9d2_5b66_11eb_ab0b_d35b31dde2a0row3_col2,#T_a065b9d2_5b66_11eb_ab0b_d35b31dde2a0row3_col3{\n",
       "            text-align:  center;\n",
       "        }</style><table id=\"T_a065b9d2_5b66_11eb_ab0b_d35b31dde2a0\" ><thead>    <tr>        <th class=\"col_heading level0 col0\" >% fake ratings</th>        <th class=\"col_heading level0 col1\" >true rating</th>        <th class=\"col_heading level0 col2\" >predicted rating</th>        <th class=\"col_heading level0 col3\" >% change in rating</th>    </tr></thead><tbody>\n",
       "                <tr>\n",
       "                                <td id=\"T_a065b9d2_5b66_11eb_ab0b_d35b31dde2a0row0_col0\" class=\"data row0 col0\" >0% </td>\n",
       "                        <td id=\"T_a065b9d2_5b66_11eb_ab0b_d35b31dde2a0row0_col1\" class=\"data row0 col1\" >3.0000</td>\n",
       "                        <td id=\"T_a065b9d2_5b66_11eb_ab0b_d35b31dde2a0row0_col2\" class=\"data row0 col2\" >3.4000</td>\n",
       "                        <td id=\"T_a065b9d2_5b66_11eb_ab0b_d35b31dde2a0row0_col3\" class=\"data row0 col3\" >13.3333</td>\n",
       "            </tr>\n",
       "            <tr>\n",
       "                                <td id=\"T_a065b9d2_5b66_11eb_ab0b_d35b31dde2a0row1_col0\" class=\"data row1 col0\" >1% </td>\n",
       "                        <td id=\"T_a065b9d2_5b66_11eb_ab0b_d35b31dde2a0row1_col1\" class=\"data row1 col1\" >3.0000</td>\n",
       "                        <td id=\"T_a065b9d2_5b66_11eb_ab0b_d35b31dde2a0row1_col2\" class=\"data row1 col2\" >3.4322</td>\n",
       "                        <td id=\"T_a065b9d2_5b66_11eb_ab0b_d35b31dde2a0row1_col3\" class=\"data row1 col3\" >14.4067</td>\n",
       "            </tr>\n",
       "            <tr>\n",
       "                                <td id=\"T_a065b9d2_5b66_11eb_ab0b_d35b31dde2a0row2_col0\" class=\"data row2 col0\" >10%</td>\n",
       "                        <td id=\"T_a065b9d2_5b66_11eb_ab0b_d35b31dde2a0row2_col1\" class=\"data row2 col1\" >3.0000</td>\n",
       "                        <td id=\"T_a065b9d2_5b66_11eb_ab0b_d35b31dde2a0row2_col2\" class=\"data row2 col2\" >3.4126</td>\n",
       "                        <td id=\"T_a065b9d2_5b66_11eb_ab0b_d35b31dde2a0row2_col3\" class=\"data row2 col3\" >13.7533</td>\n",
       "            </tr>\n",
       "            <tr>\n",
       "                                <td id=\"T_a065b9d2_5b66_11eb_ab0b_d35b31dde2a0row3_col0\" class=\"data row3 col0\" >50%</td>\n",
       "                        <td id=\"T_a065b9d2_5b66_11eb_ab0b_d35b31dde2a0row3_col1\" class=\"data row3 col1\" >3.0000</td>\n",
       "                        <td id=\"T_a065b9d2_5b66_11eb_ab0b_d35b31dde2a0row3_col2\" class=\"data row3 col2\" >3.4185</td>\n",
       "                        <td id=\"T_a065b9d2_5b66_11eb_ab0b_d35b31dde2a0row3_col3\" class=\"data row3 col3\" >13.9500</td>\n",
       "            </tr>\n",
       "    </tbody></table>"
      ],
      "text/plain": [
       "<pandas.io.formats.style.Styler at 0x7f242c649e20>"
      ]
     },
     "metadata": {},
     "output_type": "display_data"
    }
   ],
   "source": [
    "print(\"Change in mean rating for user 23, movie The Lion King and SVD predictions\\n\")\n",
    "result = rating_change_user_movie(svd_pred, 71)\n",
    "dfi.export(result,\"results/scenario2/svd_lk_23_rating.png\")"
   ]
  },
  {
   "cell_type": "code",
   "execution_count": 26,
   "metadata": {},
   "outputs": [
    {
     "name": "stdout",
     "output_type": "stream",
     "text": [
      "Change in mean rating for user 23, movie Men in Black and kNN predictions\n",
      "\n"
     ]
    },
    {
     "data": {
      "text/html": [
       "<style  type=\"text/css\" >\n",
       "    #T_a0b19e38_5b66_11eb_ab0b_d35b31dde2a0 th {\n",
       "          text-align: center;\n",
       "    }#T_a0b19e38_5b66_11eb_ab0b_d35b31dde2a0row0_col0,#T_a0b19e38_5b66_11eb_ab0b_d35b31dde2a0row0_col1,#T_a0b19e38_5b66_11eb_ab0b_d35b31dde2a0row0_col2,#T_a0b19e38_5b66_11eb_ab0b_d35b31dde2a0row0_col3,#T_a0b19e38_5b66_11eb_ab0b_d35b31dde2a0row1_col0,#T_a0b19e38_5b66_11eb_ab0b_d35b31dde2a0row1_col1,#T_a0b19e38_5b66_11eb_ab0b_d35b31dde2a0row1_col2,#T_a0b19e38_5b66_11eb_ab0b_d35b31dde2a0row1_col3,#T_a0b19e38_5b66_11eb_ab0b_d35b31dde2a0row2_col0,#T_a0b19e38_5b66_11eb_ab0b_d35b31dde2a0row2_col1,#T_a0b19e38_5b66_11eb_ab0b_d35b31dde2a0row2_col2,#T_a0b19e38_5b66_11eb_ab0b_d35b31dde2a0row2_col3,#T_a0b19e38_5b66_11eb_ab0b_d35b31dde2a0row3_col0,#T_a0b19e38_5b66_11eb_ab0b_d35b31dde2a0row3_col1,#T_a0b19e38_5b66_11eb_ab0b_d35b31dde2a0row3_col2,#T_a0b19e38_5b66_11eb_ab0b_d35b31dde2a0row3_col3{\n",
       "            text-align:  center;\n",
       "        }</style><table id=\"T_a0b19e38_5b66_11eb_ab0b_d35b31dde2a0\" ><thead>    <tr>        <th class=\"col_heading level0 col0\" >% fake ratings</th>        <th class=\"col_heading level0 col1\" >true rating</th>        <th class=\"col_heading level0 col2\" >predicted rating</th>        <th class=\"col_heading level0 col3\" >% change in rating</th>    </tr></thead><tbody>\n",
       "                <tr>\n",
       "                                <td id=\"T_a0b19e38_5b66_11eb_ab0b_d35b31dde2a0row0_col0\" class=\"data row0 col0\" >0% </td>\n",
       "                        <td id=\"T_a0b19e38_5b66_11eb_ab0b_d35b31dde2a0row0_col1\" class=\"data row0 col1\" >3.0000</td>\n",
       "                        <td id=\"T_a0b19e38_5b66_11eb_ab0b_d35b31dde2a0row0_col2\" class=\"data row0 col2\" >3.7857</td>\n",
       "                        <td id=\"T_a0b19e38_5b66_11eb_ab0b_d35b31dde2a0row0_col3\" class=\"data row0 col3\" >26.1900</td>\n",
       "            </tr>\n",
       "            <tr>\n",
       "                                <td id=\"T_a0b19e38_5b66_11eb_ab0b_d35b31dde2a0row1_col0\" class=\"data row1 col0\" >1% </td>\n",
       "                        <td id=\"T_a0b19e38_5b66_11eb_ab0b_d35b31dde2a0row1_col1\" class=\"data row1 col1\" >3.0000</td>\n",
       "                        <td id=\"T_a0b19e38_5b66_11eb_ab0b_d35b31dde2a0row1_col2\" class=\"data row1 col2\" >3.7863</td>\n",
       "                        <td id=\"T_a0b19e38_5b66_11eb_ab0b_d35b31dde2a0row1_col3\" class=\"data row1 col3\" >26.2100</td>\n",
       "            </tr>\n",
       "            <tr>\n",
       "                                <td id=\"T_a0b19e38_5b66_11eb_ab0b_d35b31dde2a0row2_col0\" class=\"data row2 col0\" >10%</td>\n",
       "                        <td id=\"T_a0b19e38_5b66_11eb_ab0b_d35b31dde2a0row2_col1\" class=\"data row2 col1\" >3.0000</td>\n",
       "                        <td id=\"T_a0b19e38_5b66_11eb_ab0b_d35b31dde2a0row2_col2\" class=\"data row2 col2\" >3.7905</td>\n",
       "                        <td id=\"T_a0b19e38_5b66_11eb_ab0b_d35b31dde2a0row2_col3\" class=\"data row2 col3\" >26.3500</td>\n",
       "            </tr>\n",
       "            <tr>\n",
       "                                <td id=\"T_a0b19e38_5b66_11eb_ab0b_d35b31dde2a0row3_col0\" class=\"data row3 col0\" >50%</td>\n",
       "                        <td id=\"T_a0b19e38_5b66_11eb_ab0b_d35b31dde2a0row3_col1\" class=\"data row3 col1\" >3.0000</td>\n",
       "                        <td id=\"T_a0b19e38_5b66_11eb_ab0b_d35b31dde2a0row3_col2\" class=\"data row3 col2\" >3.7972</td>\n",
       "                        <td id=\"T_a0b19e38_5b66_11eb_ab0b_d35b31dde2a0row3_col3\" class=\"data row3 col3\" >26.5733</td>\n",
       "            </tr>\n",
       "    </tbody></table>"
      ],
      "text/plain": [
       "<pandas.io.formats.style.Styler at 0x7f23e9975fd0>"
      ]
     },
     "metadata": {},
     "output_type": "display_data"
    }
   ],
   "source": [
    "print(\"Change in mean rating for user 23, movie Men in Black and kNN predictions\\n\")\n",
    "result = rating_change_user_movie(knn_pred, 257)\n",
    "dfi.export(result,\"results/scenario2/knn_mib_23_rating.png\")"
   ]
  },
  {
   "cell_type": "code",
   "execution_count": 27,
   "metadata": {},
   "outputs": [
    {
     "name": "stdout",
     "output_type": "stream",
     "text": [
      "Change in mean rating for user 23, movie The Lion King and kNN predictions\n",
      "\n"
     ]
    },
    {
     "data": {
      "text/html": [
       "<style  type=\"text/css\" >\n",
       "    #T_a0fb40ba_5b66_11eb_ab0b_d35b31dde2a0 th {\n",
       "          text-align: center;\n",
       "    }#T_a0fb40ba_5b66_11eb_ab0b_d35b31dde2a0row0_col0,#T_a0fb40ba_5b66_11eb_ab0b_d35b31dde2a0row0_col1,#T_a0fb40ba_5b66_11eb_ab0b_d35b31dde2a0row0_col2,#T_a0fb40ba_5b66_11eb_ab0b_d35b31dde2a0row0_col3,#T_a0fb40ba_5b66_11eb_ab0b_d35b31dde2a0row1_col0,#T_a0fb40ba_5b66_11eb_ab0b_d35b31dde2a0row1_col1,#T_a0fb40ba_5b66_11eb_ab0b_d35b31dde2a0row1_col2,#T_a0fb40ba_5b66_11eb_ab0b_d35b31dde2a0row1_col3,#T_a0fb40ba_5b66_11eb_ab0b_d35b31dde2a0row2_col0,#T_a0fb40ba_5b66_11eb_ab0b_d35b31dde2a0row2_col1,#T_a0fb40ba_5b66_11eb_ab0b_d35b31dde2a0row2_col2,#T_a0fb40ba_5b66_11eb_ab0b_d35b31dde2a0row2_col3,#T_a0fb40ba_5b66_11eb_ab0b_d35b31dde2a0row3_col0,#T_a0fb40ba_5b66_11eb_ab0b_d35b31dde2a0row3_col1,#T_a0fb40ba_5b66_11eb_ab0b_d35b31dde2a0row3_col2,#T_a0fb40ba_5b66_11eb_ab0b_d35b31dde2a0row3_col3{\n",
       "            text-align:  center;\n",
       "        }</style><table id=\"T_a0fb40ba_5b66_11eb_ab0b_d35b31dde2a0\" ><thead>    <tr>        <th class=\"col_heading level0 col0\" >% fake ratings</th>        <th class=\"col_heading level0 col1\" >true rating</th>        <th class=\"col_heading level0 col2\" >predicted rating</th>        <th class=\"col_heading level0 col3\" >% change in rating</th>    </tr></thead><tbody>\n",
       "                <tr>\n",
       "                                <td id=\"T_a0fb40ba_5b66_11eb_ab0b_d35b31dde2a0row0_col0\" class=\"data row0 col0\" >0% </td>\n",
       "                        <td id=\"T_a0fb40ba_5b66_11eb_ab0b_d35b31dde2a0row0_col1\" class=\"data row0 col1\" >3.0000</td>\n",
       "                        <td id=\"T_a0fb40ba_5b66_11eb_ab0b_d35b31dde2a0row0_col2\" class=\"data row0 col2\" >3.7412</td>\n",
       "                        <td id=\"T_a0fb40ba_5b66_11eb_ab0b_d35b31dde2a0row0_col3\" class=\"data row0 col3\" >24.7067</td>\n",
       "            </tr>\n",
       "            <tr>\n",
       "                                <td id=\"T_a0fb40ba_5b66_11eb_ab0b_d35b31dde2a0row1_col0\" class=\"data row1 col0\" >1% </td>\n",
       "                        <td id=\"T_a0fb40ba_5b66_11eb_ab0b_d35b31dde2a0row1_col1\" class=\"data row1 col1\" >3.0000</td>\n",
       "                        <td id=\"T_a0fb40ba_5b66_11eb_ab0b_d35b31dde2a0row1_col2\" class=\"data row1 col2\" >3.7413</td>\n",
       "                        <td id=\"T_a0fb40ba_5b66_11eb_ab0b_d35b31dde2a0row1_col3\" class=\"data row1 col3\" >24.7100</td>\n",
       "            </tr>\n",
       "            <tr>\n",
       "                                <td id=\"T_a0fb40ba_5b66_11eb_ab0b_d35b31dde2a0row2_col0\" class=\"data row2 col0\" >10%</td>\n",
       "                        <td id=\"T_a0fb40ba_5b66_11eb_ab0b_d35b31dde2a0row2_col1\" class=\"data row2 col1\" >3.0000</td>\n",
       "                        <td id=\"T_a0fb40ba_5b66_11eb_ab0b_d35b31dde2a0row2_col2\" class=\"data row2 col2\" >3.7419</td>\n",
       "                        <td id=\"T_a0fb40ba_5b66_11eb_ab0b_d35b31dde2a0row2_col3\" class=\"data row2 col3\" >24.7300</td>\n",
       "            </tr>\n",
       "            <tr>\n",
       "                                <td id=\"T_a0fb40ba_5b66_11eb_ab0b_d35b31dde2a0row3_col0\" class=\"data row3 col0\" >50%</td>\n",
       "                        <td id=\"T_a0fb40ba_5b66_11eb_ab0b_d35b31dde2a0row3_col1\" class=\"data row3 col1\" >3.0000</td>\n",
       "                        <td id=\"T_a0fb40ba_5b66_11eb_ab0b_d35b31dde2a0row3_col2\" class=\"data row3 col2\" >3.7430</td>\n",
       "                        <td id=\"T_a0fb40ba_5b66_11eb_ab0b_d35b31dde2a0row3_col3\" class=\"data row3 col3\" >24.7667</td>\n",
       "            </tr>\n",
       "    </tbody></table>"
      ],
      "text/plain": [
       "<pandas.io.formats.style.Styler at 0x7f23e95cac40>"
      ]
     },
     "metadata": {},
     "output_type": "display_data"
    }
   ],
   "source": [
    "print(\"Change in mean rating for user 23, movie The Lion King and kNN predictions\\n\")\n",
    "result = rating_change_user_movie(knn_pred, 71)\n",
    "dfi.export(result,\"results/scenario2/knn_lk_23_rating.png\")"
   ]
  },
  {
   "cell_type": "code",
   "execution_count": 28,
   "metadata": {},
   "outputs": [],
   "source": [
    "#analyze how the mean rating for one user changed\n",
    "def rating_change_user(predictions):\n",
    "    names = [\"0% fake ratings\", \"1% fake ratings\", \"10% fake ratings\", \"50% fake ratings\"]\n",
    "    columns = [\"% fake ratings\", \"true rating\", \"predicted rating\", \"% change in rating\"]\n",
    "    \n",
    "    #dataframe placeholder\n",
    "    df = pd.DataFrame()\n",
    "    \n",
    "    #retrieve actual mean rating from test data\n",
    "    actual_rating = test_df[test_df[\"userID\"]==23][\"rating\"].mean()\n",
    "    \n",
    "    for name in names:\n",
    "        #convert predictions into dataframe\n",
    "        preds = prediction_to_df(predictions[name])\n",
    "        \n",
    "        #extract the mean rating for user\n",
    "        predicted_rating = preds[preds[\"userID\"]==23][\"rating\"].mean()\n",
    "        \n",
    "        #calculate percentage change in rating\n",
    "        change = round((predicted_rating-actual_rating)/actual_rating*100, 4)\n",
    "        \n",
    "        #append new row to dataframe\n",
    "        df = df.append([[name[:3], actual_rating, predicted_rating, change]], ignore_index = True)\n",
    "        \n",
    "    df.columns = columns\n",
    "    return show_table(df)"
   ]
  },
  {
   "cell_type": "code",
   "execution_count": 29,
   "metadata": {},
   "outputs": [
    {
     "name": "stdout",
     "output_type": "stream",
     "text": [
      "Overall rating change for user 23 and SVD predictions\n",
      "\n"
     ]
    },
    {
     "data": {
      "text/html": [
       "<style  type=\"text/css\" >\n",
       "    #T_a149e0ee_5b66_11eb_ab0b_d35b31dde2a0 th {\n",
       "          text-align: center;\n",
       "    }#T_a149e0ee_5b66_11eb_ab0b_d35b31dde2a0row0_col0,#T_a149e0ee_5b66_11eb_ab0b_d35b31dde2a0row0_col1,#T_a149e0ee_5b66_11eb_ab0b_d35b31dde2a0row0_col2,#T_a149e0ee_5b66_11eb_ab0b_d35b31dde2a0row0_col3,#T_a149e0ee_5b66_11eb_ab0b_d35b31dde2a0row1_col0,#T_a149e0ee_5b66_11eb_ab0b_d35b31dde2a0row1_col1,#T_a149e0ee_5b66_11eb_ab0b_d35b31dde2a0row1_col2,#T_a149e0ee_5b66_11eb_ab0b_d35b31dde2a0row1_col3,#T_a149e0ee_5b66_11eb_ab0b_d35b31dde2a0row2_col0,#T_a149e0ee_5b66_11eb_ab0b_d35b31dde2a0row2_col1,#T_a149e0ee_5b66_11eb_ab0b_d35b31dde2a0row2_col2,#T_a149e0ee_5b66_11eb_ab0b_d35b31dde2a0row2_col3,#T_a149e0ee_5b66_11eb_ab0b_d35b31dde2a0row3_col0,#T_a149e0ee_5b66_11eb_ab0b_d35b31dde2a0row3_col1,#T_a149e0ee_5b66_11eb_ab0b_d35b31dde2a0row3_col2,#T_a149e0ee_5b66_11eb_ab0b_d35b31dde2a0row3_col3{\n",
       "            text-align:  center;\n",
       "        }</style><table id=\"T_a149e0ee_5b66_11eb_ab0b_d35b31dde2a0\" ><thead>    <tr>        <th class=\"col_heading level0 col0\" >% fake ratings</th>        <th class=\"col_heading level0 col1\" >true rating</th>        <th class=\"col_heading level0 col2\" >predicted rating</th>        <th class=\"col_heading level0 col3\" >% change in rating</th>    </tr></thead><tbody>\n",
       "                <tr>\n",
       "                                <td id=\"T_a149e0ee_5b66_11eb_ab0b_d35b31dde2a0row0_col0\" class=\"data row0 col0\" >0% </td>\n",
       "                        <td id=\"T_a149e0ee_5b66_11eb_ab0b_d35b31dde2a0row0_col1\" class=\"data row0 col1\" >3.6349</td>\n",
       "                        <td id=\"T_a149e0ee_5b66_11eb_ab0b_d35b31dde2a0row0_col2\" class=\"data row0 col2\" >3.6491</td>\n",
       "                        <td id=\"T_a149e0ee_5b66_11eb_ab0b_d35b31dde2a0row0_col3\" class=\"data row0 col3\" >0.3901</td>\n",
       "            </tr>\n",
       "            <tr>\n",
       "                                <td id=\"T_a149e0ee_5b66_11eb_ab0b_d35b31dde2a0row1_col0\" class=\"data row1 col0\" >1% </td>\n",
       "                        <td id=\"T_a149e0ee_5b66_11eb_ab0b_d35b31dde2a0row1_col1\" class=\"data row1 col1\" >3.6349</td>\n",
       "                        <td id=\"T_a149e0ee_5b66_11eb_ab0b_d35b31dde2a0row1_col2\" class=\"data row1 col2\" >3.6550</td>\n",
       "                        <td id=\"T_a149e0ee_5b66_11eb_ab0b_d35b31dde2a0row1_col3\" class=\"data row1 col3\" >0.5535</td>\n",
       "            </tr>\n",
       "            <tr>\n",
       "                                <td id=\"T_a149e0ee_5b66_11eb_ab0b_d35b31dde2a0row2_col0\" class=\"data row2 col0\" >10%</td>\n",
       "                        <td id=\"T_a149e0ee_5b66_11eb_ab0b_d35b31dde2a0row2_col1\" class=\"data row2 col1\" >3.6349</td>\n",
       "                        <td id=\"T_a149e0ee_5b66_11eb_ab0b_d35b31dde2a0row2_col2\" class=\"data row2 col2\" >3.6761</td>\n",
       "                        <td id=\"T_a149e0ee_5b66_11eb_ab0b_d35b31dde2a0row2_col3\" class=\"data row2 col3\" >1.1339</td>\n",
       "            </tr>\n",
       "            <tr>\n",
       "                                <td id=\"T_a149e0ee_5b66_11eb_ab0b_d35b31dde2a0row3_col0\" class=\"data row3 col0\" >50%</td>\n",
       "                        <td id=\"T_a149e0ee_5b66_11eb_ab0b_d35b31dde2a0row3_col1\" class=\"data row3 col1\" >3.6349</td>\n",
       "                        <td id=\"T_a149e0ee_5b66_11eb_ab0b_d35b31dde2a0row3_col2\" class=\"data row3 col2\" >3.6794</td>\n",
       "                        <td id=\"T_a149e0ee_5b66_11eb_ab0b_d35b31dde2a0row3_col3\" class=\"data row3 col3\" >1.2233</td>\n",
       "            </tr>\n",
       "    </tbody></table>"
      ],
      "text/plain": [
       "<pandas.io.formats.style.Styler at 0x7f23e62f8640>"
      ]
     },
     "metadata": {},
     "output_type": "display_data"
    }
   ],
   "source": [
    "print(\"Overall rating change for user 23 and SVD predictions\\n\")\n",
    "result = rating_change_user(svd_pred)\n",
    "dfi.export(result,\"results/scenario2/svd_23_rating.png\")"
   ]
  },
  {
   "cell_type": "code",
   "execution_count": 30,
   "metadata": {},
   "outputs": [
    {
     "name": "stdout",
     "output_type": "stream",
     "text": [
      "Overall rating change for user 23 and kNN predictions\n",
      "\n"
     ]
    },
    {
     "data": {
      "text/html": [
       "<style  type=\"text/css\" >\n",
       "    #T_a19dd7a8_5b66_11eb_ab0b_d35b31dde2a0 th {\n",
       "          text-align: center;\n",
       "    }#T_a19dd7a8_5b66_11eb_ab0b_d35b31dde2a0row0_col0,#T_a19dd7a8_5b66_11eb_ab0b_d35b31dde2a0row0_col1,#T_a19dd7a8_5b66_11eb_ab0b_d35b31dde2a0row0_col2,#T_a19dd7a8_5b66_11eb_ab0b_d35b31dde2a0row0_col3,#T_a19dd7a8_5b66_11eb_ab0b_d35b31dde2a0row1_col0,#T_a19dd7a8_5b66_11eb_ab0b_d35b31dde2a0row1_col1,#T_a19dd7a8_5b66_11eb_ab0b_d35b31dde2a0row1_col2,#T_a19dd7a8_5b66_11eb_ab0b_d35b31dde2a0row1_col3,#T_a19dd7a8_5b66_11eb_ab0b_d35b31dde2a0row2_col0,#T_a19dd7a8_5b66_11eb_ab0b_d35b31dde2a0row2_col1,#T_a19dd7a8_5b66_11eb_ab0b_d35b31dde2a0row2_col2,#T_a19dd7a8_5b66_11eb_ab0b_d35b31dde2a0row2_col3,#T_a19dd7a8_5b66_11eb_ab0b_d35b31dde2a0row3_col0,#T_a19dd7a8_5b66_11eb_ab0b_d35b31dde2a0row3_col1,#T_a19dd7a8_5b66_11eb_ab0b_d35b31dde2a0row3_col2,#T_a19dd7a8_5b66_11eb_ab0b_d35b31dde2a0row3_col3{\n",
       "            text-align:  center;\n",
       "        }</style><table id=\"T_a19dd7a8_5b66_11eb_ab0b_d35b31dde2a0\" ><thead>    <tr>        <th class=\"col_heading level0 col0\" >% fake ratings</th>        <th class=\"col_heading level0 col1\" >true rating</th>        <th class=\"col_heading level0 col2\" >predicted rating</th>        <th class=\"col_heading level0 col3\" >% change in rating</th>    </tr></thead><tbody>\n",
       "                <tr>\n",
       "                                <td id=\"T_a19dd7a8_5b66_11eb_ab0b_d35b31dde2a0row0_col0\" class=\"data row0 col0\" >0% </td>\n",
       "                        <td id=\"T_a19dd7a8_5b66_11eb_ab0b_d35b31dde2a0row0_col1\" class=\"data row0 col1\" >3.6349</td>\n",
       "                        <td id=\"T_a19dd7a8_5b66_11eb_ab0b_d35b31dde2a0row0_col2\" class=\"data row0 col2\" >3.7273</td>\n",
       "                        <td id=\"T_a19dd7a8_5b66_11eb_ab0b_d35b31dde2a0row0_col3\" class=\"data row0 col3\" >2.5415</td>\n",
       "            </tr>\n",
       "            <tr>\n",
       "                                <td id=\"T_a19dd7a8_5b66_11eb_ab0b_d35b31dde2a0row1_col0\" class=\"data row1 col0\" >1% </td>\n",
       "                        <td id=\"T_a19dd7a8_5b66_11eb_ab0b_d35b31dde2a0row1_col1\" class=\"data row1 col1\" >3.6349</td>\n",
       "                        <td id=\"T_a19dd7a8_5b66_11eb_ab0b_d35b31dde2a0row1_col2\" class=\"data row1 col2\" >3.7274</td>\n",
       "                        <td id=\"T_a19dd7a8_5b66_11eb_ab0b_d35b31dde2a0row1_col3\" class=\"data row1 col3\" >2.5436</td>\n",
       "            </tr>\n",
       "            <tr>\n",
       "                                <td id=\"T_a19dd7a8_5b66_11eb_ab0b_d35b31dde2a0row2_col0\" class=\"data row2 col0\" >10%</td>\n",
       "                        <td id=\"T_a19dd7a8_5b66_11eb_ab0b_d35b31dde2a0row2_col1\" class=\"data row2 col1\" >3.6349</td>\n",
       "                        <td id=\"T_a19dd7a8_5b66_11eb_ab0b_d35b31dde2a0row2_col2\" class=\"data row2 col2\" >3.7279</td>\n",
       "                        <td id=\"T_a19dd7a8_5b66_11eb_ab0b_d35b31dde2a0row2_col3\" class=\"data row2 col3\" >2.5586</td>\n",
       "            </tr>\n",
       "            <tr>\n",
       "                                <td id=\"T_a19dd7a8_5b66_11eb_ab0b_d35b31dde2a0row3_col0\" class=\"data row3 col0\" >50%</td>\n",
       "                        <td id=\"T_a19dd7a8_5b66_11eb_ab0b_d35b31dde2a0row3_col1\" class=\"data row3 col1\" >3.6349</td>\n",
       "                        <td id=\"T_a19dd7a8_5b66_11eb_ab0b_d35b31dde2a0row3_col2\" class=\"data row3 col2\" >3.7288</td>\n",
       "                        <td id=\"T_a19dd7a8_5b66_11eb_ab0b_d35b31dde2a0row3_col3\" class=\"data row3 col3\" >2.5834</td>\n",
       "            </tr>\n",
       "    </tbody></table>"
      ],
      "text/plain": [
       "<pandas.io.formats.style.Styler at 0x7f242c649f10>"
      ]
     },
     "metadata": {},
     "output_type": "display_data"
    }
   ],
   "source": [
    "print(\"Overall rating change for user 23 and kNN predictions\\n\")\n",
    "result = rating_change_user(knn_pred)\n",
    "dfi.export(result,\"results/scenario2/knn_23_rating.png\")"
   ]
  },
  {
   "cell_type": "code",
   "execution_count": 31,
   "metadata": {},
   "outputs": [],
   "source": [
    "#analyze how the RMSE changed for particular user\n",
    "def error_change_user(predictions):\n",
    "    names = [\"0% fake ratings\", \"1% fake ratings\", \"10% fake ratings\", \"50% fake ratings\"]\n",
    "    columns = [\"% fake ratings\", \"RMSE\", \"% change in RMSE\"]\n",
    "    \n",
    "    #dataframe placeholder\n",
    "    df = pd.DataFrame()\n",
    "    \n",
    "    #retrieve actual mean rating from test data\n",
    "    actual_ratings = test_df[test_df[\"userID\"]==23][\"rating\"]\n",
    "    \n",
    "    for name in names:\n",
    "        #convert predictions into dataframe\n",
    "        preds = prediction_to_df(predictions[name])\n",
    "        \n",
    "        #extract the mean rating for user\n",
    "        predicted_ratings = preds[preds[\"userID\"]==23][\"rating\"]\n",
    "        \n",
    "        #calculate rmse for single user\n",
    "        rmse = sqrt(mse(actual_ratings, predicted_ratings))\n",
    "        \n",
    "        #since there is no error on test data, take the first predictions as baseline\n",
    "        if name == \"0% fake ratings\":\n",
    "            baseline_error = rmse\n",
    "            \n",
    "        #calculate percentage change in rating\n",
    "        change = round((rmse-baseline_error)/baseline_error*100, 4)\n",
    "        \n",
    "        #append new row to dataframe\n",
    "        df = df.append([[name[:3], rmse, change]], ignore_index = True)\n",
    "        \n",
    "    df.columns = columns\n",
    "    return show_table(df)"
   ]
  },
  {
   "cell_type": "code",
   "execution_count": 32,
   "metadata": {},
   "outputs": [
    {
     "name": "stdout",
     "output_type": "stream",
     "text": [
      "RMSE change for user 23 and SVD predictions\n",
      "\n"
     ]
    },
    {
     "data": {
      "text/html": [
       "<style  type=\"text/css\" >\n",
       "    #T_a1f32f82_5b66_11eb_ab0b_d35b31dde2a0 th {\n",
       "          text-align: center;\n",
       "    }#T_a1f32f82_5b66_11eb_ab0b_d35b31dde2a0row0_col0,#T_a1f32f82_5b66_11eb_ab0b_d35b31dde2a0row0_col1,#T_a1f32f82_5b66_11eb_ab0b_d35b31dde2a0row0_col2,#T_a1f32f82_5b66_11eb_ab0b_d35b31dde2a0row1_col0,#T_a1f32f82_5b66_11eb_ab0b_d35b31dde2a0row1_col1,#T_a1f32f82_5b66_11eb_ab0b_d35b31dde2a0row1_col2,#T_a1f32f82_5b66_11eb_ab0b_d35b31dde2a0row2_col0,#T_a1f32f82_5b66_11eb_ab0b_d35b31dde2a0row2_col1,#T_a1f32f82_5b66_11eb_ab0b_d35b31dde2a0row2_col2,#T_a1f32f82_5b66_11eb_ab0b_d35b31dde2a0row3_col0,#T_a1f32f82_5b66_11eb_ab0b_d35b31dde2a0row3_col1,#T_a1f32f82_5b66_11eb_ab0b_d35b31dde2a0row3_col2{\n",
       "            text-align:  center;\n",
       "        }</style><table id=\"T_a1f32f82_5b66_11eb_ab0b_d35b31dde2a0\" ><thead>    <tr>        <th class=\"col_heading level0 col0\" >% fake ratings</th>        <th class=\"col_heading level0 col1\" >RMSE</th>        <th class=\"col_heading level0 col2\" >% change in RMSE</th>    </tr></thead><tbody>\n",
       "                <tr>\n",
       "                                <td id=\"T_a1f32f82_5b66_11eb_ab0b_d35b31dde2a0row0_col0\" class=\"data row0 col0\" >0% </td>\n",
       "                        <td id=\"T_a1f32f82_5b66_11eb_ab0b_d35b31dde2a0row0_col1\" class=\"data row0 col1\" >0.8467</td>\n",
       "                        <td id=\"T_a1f32f82_5b66_11eb_ab0b_d35b31dde2a0row0_col2\" class=\"data row0 col2\" >0.0000</td>\n",
       "            </tr>\n",
       "            <tr>\n",
       "                                <td id=\"T_a1f32f82_5b66_11eb_ab0b_d35b31dde2a0row1_col0\" class=\"data row1 col0\" >1% </td>\n",
       "                        <td id=\"T_a1f32f82_5b66_11eb_ab0b_d35b31dde2a0row1_col1\" class=\"data row1 col1\" >0.8452</td>\n",
       "                        <td id=\"T_a1f32f82_5b66_11eb_ab0b_d35b31dde2a0row1_col2\" class=\"data row1 col2\" >-0.1709</td>\n",
       "            </tr>\n",
       "            <tr>\n",
       "                                <td id=\"T_a1f32f82_5b66_11eb_ab0b_d35b31dde2a0row2_col0\" class=\"data row2 col0\" >10%</td>\n",
       "                        <td id=\"T_a1f32f82_5b66_11eb_ab0b_d35b31dde2a0row2_col1\" class=\"data row2 col1\" >0.8590</td>\n",
       "                        <td id=\"T_a1f32f82_5b66_11eb_ab0b_d35b31dde2a0row2_col2\" class=\"data row2 col2\" >1.4572</td>\n",
       "            </tr>\n",
       "            <tr>\n",
       "                                <td id=\"T_a1f32f82_5b66_11eb_ab0b_d35b31dde2a0row3_col0\" class=\"data row3 col0\" >50%</td>\n",
       "                        <td id=\"T_a1f32f82_5b66_11eb_ab0b_d35b31dde2a0row3_col1\" class=\"data row3 col1\" >0.8786</td>\n",
       "                        <td id=\"T_a1f32f82_5b66_11eb_ab0b_d35b31dde2a0row3_col2\" class=\"data row3 col2\" >3.7709</td>\n",
       "            </tr>\n",
       "    </tbody></table>"
      ],
      "text/plain": [
       "<pandas.io.formats.style.Styler at 0x7f23e566b100>"
      ]
     },
     "metadata": {},
     "output_type": "display_data"
    }
   ],
   "source": [
    "print(\"RMSE change for user 23 and SVD predictions\\n\")\n",
    "result = error_change_user(svd_pred)\n",
    "dfi.export(result,\"results/scenario2/svd_23_error.png\")"
   ]
  },
  {
   "cell_type": "code",
   "execution_count": 33,
   "metadata": {},
   "outputs": [
    {
     "name": "stdout",
     "output_type": "stream",
     "text": [
      "RMSE change for user 23 and kNN predictions\n",
      "\n"
     ]
    },
    {
     "data": {
      "text/html": [
       "<style  type=\"text/css\" >\n",
       "    #T_a23b484e_5b66_11eb_ab0b_d35b31dde2a0 th {\n",
       "          text-align: center;\n",
       "    }#T_a23b484e_5b66_11eb_ab0b_d35b31dde2a0row0_col0,#T_a23b484e_5b66_11eb_ab0b_d35b31dde2a0row0_col1,#T_a23b484e_5b66_11eb_ab0b_d35b31dde2a0row0_col2,#T_a23b484e_5b66_11eb_ab0b_d35b31dde2a0row1_col0,#T_a23b484e_5b66_11eb_ab0b_d35b31dde2a0row1_col1,#T_a23b484e_5b66_11eb_ab0b_d35b31dde2a0row1_col2,#T_a23b484e_5b66_11eb_ab0b_d35b31dde2a0row2_col0,#T_a23b484e_5b66_11eb_ab0b_d35b31dde2a0row2_col1,#T_a23b484e_5b66_11eb_ab0b_d35b31dde2a0row2_col2,#T_a23b484e_5b66_11eb_ab0b_d35b31dde2a0row3_col0,#T_a23b484e_5b66_11eb_ab0b_d35b31dde2a0row3_col1,#T_a23b484e_5b66_11eb_ab0b_d35b31dde2a0row3_col2{\n",
       "            text-align:  center;\n",
       "        }</style><table id=\"T_a23b484e_5b66_11eb_ab0b_d35b31dde2a0\" ><thead>    <tr>        <th class=\"col_heading level0 col0\" >% fake ratings</th>        <th class=\"col_heading level0 col1\" >RMSE</th>        <th class=\"col_heading level0 col2\" >% change in RMSE</th>    </tr></thead><tbody>\n",
       "                <tr>\n",
       "                                <td id=\"T_a23b484e_5b66_11eb_ab0b_d35b31dde2a0row0_col0\" class=\"data row0 col0\" >0% </td>\n",
       "                        <td id=\"T_a23b484e_5b66_11eb_ab0b_d35b31dde2a0row0_col1\" class=\"data row0 col1\" >0.8675</td>\n",
       "                        <td id=\"T_a23b484e_5b66_11eb_ab0b_d35b31dde2a0row0_col2\" class=\"data row0 col2\" >0.0000</td>\n",
       "            </tr>\n",
       "            <tr>\n",
       "                                <td id=\"T_a23b484e_5b66_11eb_ab0b_d35b31dde2a0row1_col0\" class=\"data row1 col0\" >1% </td>\n",
       "                        <td id=\"T_a23b484e_5b66_11eb_ab0b_d35b31dde2a0row1_col1\" class=\"data row1 col1\" >0.8675</td>\n",
       "                        <td id=\"T_a23b484e_5b66_11eb_ab0b_d35b31dde2a0row1_col2\" class=\"data row1 col2\" >0.0017</td>\n",
       "            </tr>\n",
       "            <tr>\n",
       "                                <td id=\"T_a23b484e_5b66_11eb_ab0b_d35b31dde2a0row2_col0\" class=\"data row2 col0\" >10%</td>\n",
       "                        <td id=\"T_a23b484e_5b66_11eb_ab0b_d35b31dde2a0row2_col1\" class=\"data row2 col1\" >0.8676</td>\n",
       "                        <td id=\"T_a23b484e_5b66_11eb_ab0b_d35b31dde2a0row2_col2\" class=\"data row2 col2\" >0.0143</td>\n",
       "            </tr>\n",
       "            <tr>\n",
       "                                <td id=\"T_a23b484e_5b66_11eb_ab0b_d35b31dde2a0row3_col0\" class=\"data row3 col0\" >50%</td>\n",
       "                        <td id=\"T_a23b484e_5b66_11eb_ab0b_d35b31dde2a0row3_col1\" class=\"data row3 col1\" >0.8679</td>\n",
       "                        <td id=\"T_a23b484e_5b66_11eb_ab0b_d35b31dde2a0row3_col2\" class=\"data row3 col2\" >0.0377</td>\n",
       "            </tr>\n",
       "    </tbody></table>"
      ],
      "text/plain": [
       "<pandas.io.formats.style.Styler at 0x7f23e6302760>"
      ]
     },
     "metadata": {},
     "output_type": "display_data"
    }
   ],
   "source": [
    "print(\"RMSE change for user 23 and kNN predictions\\n\")\n",
    "result = error_change_user(knn_pred)\n",
    "dfi.export(result,\"results/scenario2/knn_23_error.png\")"
   ]
  },
  {
   "cell_type": "code",
   "execution_count": null,
   "metadata": {},
   "outputs": [],
   "source": []
  }
 ],
 "metadata": {
  "kernelspec": {
   "display_name": "Python 3",
   "language": "python",
   "name": "python3"
  },
  "language_info": {
   "codemirror_mode": {
    "name": "ipython",
    "version": 3
   },
   "file_extension": ".py",
   "mimetype": "text/x-python",
   "name": "python",
   "nbconvert_exporter": "python",
   "pygments_lexer": "ipython3",
   "version": "3.8.5"
  }
 },
 "nbformat": 4,
 "nbformat_minor": 4
}
