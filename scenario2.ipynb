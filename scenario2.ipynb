{
 "cells": [
  {
   "cell_type": "markdown",
   "metadata": {},
   "source": [
    "**Strategy**: Add fake users, who got paid to place 5.0 ratings for a particular movie.<br>\n",
    "Those fake users never rated anything before, so when we add them, they only have 5.0 rating for the movie we chose.<br>\n",
    "Also add 1%,10% and 50% of fake users from the total number of users.<br>\n",
    "Use the same popular and recent movie from *Scenario 1*, i.e. Men in Black, id = 257. <br>\n",
    "Again, check how it affects overall prediction quality as well as predictions for particular user."
   ]
  },
  {
   "cell_type": "code",
   "execution_count": 3,
   "metadata": {},
   "outputs": [],
   "source": [
    "import numpy as np\n",
    "import pandas as pd\n",
    "from surprise import SVD\n",
    "from surprise import Dataset, Reader, accuracy\n",
    "from surprise.model_selection import train_test_split\n",
    "from surprise.prediction_algorithms.knns import KNNBasic, KNNWithMeans, KNNWithZScore, KNNBaseline\n",
    "import random\n",
    "\n",
    "random.seed(48)"
   ]
  },
  {
   "cell_type": "code",
   "execution_count": 4,
   "metadata": {},
   "outputs": [],
   "source": [
    "#loading training data\n",
    "train_df = pd.read_csv(\"data/ml-100k/u1.base\", sep = \"\\t\", header = None, engine = \"python\",\n",
    "                    usecols = [0,1,2], names = [\"userID\",\"itemID\", \"rating\"],\n",
    "                    dtype={'userId': 'int32', 'movieId': 'int32', 'rating': 'float32'})\n",
    "\n",
    "#loading test data\n",
    "test_df = pd.read_csv(\"data/ml-100k/u1.test\", sep = \"\\t\", header = None, engine = \"python\",\n",
    "                    usecols = [0,1,2], names = [\"userID\",\"itemID\", \"rating\"],\n",
    "                    dtype={'userId': 'int32', 'movieId': 'int32', 'rating': 'float32'})"
   ]
  },
  {
   "cell_type": "code",
   "execution_count": 5,
   "metadata": {},
   "outputs": [],
   "source": [
    "reader = Reader(rating_scale=(1, 5))\n",
    "\n",
    "#getting the data into appropriate format\n",
    "train_dataset = Dataset.load_from_df(train_df, reader)\n",
    "trainset = train_dataset.build_full_trainset()\n",
    "testset = list(zip(*map(test_df.get, test_df)))"
   ]
  },
  {
   "cell_type": "code",
   "execution_count": 6,
   "metadata": {},
   "outputs": [],
   "source": [
    "#extract the mean ratings from the test data\n",
    "men_in_black_mean_rating = test_df[test_df[\"itemID\"]==257][\"rating\"].mean()\n",
    "lion_king_mean_rating = test_df[test_df[\"itemID\"]==71][\"rating\"].mean()"
   ]
  },
  {
   "cell_type": "code",
   "execution_count": 7,
   "metadata": {},
   "outputs": [],
   "source": [
    "#create dictionaries for storing mean ratings for both algorithms\n",
    "men_in_black_svd = {}\n",
    "men_in_black_svd[\"test data\"] = men_in_black_mean_rating\n",
    "\n",
    "men_in_black_knn = {}\n",
    "men_in_black_knn[\"test data\"] = men_in_black_mean_rating"
   ]
  },
  {
   "cell_type": "code",
   "execution_count": 8,
   "metadata": {},
   "outputs": [],
   "source": [
    "lion_king_svd = {}\n",
    "lion_king_svd[\"test data\"] = lion_king_mean_rating\n",
    "\n",
    "lion_king_knn = {}\n",
    "lion_king_knn[\"test data\"] = lion_king_mean_rating"
   ]
  },
  {
   "cell_type": "code",
   "execution_count": 9,
   "metadata": {},
   "outputs": [],
   "source": [
    "#function to append mean rating to corresponding dictionary\n",
    "def append_prediction(predictions, name, algorithm):\n",
    "    #convert the predictions to a dataframe\n",
    "    df = pd.DataFrame(predictions) \n",
    "    df = df.drop([\"r_ui\", \"details\"], axis=1)\n",
    "    df = df.rename(columns={\"uid\": \"userID\", \"iid\": \"itemID\", \"est\":\"rating\"})\n",
    "    \n",
    "    if algorithm == \"svd\":\n",
    "        #extract mean ratings for the three movies and append to the dictionary\n",
    "        rating = df[df[\"itemID\"]==257][\"rating\"].mean()\n",
    "        men_in_black_svd[name] = rating\n",
    "\n",
    "        rating = df[df[\"itemID\"]==71][\"rating\"].mean()\n",
    "        lion_king_svd[name] = rating\n",
    "    else:\n",
    "        rating = df[df[\"itemID\"]==257][\"rating\"].mean()\n",
    "        men_in_black_knn[name] = rating\n",
    "\n",
    "        rating = df[df[\"itemID\"]==71][\"rating\"].mean()\n",
    "        lion_king_knn[name] = rating"
   ]
  },
  {
   "cell_type": "code",
   "execution_count": 10,
   "metadata": {},
   "outputs": [],
   "source": [
    "def svd_prediction(trainset):\n",
    "    #justification for parameters is in the notebook \"model selection\"\n",
    "    svd = SVD(biased = True, n_factors = 150, n_epochs = 30, lr_all = 0.01, reg_all = 0.1)\n",
    "\n",
    "    # train the algorithm on the trainset, and predict ratings for the testset\n",
    "    svd.fit(trainset)\n",
    "    \n",
    "    #testset in this case is a global variable that doesn't change\n",
    "    predictions = svd.test(testset)\n",
    "\n",
    "    # compute RMSE\n",
    "    error = accuracy.rmse(predictions)\n",
    "    \n",
    "    return predictions, error"
   ]
  },
  {
   "cell_type": "code",
   "execution_count": 11,
   "metadata": {},
   "outputs": [
    {
     "name": "stdout",
     "output_type": "stream",
     "text": [
      "RMSE: 0.9268\n"
     ]
    }
   ],
   "source": [
    "svd_pred, svd_error = svd_prediction(trainset)"
   ]
  },
  {
   "cell_type": "code",
   "execution_count": 12,
   "metadata": {},
   "outputs": [],
   "source": [
    "append_prediction(svd_pred, \"0% fake ratings\", \"svd\")"
   ]
  },
  {
   "cell_type": "code",
   "execution_count": 13,
   "metadata": {},
   "outputs": [],
   "source": [
    "svd_dictionary = {}\n",
    "svd_dictionary[\"0% fake ratings\"] = svd_error"
   ]
  },
  {
   "cell_type": "code",
   "execution_count": 14,
   "metadata": {},
   "outputs": [],
   "source": [
    "def knn_prediction(trainset):\n",
    "    knn = KNNBaseline(verbose = False, sim_options = {\"name\":\"cosine\", \"user_based\":True})\n",
    "    knn.fit(trainset)\n",
    "    predictions = knn.test(testset)\n",
    "    error = accuracy.rmse(predictions)\n",
    "    \n",
    "    return predictions, error"
   ]
  },
  {
   "cell_type": "code",
   "execution_count": 15,
   "metadata": {},
   "outputs": [
    {
     "name": "stdout",
     "output_type": "stream",
     "text": [
      "RMSE: 0.9462\n"
     ]
    }
   ],
   "source": [
    "knn_pred, knn_error = knn_prediction(trainset)"
   ]
  },
  {
   "cell_type": "code",
   "execution_count": 16,
   "metadata": {},
   "outputs": [],
   "source": [
    "append_prediction(knn_pred, \"0% fake ratings\", \"knn\")"
   ]
  },
  {
   "cell_type": "code",
   "execution_count": 17,
   "metadata": {},
   "outputs": [],
   "source": [
    "knn_dictionary = {}\n",
    "knn_dictionary[\"0% fake ratings\"] = knn_error"
   ]
  },
  {
   "cell_type": "code",
   "execution_count": 18,
   "metadata": {},
   "outputs": [],
   "source": [
    "#notice the last userID, then just add fake users with ID's bigger than that\n",
    "num_users = len(train_df[\"userID\"].unique())\n",
    "\n",
    "def fake_users(percent = 0.01):\n",
    "    #make a copy of original train dataframe\n",
    "    fake_train_df = train_df.copy()\n",
    "    \n",
    "    #estimate the number of fake users to add\n",
    "    num_fake_users = int(percent*num_users)\n",
    "    \n",
    "    #actually add fake users\n",
    "    for i in range((num_users+1), (num_users+num_fake_users+1)):\n",
    "        temp_df = pd.DataFrame([[i, 257, 5.0]], columns = [\"userID\", \"itemID\", \"rating\"])\n",
    "        fake_train_df = fake_train_df.append(temp_df, ignore_index = True)\n",
    "        \n",
    "    #convert dataframe with fake users into object of Trainset class\n",
    "    fake_train_dataset = Dataset.load_from_df(fake_train_df, reader)\n",
    "    fake_trainset = fake_train_dataset.build_full_trainset()\n",
    "    \n",
    "    name = \"{}% fake ratings\".format(int(percent*100))\n",
    "\n",
    "    #run svd with fake users, append the mean rating and the error\n",
    "    prediction_svd, error_svd = svd_prediction(fake_trainset)\n",
    "    append_prediction(prediction_svd, name, \"svd\")\n",
    "    svd_dictionary[name] = error_svd\n",
    "    \n",
    "    #same for knn\n",
    "    prediction_knn, error_knn = knn_prediction(fake_trainset)\n",
    "    append_prediction(prediction_knn, name, \"knn\")\n",
    "    knn_dictionary[name] = error_knn"
   ]
  },
  {
   "cell_type": "code",
   "execution_count": 19,
   "metadata": {},
   "outputs": [
    {
     "name": "stdout",
     "output_type": "stream",
     "text": [
      "RMSE: 0.9271\n",
      "RMSE: 0.9462\n"
     ]
    }
   ],
   "source": [
    "fake_users(0.01)"
   ]
  },
  {
   "cell_type": "code",
   "execution_count": 20,
   "metadata": {},
   "outputs": [
    {
     "name": "stdout",
     "output_type": "stream",
     "text": [
      "RMSE: 0.9263\n",
      "RMSE: 0.9462\n"
     ]
    }
   ],
   "source": [
    "fake_users(0.1)"
   ]
  },
  {
   "cell_type": "code",
   "execution_count": 21,
   "metadata": {},
   "outputs": [
    {
     "name": "stdout",
     "output_type": "stream",
     "text": [
      "RMSE: 0.9282\n",
      "RMSE: 0.9462\n"
     ]
    }
   ],
   "source": [
    "fake_users(0.5)"
   ]
  },
  {
   "cell_type": "code",
   "execution_count": 28,
   "metadata": {},
   "outputs": [],
   "source": [
    "def analyze(changed_movie, unrelated_movie):\n",
    "    percentage_change_changed = []\n",
    "    percentage_change_unrelated = []\n",
    "    \n",
    "    #retrieve mean rating for movies withour fake ratings\n",
    "    baseline_changed = changed_movie[\"0% fake ratings\"]\n",
    "    baseline_unrelated = unrelated_movie[\"0% fake ratings\"]\n",
    "    \n",
    "    names = [\"1% fake ratings\", \"10% fake ratings\", \"50% fake ratings\"]\n",
    "    for name in names:\n",
    "        #percentage change for movie with fake ratings\n",
    "        change = (changed_movie[name]-baseline_changed)/baseline_changed*100\n",
    "        percentage_change_changed.append(round(change,2))\n",
    "        \n",
    "        #percentage change for unrelated movie\n",
    "        change = (unrelated_movie[name]-baseline_unrelated)/baseline_unrelated*100\n",
    "        percentage_change_unrelated.append(round(change,2))\n",
    "        \n",
    "    df = pd.DataFrame(zip([1,10,50], percentage_change_changed, percentage_change_unrelated), \n",
    "                      columns = [\"% fake ratings\", \"% change for Men in Black\", \"% change for Lion King\"])\n",
    "    print(df)"
   ]
  },
  {
   "cell_type": "code",
   "execution_count": 29,
   "metadata": {},
   "outputs": [
    {
     "name": "stdout",
     "output_type": "stream",
     "text": [
      "Mean Rating change for kNN\n",
      "   % fake ratings  % change for Men in Black  % change for Lion King\n",
      "0               1                       0.02                    0.00\n",
      "1              10                       0.13                    0.00\n",
      "2              50                       0.33                    0.01\n"
     ]
    }
   ],
   "source": [
    "print(\"Mean Rating change for kNN\")\n",
    "analyze(men_in_black_knn, lion_king_knn)"
   ]
  },
  {
   "cell_type": "code",
   "execution_count": 30,
   "metadata": {},
   "outputs": [
    {
     "name": "stdout",
     "output_type": "stream",
     "text": [
      "Mean Rating change for SVD\n",
      "   % fake ratings  % change for Men in Black  % change for Lion King\n",
      "0               1                       1.66                    0.54\n",
      "1              10                      14.23                    0.42\n",
      "2              50                      27.36                    0.43\n"
     ]
    }
   ],
   "source": [
    "print(\"Mean Rating change for SVD\")\n",
    "analyze(men_in_black_svd, lion_king_svd)"
   ]
  },
  {
   "cell_type": "code",
   "execution_count": 31,
   "metadata": {},
   "outputs": [
    {
     "name": "stdout",
     "output_type": "stream",
     "text": [
      "RMSE change for kNN\n",
      "   % fake ratings  % change for Men in Black  % change for Lion King\n",
      "0               1                       0.02                    0.00\n",
      "1              10                       0.13                    0.00\n",
      "2              50                       0.33                    0.01\n"
     ]
    }
   ],
   "source": [
    "print(\"RMSE change for kNN\")\n",
    "analyze(men_in_black_knn, lion_king_knn)"
   ]
  },
  {
   "cell_type": "code",
   "execution_count": 32,
   "metadata": {},
   "outputs": [
    {
     "name": "stdout",
     "output_type": "stream",
     "text": [
      "RMSE change for SVD\n",
      "   % fake ratings  % change for Men in Black  % change for Lion King\n",
      "0               1                       1.66                    0.54\n",
      "1              10                      14.23                    0.42\n",
      "2              50                      27.36                    0.43\n"
     ]
    }
   ],
   "source": [
    "print(\"RMSE change for SVD\")\n",
    "analyze(men_in_black_svd, lion_king_svd)"
   ]
  },
  {
   "cell_type": "code",
   "execution_count": null,
   "metadata": {},
   "outputs": [],
   "source": []
  }
 ],
 "metadata": {
  "kernelspec": {
   "display_name": "Python 3",
   "language": "python",
   "name": "python3"
  },
  "language_info": {
   "codemirror_mode": {
    "name": "ipython",
    "version": 3
   },
   "file_extension": ".py",
   "mimetype": "text/x-python",
   "name": "python",
   "nbconvert_exporter": "python",
   "pygments_lexer": "ipython3",
   "version": "3.8.5"
  }
 },
 "nbformat": 4,
 "nbformat_minor": 4
}
