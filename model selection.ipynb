{
 "cells": [
  {
   "cell_type": "code",
   "execution_count": 10,
   "metadata": {},
   "outputs": [],
   "source": [
    "import numpy as np\n",
    "import pandas as pd\n",
    "from surprise import SVD\n",
    "from surprise import Dataset, Reader, accuracy\n",
    "from surprise.model_selection import train_test_split\n",
    "from surprise.prediction_algorithms.knns import KNNBasic, KNNWithMeans, KNNWithZScore, KNNBaseline\n",
    "import random\n",
    "from surprise.model_selection import GridSearchCV\n",
    "\n",
    "random.seed(48)"
   ]
  },
  {
   "cell_type": "code",
   "execution_count": 5,
   "metadata": {},
   "outputs": [],
   "source": [
    "#loading training data\n",
    "train_df = pd.read_csv(\"data/ml-100k/u1.base\", sep = \"\\t\", header = None, engine = \"python\",\n",
    "                    usecols = [0,1,2], names = [\"userID\",\"itemID\", \"rating\"],\n",
    "                    dtype={'userId': 'int32', 'movieId': 'int32', 'rating': 'float32'})\n",
    "\n",
    "#loading test data\n",
    "test_df = pd.read_csv(\"data/ml-100k/u1.test\", sep = \"\\t\", header = None, engine = \"python\",\n",
    "                    usecols = [0,1,2], names = [\"userID\",\"itemID\", \"rating\"],\n",
    "                    dtype={'userId': 'int32', 'movieId': 'int32', 'rating': 'float32'})"
   ]
  },
  {
   "cell_type": "code",
   "execution_count": 6,
   "metadata": {},
   "outputs": [],
   "source": [
    "reader = Reader(rating_scale=(1, 5))\n",
    "\n",
    "#getting the data into appropriate format\n",
    "train_dataset = Dataset.load_from_df(train_df, reader)\n",
    "trainset = train_dataset.build_full_trainset()\n",
    "testset = list(zip(*map(test_df.get, test_df)))"
   ]
  },
  {
   "cell_type": "markdown",
   "metadata": {},
   "source": [
    "### Tuning for SVD algorithm."
   ]
  },
  {
   "cell_type": "code",
   "execution_count": 15,
   "metadata": {},
   "outputs": [],
   "source": [
    "param_grid = {'n_factors':[50,100,150],'n_epochs':[20,30],  'lr_all':[0.005,0.01],'reg_all':[0.02,0.1]}\n",
    "gs = GridSearchCV(SVD, param_grid, measures=['rmse'], cv=3)\n",
    "gs.fit(train_dataset)\n",
    "params = gs.best_params['rmse']"
   ]
  },
  {
   "cell_type": "code",
   "execution_count": 20,
   "metadata": {},
   "outputs": [],
   "source": [
    "#create SVD with best parameters\n",
    "svdtuned = SVD(n_factors=params['n_factors'], n_epochs=params['n_epochs'],lr_all=params['lr_all'], reg_all=params['reg_all'], biased = False)"
   ]
  },
  {
   "cell_type": "code",
   "execution_count": 16,
   "metadata": {},
   "outputs": [
    {
     "data": {
      "text/plain": [
       "{'n_factors': 150, 'n_epochs': 30, 'lr_all': 0.01, 'reg_all': 0.1}"
      ]
     },
     "execution_count": 16,
     "metadata": {},
     "output_type": "execute_result"
    }
   ],
   "source": [
    "params"
   ]
  },
  {
   "cell_type": "code",
   "execution_count": 21,
   "metadata": {},
   "outputs": [
    {
     "name": "stdout",
     "output_type": "stream",
     "text": [
      "RMSE: 0.9394\n"
     ]
    }
   ],
   "source": [
    "#actually train the algorithm and note the error\n",
    "svdtuned.fit(trainset)\n",
    "predictions = svdtuned.test(testset)\n",
    "error = accuracy.rmse(predictions)"
   ]
  },
  {
   "cell_type": "code",
   "execution_count": null,
   "metadata": {},
   "outputs": [],
   "source": [
    "#0.9268 - biased\n",
    "#0.9394 - unbiased"
   ]
  },
  {
   "cell_type": "markdown",
   "metadata": {},
   "source": [
    "We will be using SVD for both scenarios with the following parameters:<br>\n",
    "*n_factors* = 150, *n_epochs* = 30, *lr_all* = 0.01, *reg_all* = 0.1, *biased* = True"
   ]
  },
  {
   "cell_type": "markdown",
   "metadata": {},
   "source": [
    "### Choosing the best kNN algorithm"
   ]
  },
  {
   "cell_type": "code",
   "execution_count": 22,
   "metadata": {},
   "outputs": [],
   "source": [
    "knn_list = [(\"basic\",KNNBasic), (\"means\",KNNWithMeans), (\"z score\",KNNWithZScore), (\"baseline\",KNNBaseline)]"
   ]
  },
  {
   "cell_type": "code",
   "execution_count": 25,
   "metadata": {},
   "outputs": [
    {
     "name": "stdout",
     "output_type": "stream",
     "text": [
      "RMSE: 1.0491\n",
      "basic with rmse: 1.049\n",
      "RMSE: 0.9540\n",
      "means with rmse: 0.954\n",
      "RMSE: 0.9559\n",
      "z score with rmse: 0.9559\n",
      "RMSE: 0.9578\n",
      "baseline with rmse: 0.9578\n"
     ]
    }
   ],
   "source": [
    "#all variations of kNN here are item-based\n",
    "for name, algorithm in knn_list:\n",
    "    knn = algorithm(verbose = False, sim_options = {\"name\": \"cosine\", \"user_based\": False})\n",
    "    knn.fit(trainset)\n",
    "    predictions = knn.test(testset)\n",
    "    error = accuracy.rmse(predictions)\n",
    "    print(\"{} with rmse: {:.4}\".format(name, error))"
   ]
  },
  {
   "cell_type": "code",
   "execution_count": 24,
   "metadata": {},
   "outputs": [
    {
     "name": "stdout",
     "output_type": "stream",
     "text": [
      "RMSE: 1.0229\n",
      "basic with rmse: 1.023\n",
      "RMSE: 0.9703\n",
      "means with rmse: 0.9703\n",
      "RMSE: 0.9687\n",
      "z score with rmse: 0.9687\n",
      "RMSE: 0.9462\n",
      "baseline with rmse: 0.9462\n"
     ]
    }
   ],
   "source": [
    "#all variations are user-based\n",
    "for name, algorithm in knn_list:\n",
    "    knn = algorithm(verbose = False, sim_options = {\"name\": \"cosine\", \"user_based\": True})\n",
    "    knn.fit(trainset)\n",
    "    predictions = knn.test(testset)\n",
    "    error = accuracy.rmse(predictions)\n",
    "    print(\"{} with rmse: {:.4}\".format(name, error))"
   ]
  },
  {
   "cell_type": "markdown",
   "metadata": {},
   "source": [
    "*user-based* KNNBaseline performed the best with RMSE = 0.9462"
   ]
  },
  {
   "cell_type": "code",
   "execution_count": null,
   "metadata": {},
   "outputs": [],
   "source": []
  }
 ],
 "metadata": {
  "kernelspec": {
   "display_name": "Python 3",
   "language": "python",
   "name": "python3"
  },
  "language_info": {
   "codemirror_mode": {
    "name": "ipython",
    "version": 3
   },
   "file_extension": ".py",
   "mimetype": "text/x-python",
   "name": "python",
   "nbconvert_exporter": "python",
   "pygments_lexer": "ipython3",
   "version": "3.8.5"
  }
 },
 "nbformat": 4,
 "nbformat_minor": 4
}
